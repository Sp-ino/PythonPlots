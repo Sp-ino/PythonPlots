{
 "cells": [
  {
   "cell_type": "markdown",
   "id": "bf46d903",
   "metadata": {},
   "source": [
    "# MNIST dataset classification"
   ]
  },
  {
   "cell_type": "markdown",
   "id": "0d972ff1",
   "metadata": {},
   "source": [
    "## Preliminary operations"
   ]
  },
  {
   "cell_type": "markdown",
   "id": "3d83e33e",
   "metadata": {},
   "source": [
    "### Import modules"
   ]
  },
  {
   "cell_type": "code",
   "execution_count": null,
   "id": "83eefd98",
   "metadata": {},
   "outputs": [],
   "source": [
    "import numpy as np\n",
    "import matplotlib.pyplot as plt"
   ]
  },
  {
   "cell_type": "markdown",
   "id": "f64ede00",
   "metadata": {},
   "source": [
    "### Download file and load data"
   ]
  },
  {
   "cell_type": "code",
   "execution_count": null,
   "id": "0c219694",
   "metadata": {},
   "outputs": [
    {
     "name": "stdout",
     "output_type": "stream",
     "text": [
      "--2022-04-28 08:59:52--  https://s3.amazonaws.com/img-datasets/mnist.npz\n",
      "Caricato certificato CA \"/etc/ssl/certs/ca-certificates.crt\"\n",
      "\n",
      "Risoluzione di s3.amazonaws.com (s3.amazonaws.com)... 52.217.229.184\n",
      "Connessione a s3.amazonaws.com (s3.amazonaws.com)|52.217.229.184|:443... connesso.\n",
      "Richiesta HTTP inviata, in attesa di risposta... 200 OK\n",
      "Lunghezza: 11490434 (11M) [application/octet-stream]\n",
      "Salvataggio in: «mnist.npz.3»\n",
      "\n",
      "mnist.npz.3         100%[===================>]  10,96M   224KB/s    in 31s     \n",
      "\n",
      "2022-04-28 09:00:24 (361 KB/s) - «mnist.npz.3» salvato [11490434/11490434]\n",
      "\n"
     ]
    }
   ],
   "source": [
    "!wget https://s3.amazonaws.com/img-datasets/mnist.npz"
   ]
  },
  {
   "cell_type": "code",
   "execution_count": null,
   "id": "cfa1a388",
   "metadata": {},
   "outputs": [],
   "source": [
    "\"\"\"\n",
    "The dataset is downloaded as .npz file.\n",
    "When an .npz file is loaded with np.load()\n",
    "the result is a dictionary-like object whose\n",
    "elements are acccessible with data[\"label\"].\n",
    "The files attribute returns a list with\n",
    "the possible labels.\n",
    "Example:\n",
    "\n",
    "> data = np.load(\"file.npz\")\n",
    "> print(data.files)\n",
    "\"\"\"\n",
    "\n",
    "def return_ds():\n",
    "    path = \"mnist.npz\"\n",
    "\n",
    "    ds = np.load(path)\n",
    "    print(f\"loaded dataset with labels {ds.files}\\n\\\n",
    "Subsets are returned in the following order:\\n\\\n",
    "x_train, x_test, y_train, y_test\\n\")\n",
    "\n",
    "    return ds[ds.files[1]], ds[ds.files[0]], ds[ds.files[2]], ds[ds.files[3]]"
   ]
  },
  {
   "cell_type": "markdown",
   "id": "5505c021",
   "metadata": {},
   "source": [
    "## With PyTorch"
   ]
  },
  {
   "cell_type": "markdown",
   "id": "24cf0954",
   "metadata": {},
   "source": [
    "### Import modules"
   ]
  },
  {
   "cell_type": "code",
   "execution_count": 2,
   "id": "709a6db7",
   "metadata": {},
   "outputs": [],
   "source": [
    "import torch\n",
    "import torch.nn as nn\n",
    "import torch.nn.functional as F\n",
    "import torch.optim as opt\n",
    "from torch.utils.data import TensorDataset\n",
    "from torch.utils.data import DataLoader"
   ]
  },
  {
   "cell_type": "markdown",
   "id": "e97d4ad8",
   "metadata": {},
   "source": [
    "### Normalize data, create dataset, create dataloader"
   ]
  },
  {
   "cell_type": "code",
   "execution_count": 87,
   "id": "31874cf3",
   "metadata": {},
   "outputs": [
    {
     "name": "stdout",
     "output_type": "stream",
     "text": [
      "loaded dataset with labels ['x_test', 'x_train', 'y_train', 'y_test']\n",
      "Subsets are returned in the following order:\n",
      "x_train, x_test, y_train, y_test\n",
      "\n",
      "Training inputs shape: (60000, 28, 28)\n",
      "Validation inputs shape: (10000, 28, 28)\n",
      "Training outputs shape: (60000,)\n",
      "Validation outputs shape: (10000,)\n"
     ]
    }
   ],
   "source": [
    "# Load dataset\n",
    "x_train, x_test, y_train, y_test = return_ds()\n",
    "\n",
    "print(f\"Training inputs shape: {x_train.shape}\")\n",
    "print(f\"Validation inputs shape: {x_test.shape}\")\n",
    "print(f\"Training outputs shape: {y_train.shape}\")\n",
    "print(f\"Validation outputs shape: {y_test.shape}\")"
   ]
  },
  {
   "cell_type": "code",
   "execution_count": 88,
   "id": "d8e164e8",
   "metadata": {},
   "outputs": [],
   "source": [
    "# Normalize and convert to tensor\n",
    "x_train = (x_train - x_train.mean())/x_train.std()\n",
    "x_test = (x_test - x_test.mean())/x_test.std()\n",
    "\n",
    "x_train, x_test, y_train, y_test = map(\n",
    "                                        torch.tensor,\n",
    "                                        (x_train, x_test, y_train, y_test)\n",
    "                                        )\n",
    "\n",
    "# we need the following when converting from numpy\n",
    "# otherwise pytorch will complain when training a model\n",
    "torch.set_default_dtype(torch.float32)\n",
    "\n",
    "x_train = x_train.float()\n",
    "x_test = x_test.float()\n",
    "y_train = y_train.long()\n",
    "y_test = y_test.long()"
   ]
  },
  {
   "cell_type": "code",
   "execution_count": 127,
   "id": "abe22073",
   "metadata": {},
   "outputs": [],
   "source": [
    "# Create datasets and dataloader\n",
    "batch_sz = 100\n",
    "\n",
    "train_ds = TensorDataset(x_train, y_train)\n",
    "valid_ds = TensorDataset(x_test, y_test)\n",
    "mlp_train_ds = TensorDataset(x_train.reshape(-1, 28*28), y_train)\n",
    "mlp_valid_ds = TensorDataset(x_test.reshape(-1, 28*28), y_test)\n",
    "\n",
    "train_dl = DataLoader(train_ds, batch_size=batch_sz, shuffle=True)\n",
    "valid_dl = DataLoader(valid_ds, batch_size=batch_sz*4)\n",
    "mlp_train_dl = DataLoader(mlp_train_ds, batch_size=batch_sz, shuffle=True)\n",
    "mlp_valid_dl = DataLoader(mlp_valid_ds, batch_size=batch_sz*4)"
   ]
  },
  {
   "cell_type": "code",
   "execution_count": 128,
   "id": "88f42b89",
   "metadata": {},
   "outputs": [
    {
     "data": {
      "text/plain": [
       "torch.Size([10000, 784])"
      ]
     },
     "execution_count": 128,
     "metadata": {},
     "output_type": "execute_result"
    }
   ],
   "source": [
    "x_test.reshape(-1, 28*28).shape"
   ]
  },
  {
   "cell_type": "code",
   "execution_count": 129,
   "id": "e14c0ee9",
   "metadata": {},
   "outputs": [],
   "source": [
    "class MLP(nn.Module):\n",
    "    def __init__(self):\n",
    "        super().__init__()\n",
    "        self.layer1 = nn.Linear(784, 20)\n",
    "        self.layer2 = nn.Linear(20,15)\n",
    "        self.layer3 = nn.Linear(15, 10)\n",
    "\n",
    "    def forward(self, input):\n",
    "        x = F.relu(self.layer1(input))\n",
    "        x = F.relu(self.layer2(x))\n",
    "        return self.layer3(x)"
   ]
  },
  {
   "cell_type": "code",
   "execution_count": 130,
   "metadata": {},
   "outputs": [],
   "source": [
    "# define a cross entropy loss (or an mse loss)\n",
    "\n",
    "loss_func = F.cross_entropy\n",
    "# loss_func = F.mse_loss"
   ]
  },
  {
   "cell_type": "code",
   "execution_count": 166,
   "id": "4f02ce95",
   "metadata": {},
   "outputs": [],
   "source": [
    "# define functions for fitting model and evaluating\n",
    "\n",
    "def step(model, xb, yb, loss_func, opt):\n",
    "    loss = loss_func(model(xb), yb)\n",
    "\n",
    "    loss.backward()\n",
    "    opt.step()\n",
    "    opt.zero_grad()\n",
    "\n",
    "    return loss\n",
    "\n",
    "\n",
    "def fit(model, loss_func, train_dl, val_dl, epochs, opt):\n",
    "    for epoch in range(epochs):\n",
    "        model.train()\n",
    "        for train_xb, train_yb in train_dl:\n",
    "            loss = step(model, train_xb, train_yb, loss_func, opt)\n",
    "\n",
    "        print(f\"Training loss at epoch {epoch}: {loss:.2f}\")\n",
    "\n",
    "        model.eval()\n",
    "        with torch.no_grad():\n",
    "            loss = 0\n",
    "            for val_xb, val_yb in val_dl:\n",
    "                loss += loss_func(model(val_xb), val_yb)\n",
    "            loss = loss/len(val_dl)\n",
    "            print(f\"Validation loss at epoch {epoch}: {loss:.2f}\\n\")\n",
    "\n",
    "\n",
    "def eval_single_input(model, input):\n",
    "    out = model(input)\n",
    "    return torch.argmax(out)\n",
    "\n",
    "\n",
    "def eval(model, x_test, y_test):\n",
    "    n_success = 0\n",
    "    for n, (x, y) in enumerate(zip(x_test, y_test)):\n",
    "        out_model = eval_single_input(model, x)\n",
    "        n_success += (out_model == y)\n",
    "\n",
    "    return n_success.item()/n\n",
    "    \n"
   ]
  },
  {
   "cell_type": "code",
   "execution_count": 167,
   "id": "607039ff",
   "metadata": {},
   "outputs": [],
   "source": [
    "# instantiate a model and an optimizer\n",
    "\n",
    "lr = 0.1\n",
    "\n",
    "mlp_model = MLP()\n",
    "optim = opt.SGD(mlp_model.parameters(), lr=lr)"
   ]
  },
  {
   "cell_type": "code",
   "execution_count": 168,
   "id": "2674b858",
   "metadata": {},
   "outputs": [
    {
     "name": "stdout",
     "output_type": "stream",
     "text": [
      "Training loss at epoch 0: 0.34\n",
      "Validation loss at epoch 0: 0.27\n",
      "\n",
      "Training loss at epoch 1: 0.32\n",
      "Validation loss at epoch 1: 0.17\n",
      "\n",
      "Training loss at epoch 2: 0.09\n",
      "Validation loss at epoch 2: 0.15\n",
      "\n",
      "Training loss at epoch 3: 0.18\n",
      "Validation loss at epoch 3: 0.15\n",
      "\n",
      "Training loss at epoch 4: 0.10\n",
      "Validation loss at epoch 4: 0.16\n",
      "\n",
      "Training loss at epoch 5: 0.22\n",
      "Validation loss at epoch 5: 0.14\n",
      "\n",
      "Training loss at epoch 6: 0.09\n",
      "Validation loss at epoch 6: 0.13\n",
      "\n",
      "Training loss at epoch 7: 0.09\n",
      "Validation loss at epoch 7: 0.13\n",
      "\n",
      "Training loss at epoch 8: 0.09\n",
      "Validation loss at epoch 8: 0.13\n",
      "\n",
      "Training loss at epoch 9: 0.20\n",
      "Validation loss at epoch 9: 0.17\n",
      "\n"
     ]
    }
   ],
   "source": [
    "# fit the model\n",
    "\n",
    "fit(mlp_model, loss_func, mlp_train_dl, mlp_valid_dl, 10, optim)"
   ]
  },
  {
   "cell_type": "code",
   "execution_count": 169,
   "id": "1e9cd0ed",
   "metadata": {},
   "outputs": [
    {
     "data": {
      "text/plain": [
       "<matplotlib.image.AxesImage at 0x7fb5147c5570>"
      ]
     },
     "execution_count": 169,
     "metadata": {},
     "output_type": "execute_result"
    },
    {
     "data": {
      "image/png": "[encoded data removed]",
      "text/plain": [
       "<Figure size 432x288 with 1 Axes>"
      ]
     },
     "metadata": {
      "needs_background": "light"
     },
     "output_type": "display_data"
    }
   ],
   "source": [
    "im = x_test[76]\n",
    "plt.imshow(im)"
   ]
  },
  {
   "cell_type": "code",
   "execution_count": 170,
   "id": "f96f23a6",
   "metadata": {},
   "outputs": [
    {
     "data": {
      "text/plain": [
       "tensor(3)"
      ]
     },
     "execution_count": 170,
     "metadata": {},
     "output_type": "execute_result"
    }
   ],
   "source": [
    "eval_single_input(mlp_model, im.view(-1, 28*28))"
   ]
  },
  {
   "cell_type": "code",
   "execution_count": 172,
   "id": "b6f57a89",
   "metadata": {},
   "outputs": [
    {
     "name": "stdout",
     "output_type": "stream",
     "text": [
      "Validation accuracy: 94.88%\n"
     ]
    }
   ],
   "source": [
    "print(f\"Validation accuracy: \\\n",
    "{eval(mlp_model, x_test.view(10000, -1), y_test.view(10000, -1))*100:.2f}%\")"
   ]
  }
 ],
 "metadata": {
  "kernelspec": {
   "display_name": "Python 3 (ipykernel)",
   "language": "python",
   "name": "python3"
  },
  "language_info": {
   "codemirror_mode": {
    "name": "ipython",
    "version": 3
   },
   "file_extension": ".py",
   "mimetype": "text/x-python",
   "name": "python",
   "nbconvert_exporter": "python",
   "pygments_lexer": "ipython3",
   "version": "3.10.4"
  }
 },
 "nbformat": 4,
 "nbformat_minor": 5
}
