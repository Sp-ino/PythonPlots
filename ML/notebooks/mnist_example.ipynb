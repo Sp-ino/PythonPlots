{
 "cells": [
  {
   "cell_type": "markdown",
   "id": "bf46d903",
   "metadata": {},
   "source": [
    "# MNIST dataset classification"
   ]
  },
  {
   "cell_type": "markdown",
   "id": "0d972ff1",
   "metadata": {},
   "source": [
    "## Preliminary operations"
   ]
  },
  {
   "cell_type": "markdown",
   "id": "3d83e33e",
   "metadata": {},
   "source": [
    "### Import modules"
   ]
  },
  {
   "cell_type": "code",
   "execution_count": null,
   "id": "83eefd98",
   "metadata": {},
   "outputs": [],
   "source": [
    "import numpy as np\n",
    "import matplotlib.pyplot as plt"
   ]
  },
  {
   "cell_type": "markdown",
   "id": "f64ede00",
   "metadata": {},
   "source": [
    "### Download file and load data"
   ]
  },
  {
   "cell_type": "code",
   "execution_count": null,
   "id": "0c219694",
   "metadata": {},
   "outputs": [
    {
     "name": "stdout",
     "output_type": "stream",
     "text": [
      "--2022-04-28 08:59:52--  https://s3.amazonaws.com/img-datasets/mnist.npz\n",
      "Caricato certificato CA \"/etc/ssl/certs/ca-certificates.crt\"\n",
      "\n",
      "Risoluzione di s3.amazonaws.com (s3.amazonaws.com)... 52.217.229.184\n",
      "Connessione a s3.amazonaws.com (s3.amazonaws.com)|52.217.229.184|:443... connesso.\n",
      "Richiesta HTTP inviata, in attesa di risposta... 200 OK\n",
      "Lunghezza: 11490434 (11M) [application/octet-stream]\n",
      "Salvataggio in: «mnist.npz.3»\n",
      "\n",
      "mnist.npz.3         100%[===================>]  10,96M   224KB/s    in 31s     \n",
      "\n",
      "2022-04-28 09:00:24 (361 KB/s) - «mnist.npz.3» salvato [11490434/11490434]\n",
      "\n"
     ]
    }
   ],
   "source": [
    "!wget https://s3.amazonaws.com/img-datasets/mnist.npz"
   ]
  },
  {
   "cell_type": "code",
   "execution_count": null,
   "id": "cfa1a388",
   "metadata": {},
   "outputs": [],
   "source": [
    "\"\"\"\n",
    "The dataset is downloaded as .npz file.\n",
    "When an .npz file is loaded with np.load()\n",
    "the result is a dictionary-like object whose\n",
    "elements are acccessible with data[\"label\"].\n",
    "The files attribute returns a list with\n",
    "the possible labels.\n",
    "Example:\n",
    "\n",
    "> data = np.load(\"file.npz\")\n",
    "> print(data.files)\n",
    "\"\"\"\n",
    "\n",
    "def return_ds():\n",
    "    path = \"mnist.npz\"\n",
    "\n",
    "    ds = np.load(path)\n",
    "    print(f\"loaded dataset with labels {ds.files}\\n\\\n",
    "Subsets are returned in the following order:\\n\\\n",
    "x_train, x_test, y_train, y_test\\n\")\n",
    "\n",
    "    return ds[ds.files[1]], ds[ds.files[0]], ds[ds.files[2]], ds[ds.files[3]]"
   ]
  },
  {
   "cell_type": "markdown",
   "id": "5505c021",
   "metadata": {},
   "source": [
    "## With PyTorch"
   ]
  },
  {
   "cell_type": "markdown",
   "id": "24cf0954",
   "metadata": {},
   "source": [
    "### Import modules"
   ]
  },
  {
   "cell_type": "code",
   "execution_count": 180,
   "id": "709a6db7",
   "metadata": {},
   "outputs": [],
   "source": [
    "import torch\n",
    "import torch.nn as nn\n",
    "import torch.nn.functional as F\n",
    "import torch.optim as opt\n",
    "from torch.utils.data import TensorDataset\n",
    "from torch.utils.data import DataLoader"
   ]
  },
  {
   "cell_type": "markdown",
   "id": "e97d4ad8",
   "metadata": {},
   "source": [
    "### Normalize data, create dataset, create dataloader"
   ]
  },
  {
   "cell_type": "code",
   "execution_count": 181,
   "id": "31874cf3",
   "metadata": {},
   "outputs": [
    {
     "name": "stdout",
     "output_type": "stream",
     "text": [
      "loaded dataset with labels ['x_test', 'x_train', 'y_train', 'y_test']\n",
      "Subsets are returned in the following order:\n",
      "x_train, x_test, y_train, y_test\n",
      "\n",
      "Training inputs shape: (60000, 28, 28)\n",
      "Validation inputs shape: (10000, 28, 28)\n",
      "Training outputs shape: (60000,)\n",
      "Validation outputs shape: (10000,)\n"
     ]
    }
   ],
   "source": [
    "# Load dataset\n",
    "x_train, x_test, y_train, y_test = return_ds()\n",
    "\n",
    "print(f\"Training inputs shape: {x_train.shape}\")\n",
    "print(f\"Validation inputs shape: {x_test.shape}\")\n",
    "print(f\"Training outputs shape: {y_train.shape}\")\n",
    "print(f\"Validation outputs shape: {y_test.shape}\")"
   ]
  },
  {
   "cell_type": "code",
   "execution_count": 471,
   "id": "d8e164e8",
   "metadata": {},
   "outputs": [
    {
     "name": "stderr",
     "output_type": "stream",
     "text": [
      "/tmp/ipykernel_2679/745248417.py:5: UserWarning: To copy construct from a tensor, it is recommended to use sourceTensor.clone().detach() or sourceTensor.clone().detach().requires_grad_(True), rather than torch.tensor(sourceTensor).\n",
      "  x_train, x_test, y_train, y_test = map(\n"
     ]
    }
   ],
   "source": [
    "# Normalize and convert to tensor\n",
    "x_train = (x_train - x_train.mean())/x_train.std()\n",
    "x_test = (x_test - x_test.mean())/x_test.std()\n",
    "\n",
    "x_train, x_test, y_train, y_test = map(\n",
    "                                        torch.tensor,\n",
    "                                        (x_train, x_test, y_train, y_test)\n",
    "                                        )\n",
    "\n",
    "# we need the following when converting from numpy\n",
    "# otherwise pytorch will complain when training a model\n",
    "torch.set_default_dtype(torch.float32)\n",
    "\n",
    "x_train = x_train.float()\n",
    "x_test = x_test.float()\n",
    "y_train = y_train.long()\n",
    "y_test = y_test.long()"
   ]
  },
  {
   "cell_type": "code",
   "execution_count": 488,
   "id": "abe22073",
   "metadata": {},
   "outputs": [],
   "source": [
    "# Create datasets and dataloader\n",
    "batch_sz = 100\n",
    "\n",
    "cnn_train_ds = TensorDataset(x_train.unsqueeze(1), y_train)\n",
    "cnn_valid_ds = TensorDataset(x_test.unsqueeze(1), y_test)\n",
    "mlp_train_ds = TensorDataset(x_train.reshape(-1, 28*28), y_train)\n",
    "mlp_valid_ds = TensorDataset(x_test.reshape(-1, 28*28), y_test)\n",
    "\n",
    "cnn_train_dl = DataLoader(cnn_train_ds, batch_size=batch_sz, shuffle=True)\n",
    "cnn_valid_dl = DataLoader(cnn_valid_ds, batch_size=batch_sz*4)\n",
    "mlp_train_dl = DataLoader(mlp_train_ds, batch_size=batch_sz, shuffle=True)\n",
    "mlp_valid_dl = DataLoader(mlp_valid_ds, batch_size=batch_sz*4)"
   ]
  },
  {
   "cell_type": "markdown",
   "id": "b76881a1",
   "metadata": {},
   "source": [
    "### Define utility functions"
   ]
  },
  {
   "cell_type": "code",
   "execution_count": 881,
   "id": "4f02ce95",
   "metadata": {},
   "outputs": [],
   "source": [
    "# define functions for fitting model and evaluating\n",
    "\n",
    "def step(model: torch.nn.Module,\n",
    "        xb: torch.Tensor,\n",
    "        yb: torch.Tensor,\n",
    "        loss_func: callable,\n",
    "        opt: torch.optim.Optimizer):\n",
    "        \n",
    "    loss = loss_func(model(xb), yb)\n",
    "\n",
    "    loss.backward()\n",
    "    opt.step()\n",
    "    opt.zero_grad()\n",
    "\n",
    "    return loss\n",
    "\n",
    "\n",
    "def fit(model: torch.nn.Module, \n",
    "        loss_func: callable,\n",
    "        train_dl: torch.utils.data.DataLoader,\n",
    "        val_dl: torch.utils.data.DataLoader,\n",
    "        epochs: int,\n",
    "        opt: torch.optim.Optimizer):\n",
    "\n",
    "    for epoch in range(epochs):\n",
    "        model.train()\n",
    "        for train_xb, train_yb in train_dl:\n",
    "            loss = step(model, train_xb, train_yb, loss_func, opt)\n",
    "\n",
    "        print(f\"Training loss at epoch {epoch}: {loss:.2f}\")\n",
    "\n",
    "        model.eval()\n",
    "        with torch.no_grad():\n",
    "            loss = 0\n",
    "            for val_xb, val_yb in val_dl:\n",
    "                loss += loss_func(model(val_xb), val_yb)\n",
    "            loss = loss/len(val_dl)\n",
    "            print(f\"Validation loss at epoch {epoch}: {loss:.2f}\\n\")\n",
    "\n",
    "\n",
    "def eval_single_input(model, input):\n",
    "    out = model(input)\n",
    "    return torch.argmax(out)\n",
    "\n",
    "\n",
    "def eval(model, test_x, test_y):\n",
    "    n_success = 0\n",
    "    for n, (x, y) in enumerate(zip(test_x, test_y)):\n",
    "        out_model = eval_single_input(model, x)\n",
    "        n_success += (out_model == y)\n",
    "\n",
    "    return n_success.item()/n\n"
   ]
  },
  {
   "cell_type": "markdown",
   "id": "c91b0981",
   "metadata": {},
   "source": [
    "### Define and train an MLP"
   ]
  },
  {
   "cell_type": "code",
   "execution_count": 882,
   "id": "e14c0ee9",
   "metadata": {},
   "outputs": [],
   "source": [
    "# Define an MLP\n",
    "# might add input and output types to methods of the class\n",
    "# also, arguments that specify how many inputs the network must expect might be good\n",
    "\n",
    "class MLP(nn.Module):\n",
    "    def __init__(self):\n",
    "        super().__init__()\n",
    "        self.layer1 = nn.Linear(784, 20)\n",
    "        self.layer2 = nn.Linear(20,15)\n",
    "        self.layer3 = nn.Linear(15, 10)\n",
    "\n",
    "    def forward(self, input):\n",
    "        x = F.relu(self.layer1(input))\n",
    "        x = F.relu(self.layer2(x))\n",
    "        out = self.layer3(x)\n",
    "        # out = F.log_softmax(self.layer3(x), dim = 1) #we use this if we choose nll_loss\n",
    "        return out"
   ]
  },
  {
   "cell_type": "code",
   "execution_count": 883,
   "id": "e7267c66",
   "metadata": {},
   "outputs": [],
   "source": [
    "# define a cross entropy loss (or a nll loss)\n",
    "\n",
    "loss_func = F.cross_entropy\n",
    "# loss_func = F.nll_loss"
   ]
  },
  {
   "cell_type": "code",
   "execution_count": 884,
   "id": "607039ff",
   "metadata": {},
   "outputs": [],
   "source": [
    "# instantiate a model and an optimizer\n",
    "\n",
    "lr = 0.1\n",
    "\n",
    "mlp_model = MLP()\n",
    "optim = opt.SGD(mlp_model.parameters(), lr=lr)"
   ]
  },
  {
   "cell_type": "code",
   "execution_count": 885,
   "id": "db2a6753",
   "metadata": {},
   "outputs": [
    {
     "data": {
      "text/plain": [
       "tensor([[-0.2116,  0.3192, -0.2332, -0.1447, -0.1939, -0.0026, -0.1673,  0.1839,\n",
       "         -0.2899, -0.1653]], grad_fn=<AddmmBackward0>)"
      ]
     },
     "execution_count": 885,
     "metadata": {},
     "output_type": "execute_result"
    }
   ],
   "source": [
    "\"\"\"\n",
    "IMPORTANT\n",
    "The model expects a rank-2 tensor as input, because the first dimension\n",
    "corresponds to the batch size.\n",
    "\"\"\"\n",
    "\n",
    "# get a batch\n",
    "xb, yb = next(iter(mlp_train_dl))\n",
    "\n",
    "# evaluate loss for this batch\n",
    "loss_func(mlp_model(xb), yb)\n",
    "\n",
    "# compute output for a single element of the batch\n",
    "# note that I need to unsqueeze to get a (1, 784) input to pass to the model\n",
    "mlp_model(xb[0].unsqueeze(0))"
   ]
  },
  {
   "cell_type": "code",
   "execution_count": 886,
   "id": "2674b858",
   "metadata": {},
   "outputs": [
    {
     "name": "stdout",
     "output_type": "stream",
     "text": [
      "Training loss at epoch 0: 0.35\n",
      "Validation loss at epoch 0: 0.29\n",
      "\n",
      "Training loss at epoch 1: 0.20\n",
      "Validation loss at epoch 1: 0.19\n",
      "\n",
      "Training loss at epoch 2: 0.12\n",
      "Validation loss at epoch 2: 0.16\n",
      "\n",
      "Training loss at epoch 3: 0.11\n",
      "Validation loss at epoch 3: 0.16\n",
      "\n",
      "Training loss at epoch 4: 0.26\n",
      "Validation loss at epoch 4: 0.16\n",
      "\n",
      "Training loss at epoch 5: 0.09\n",
      "Validation loss at epoch 5: 0.15\n",
      "\n",
      "Training loss at epoch 6: 0.13\n",
      "Validation loss at epoch 6: 0.15\n",
      "\n",
      "Training loss at epoch 7: 0.13\n",
      "Validation loss at epoch 7: 0.15\n",
      "\n",
      "Training loss at epoch 8: 0.06\n",
      "Validation loss at epoch 8: 0.14\n",
      "\n",
      "Training loss at epoch 9: 0.08\n",
      "Validation loss at epoch 9: 0.15\n",
      "\n"
     ]
    }
   ],
   "source": [
    "# fit the model\n",
    "n_epochs = 10\n",
    "\n",
    "fit(mlp_model, loss_func, mlp_train_dl, mlp_valid_dl, n_epochs, optim)"
   ]
  },
  {
   "cell_type": "code",
   "execution_count": 887,
   "id": "1e9cd0ed",
   "metadata": {},
   "outputs": [
    {
     "data": {
      "text/plain": [
       "<matplotlib.image.AxesImage at 0x7fb500861c30>"
      ]
     },
     "execution_count": 887,
     "metadata": {},
     "output_type": "execute_result"
    },
    {
     "data": {
      "image/png": "[encoded data removed]",
      "text/plain": [
       "<Figure size 432x288 with 1 Axes>"
      ]
     },
     "metadata": {
      "needs_background": "light"
     },
     "output_type": "display_data"
    }
   ],
   "source": [
    "im = x_test[104]\n",
    "plt.imshow(im)"
   ]
  },
  {
   "cell_type": "code",
   "execution_count": 888,
   "id": "f96f23a6",
   "metadata": {},
   "outputs": [
    {
     "name": "stdout",
     "output_type": "stream",
     "text": [
      "This digit is a 9 according to my model.\n"
     ]
    }
   ],
   "source": [
    "print(f\"This digit is a \\\n",
    "{eval_single_input(mlp_model, im.view(-1, 28*28)).item()} \\\n",
    "according to my model.\")"
   ]
  },
  {
   "cell_type": "code",
   "execution_count": 889,
   "id": "b6f57a89",
   "metadata": {},
   "outputs": [
    {
     "name": "stdout",
     "output_type": "stream",
     "text": [
      "Validation accuracy over validation set: 95.92%\n"
     ]
    }
   ],
   "source": [
    "print(f\"Validation accuracy over validation set: \\\n",
    "{eval(mlp_model, x_test.view(-1, 784), y_test.view(-1,1))*100:.2f}%\")"
   ]
  },
  {
   "cell_type": "markdown",
   "id": "f17f341d",
   "metadata": {},
   "source": [
    "### Define and train a CNN"
   ]
  },
  {
   "cell_type": "code",
   "execution_count": 890,
   "id": "fcbfb0ed",
   "metadata": {},
   "outputs": [],
   "source": [
    "# define a CNN\n",
    "# using several channels internally noticeably improves performance (obviously training slows down)\n",
    "\n",
    "# might add input and output types to methods of the class\n",
    "# also, arguments that specify how many inputs the network must expect might be good\n",
    "\n",
    "class CNN(nn.Module):\n",
    "    def __init__(self):\n",
    "        super().__init__()\n",
    "        self.conv1 = nn.Conv2d(1, 12, kernel_size=4, padding=(2,2), padding_mode=\"zeros\")\n",
    "        self.conv2 = nn.Conv2d(12, 9, kernel_size=3, padding=(1,1), padding_mode=\"zeros\")\n",
    "        self.conv3 = nn.Conv2d(9, 9, kernel_size=3, padding=(1,1), padding_mode=\"zeros\")\n",
    "        self.dense1 = nn.Linear(49*9, 10)\n",
    "\n",
    "    def forward(self, input):\n",
    "        x = F.relu(self.conv1(input))\n",
    "        x = F.avg_pool2d(x, kernel_size=2)\n",
    "        x = F.relu(self.conv2(x))\n",
    "        x = F.relu(self.conv3(x))\n",
    "        x = F.avg_pool2d(x, kernel_size=2)\n",
    "        x = x.reshape(-1, 49*9)\n",
    "        out = self.dense1(x)\n",
    "        return out\n",
    "        "
   ]
  },
  {
   "cell_type": "code",
   "execution_count": 891,
   "id": "204cac9f",
   "metadata": {},
   "outputs": [],
   "source": [
    "# define a loss\n",
    "\n",
    "loss_func = F.cross_entropy"
   ]
  },
  {
   "cell_type": "code",
   "execution_count": 892,
   "id": "bd83bac6",
   "metadata": {},
   "outputs": [],
   "source": [
    "# instantiate model and optimizer\n",
    "\n",
    "lr = 0.1\n",
    "\n",
    "cnn_model = CNN()\n",
    "optim = opt.SGD(cnn_model.parameters(), lr=lr)"
   ]
  },
  {
   "cell_type": "code",
   "execution_count": 893,
   "id": "b436b246",
   "metadata": {},
   "outputs": [
    {
     "name": "stdout",
     "output_type": "stream",
     "text": [
      "xb has shape torch.Size([100, 1, 28, 28])\n",
      "\n",
      "sample from xb has shape torch.Size([1, 1, 28, 28])\n",
      "\n",
      "Output from a batch sample: tensor([[-0.0180, -0.0129, -0.0721,  0.0545, -0.0266, -0.0892,  0.0764, -0.0102,\n",
      "          0.1069,  0.0263]], grad_fn=<AddmmBackward0>)\n"
     ]
    }
   ],
   "source": [
    "xb, yb = next(iter(cnn_train_dl))\n",
    "sample = xb[0].unsqueeze(0)\n",
    "\n",
    "print(f\"xb has shape {xb.shape}\\n\")\n",
    "print(f\"sample from xb has shape {sample.shape}\\n\")\n",
    "\n",
    "print(f\"Output from a batch sample: {cnn_model(sample)}\")"
   ]
  },
  {
   "cell_type": "code",
   "execution_count": 894,
   "id": "295ffffb",
   "metadata": {},
   "outputs": [
    {
     "name": "stdout",
     "output_type": "stream",
     "text": [
      "Training loss at epoch 0: 0.13\n",
      "Validation loss at epoch 0: 0.12\n",
      "\n",
      "Training loss at epoch 1: 0.34\n",
      "Validation loss at epoch 1: 0.08\n",
      "\n",
      "Training loss at epoch 2: 0.05\n",
      "Validation loss at epoch 2: 0.06\n",
      "\n",
      "Training loss at epoch 3: 0.12\n",
      "Validation loss at epoch 3: 0.06\n",
      "\n",
      "Training loss at epoch 4: 0.04\n",
      "Validation loss at epoch 4: 0.05\n",
      "\n",
      "Training loss at epoch 5: 0.03\n",
      "Validation loss at epoch 5: 0.05\n",
      "\n"
     ]
    }
   ],
   "source": [
    "n_epochs = 6\n",
    "\n",
    "fit(cnn_model, loss_func, cnn_train_dl, cnn_valid_dl, n_epochs, optim)"
   ]
  },
  {
   "cell_type": "code",
   "execution_count": 895,
   "id": "c029316a",
   "metadata": {},
   "outputs": [
    {
     "name": "stdout",
     "output_type": "stream",
     "text": [
      "Validation accuracy over validation set: 98.40%\n"
     ]
    }
   ],
   "source": [
    "x_samples = x_test.unsqueeze(1).unsqueeze(1)\n",
    "y_samples = y_test.unsqueeze(1).unsqueeze(1)\n",
    "\n",
    "print(f\"Validation accuracy over validation set: \\\n",
    "{eval(cnn_model, x_samples, y_samples)*100:.2f}%\")"
   ]
  }
 ],
 "metadata": {
  "kernelspec": {
   "display_name": "Python 3 (ipykernel)",
   "language": "python",
   "name": "python3"
  },
  "language_info": {
   "codemirror_mode": {
    "name": "ipython",
    "version": 3
   },
   "file_extension": ".py",
   "mimetype": "text/x-python",
   "name": "python",
   "nbconvert_exporter": "python",
   "pygments_lexer": "ipython3",
   "version": "3.10.4"
  }
 },
 "nbformat": 4,
 "nbformat_minor": 5
}
