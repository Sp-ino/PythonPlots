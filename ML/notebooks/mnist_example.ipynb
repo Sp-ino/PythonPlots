{
 "cells": [
  {
   "cell_type": "markdown",
   "id": "bf46d903",
   "metadata": {},
   "source": [
    "# MNIST dataset classification"
   ]
  },
  {
   "cell_type": "markdown",
   "id": "0d972ff1",
   "metadata": {},
   "source": [
    "## Preliminary operations"
   ]
  },
  {
   "cell_type": "markdown",
   "id": "3d83e33e",
   "metadata": {},
   "source": [
    "### Import modules"
   ]
  },
  {
   "cell_type": "code",
   "execution_count": 3,
   "id": "83eefd98",
   "metadata": {},
   "outputs": [],
   "source": [
    "import numpy as np\n",
    "import matplotlib.pyplot as plt"
   ]
  },
  {
   "cell_type": "markdown",
   "id": "f64ede00",
   "metadata": {},
   "source": [
    "### Download file and load data"
   ]
  },
  {
   "cell_type": "code",
   "execution_count": 4,
   "id": "0c219694",
   "metadata": {},
   "outputs": [
    {
     "name": "stdout",
     "output_type": "stream",
     "text": [
      "--2022-11-06 17:39:39--  https://s3.amazonaws.com/img-datasets/mnist.npz\n",
      "Caricato certificato CA \"/etc/ssl/certs/ca-certificates.crt\"\n",
      "\n",
      "Risoluzione di s3.amazonaws.com (s3.amazonaws.com)... 54.231.132.208\n",
      "Connessione a s3.amazonaws.com (s3.amazonaws.com)|54.231.132.208|:443... connesso.\n",
      "Richiesta HTTP inviata, in attesa di risposta... 200 OK\n",
      "Lunghezza: 11490434 (11M) [application/octet-stream]\n",
      "Salvataggio in: «mnist.npz.2»\n",
      "\n",
      "mnist.npz.2         100%[===================>]  10,96M  2,94MB/s    in 5,0s    \n",
      "\n",
      "2022-11-06 17:39:45 (2,17 MB/s) - «mnist.npz.2» salvato [11490434/11490434]\n",
      "\n"
     ]
    }
   ],
   "source": [
    "!wget https://s3.amazonaws.com/img-datasets/mnist.npz"
   ]
  },
  {
   "cell_type": "code",
   "execution_count": 4,
   "id": "cfa1a388",
   "metadata": {},
   "outputs": [],
   "source": [
    "\"\"\"\n",
    "The dataset is downloaded as .npz file.\n",
    "When an .npz file is loaded with np.load()\n",
    "the result is a dictionary-like object whose\n",
    "elements are acccessible with data[\"label\"].\n",
    "The files attribute returns a list with\n",
    "the possible labels.\n",
    "Example:\n",
    "\n",
    "> data = np.load(\"file.npz\")\n",
    "> print(data.files)\n",
    "\"\"\"\n",
    "\n",
    "def return_ds():\n",
    "    path = \"mnist.npz\"\n",
    "\n",
    "    ds = np.load(path)\n",
    "    print(f\"loaded dataset with labels {ds.files}\\n\\\n",
    "Subsets are returned in the following order:\\n\\\n",
    "x_train, x_test, y_train, y_test\\n\")\n",
    "\n",
    "    return ds[ds.files[1]], ds[ds.files[0]], ds[ds.files[2]], ds[ds.files[3]]"
   ]
  },
  {
   "cell_type": "markdown",
   "id": "5505c021",
   "metadata": {},
   "source": [
    "## With PyTorch"
   ]
  },
  {
   "cell_type": "markdown",
   "id": "24cf0954",
   "metadata": {},
   "source": [
    "### Import modules"
   ]
  },
  {
   "cell_type": "code",
   "execution_count": 5,
   "id": "709a6db7",
   "metadata": {},
   "outputs": [],
   "source": [
    "import torch\n",
    "import torch.nn as nn\n",
    "import torch.nn.functional as F\n",
    "import torch.optim as opt\n",
    "from torch.utils.data import TensorDataset\n",
    "from torch.utils.data import DataLoader"
   ]
  },
  {
   "cell_type": "markdown",
   "id": "e97d4ad8",
   "metadata": {},
   "source": [
    "### Normalize data, create dataset, create dataloader"
   ]
  },
  {
   "cell_type": "code",
   "execution_count": 6,
   "id": "31874cf3",
   "metadata": {},
   "outputs": [
    {
     "name": "stdout",
     "output_type": "stream",
     "text": [
      "loaded dataset with labels ['x_test', 'x_train', 'y_train', 'y_test']\n",
      "Subsets are returned in the following order:\n",
      "x_train, x_test, y_train, y_test\n",
      "\n",
      "Training inputs shape: (60000, 28, 28)\n",
      "Validation inputs shape: (10000, 28, 28)\n",
      "Training outputs shape: (60000,)\n",
      "Validation outputs shape: (10000,)\n"
     ]
    }
   ],
   "source": [
    "# Load dataset\n",
    "x_train, x_test, y_train, y_test = return_ds()\n",
    "\n",
    "print(f\"Training inputs shape: {x_train.shape}\")\n",
    "print(f\"Validation inputs shape: {x_test.shape}\")\n",
    "print(f\"Training outputs shape: {y_train.shape}\")\n",
    "print(f\"Validation outputs shape: {y_test.shape}\")"
   ]
  },
  {
   "cell_type": "code",
   "execution_count": 7,
   "id": "d8e164e8",
   "metadata": {},
   "outputs": [],
   "source": [
    "# Normalize and convert to tensor\n",
    "x_train = (x_train - x_train.mean())/x_train.std()\n",
    "x_test = (x_test - x_test.mean())/x_test.std()\n",
    "\n",
    "x_train, x_test, y_train, y_test = map(torch.tensor,\n",
    "                                        (x_train, x_test, y_train, y_test))\n",
    "\n",
    "# we need the following when converting from numpy\n",
    "# otherwise pytorch will complain when training a model\n",
    "torch.set_default_dtype(torch.float32)\n",
    "\n",
    "x_train = x_train.float()\n",
    "x_test = x_test.float()\n",
    "y_train = y_train.long()\n",
    "y_test = y_test.long()"
   ]
  },
  {
   "cell_type": "code",
   "execution_count": 8,
   "id": "abe22073",
   "metadata": {},
   "outputs": [],
   "source": [
    "# Create datasets and dataloader\n",
    "batch_sz = 100\n",
    "\n",
    "cnn_train_ds = TensorDataset(x_train.unsqueeze(1), y_train)\n",
    "cnn_valid_ds = TensorDataset(x_test.unsqueeze(1), y_test)\n",
    "mlp_train_ds = TensorDataset(x_train.reshape(-1, 28*28), y_train)\n",
    "mlp_valid_ds = TensorDataset(x_test.reshape(-1, 28*28), y_test)\n",
    "\n",
    "cnn_train_dl = DataLoader(cnn_train_ds, batch_size=batch_sz, shuffle=True)\n",
    "cnn_valid_dl = DataLoader(cnn_valid_ds, batch_size=batch_sz*4)\n",
    "mlp_train_dl = DataLoader(mlp_train_ds, batch_size=batch_sz, shuffle=True)\n",
    "mlp_valid_dl = DataLoader(mlp_valid_ds, batch_size=batch_sz*4)"
   ]
  },
  {
   "cell_type": "markdown",
   "id": "b76881a1",
   "metadata": {},
   "source": [
    "### Define utility functions"
   ]
  },
  {
   "cell_type": "code",
   "execution_count": 33,
   "id": "4f02ce95",
   "metadata": {},
   "outputs": [],
   "source": [
    "# define functions for fitting model and evaluating\n",
    "\n",
    "def step(model: torch.nn.Module,\n",
    "        xb: torch.Tensor,\n",
    "        yb: torch.Tensor,\n",
    "        loss_func: callable,\n",
    "        opt: torch.optim.Optimizer) -> torch.Tensor:\n",
    "        \n",
    "    loss = loss_func(model(xb), yb)\n",
    "\n",
    "    loss.backward()\n",
    "    opt.step()\n",
    "    opt.zero_grad()\n",
    "\n",
    "    return loss\n",
    "\n",
    "\n",
    "\n",
    "def fit(model: torch.nn.Module, \n",
    "        loss_func: callable,\n",
    "        train_dl: torch.utils.data.DataLoader,\n",
    "        val_dl: torch.utils.data.DataLoader,\n",
    "        epochs: int,\n",
    "        opt: torch.optim.Optimizer) -> None:\n",
    "\n",
    "    train_dl_size = len(train_dl)\n",
    "    all_training_losses = torch.zeros(epochs*train_dl_size)\n",
    "    ep_training_losses = torch.zeros(epochs)\n",
    "    ep_val_losses = torch.zeros(epochs)\n",
    "    \n",
    "    for epoch in range(epochs):\n",
    "        model.train()\n",
    "        for i, (train_xb, train_yb) in enumerate(train_dl):\n",
    "            loss = step(model, train_xb, train_yb, loss_func, opt)\n",
    "            all_training_losses[i+epoch*train_dl_size] = loss\n",
    "\n",
    "        ep_training_losses[epoch] = loss\n",
    "        print(f\"Training loss at epoch {epoch}: {loss:.2f}\")\n",
    "\n",
    "        model.eval()\n",
    "        with torch.no_grad():\n",
    "            loss = 0\n",
    "            for val_xb, val_yb in val_dl:\n",
    "                loss += loss_func(model(val_xb), val_yb)\n",
    "            loss = loss/len(val_dl)\n",
    "        \n",
    "        ep_val_losses[epoch] = loss\n",
    "        print(f\"Validation loss at epoch {epoch}: {loss:.2f}\\n\")\n",
    "\n",
    "    return all_training_losses.detach(), ep_training_losses.detach(), ep_val_losses.detach()\n",
    "\n",
    "\n",
    "\n",
    "def eval_single_input(model: torch.nn.Module,\n",
    "                        input: torch.Tensor) -> torch.Tensor:\n",
    "    out = model(input)\n",
    "    return torch.argmax(out)\n",
    "\n",
    "\n",
    "\n",
    "def eval(model: torch.nn.Module,\n",
    "        test_x: torch.Tensor,\n",
    "        test_y: torch.Tensor) -> float:\n",
    "    n_success = 0\n",
    "    for n, (x, y) in enumerate(zip(test_x, test_y)):\n",
    "        out_model = eval_single_input(model, x)\n",
    "        n_success += (out_model == y)\n",
    "\n",
    "    return n_success.item()/n\n"
   ]
  },
  {
   "cell_type": "markdown",
   "id": "c91b0981",
   "metadata": {},
   "source": [
    "### Define and train an MLP"
   ]
  },
  {
   "cell_type": "code",
   "execution_count": 10,
   "id": "e14c0ee9",
   "metadata": {},
   "outputs": [],
   "source": [
    "# Define an MLP\n",
    "# might add input and output types to methods of the class\n",
    "# also, arguments that specify how many inputs the network must expect might be good\n",
    "\n",
    "class MLP(nn.Module):\n",
    "    def __init__(self):\n",
    "        super().__init__()\n",
    "        self.layer1 = nn.Linear(784, 20)\n",
    "        self.layer2 = nn.Linear(20,15)\n",
    "        self.layer3 = nn.Linear(15, 10)\n",
    "\n",
    "    def forward(self, input: torch.Tensor) -> torch.Tensor:\n",
    "        x = F.relu(self.layer1(input))\n",
    "        x = F.relu(self.layer2(x))\n",
    "        out = self.layer3(x)\n",
    "        # out = F.log_softmax(self.layer3(x), dim = 1) #we use this if we choose nll_loss\n",
    "        return out"
   ]
  },
  {
   "cell_type": "code",
   "execution_count": 11,
   "id": "e7267c66",
   "metadata": {},
   "outputs": [],
   "source": [
    "# define a cross entropy loss (or a nll loss)\n",
    "\n",
    "loss_func = F.cross_entropy\n",
    "# loss_func = F.nll_loss"
   ]
  },
  {
   "cell_type": "code",
   "execution_count": 12,
   "id": "607039ff",
   "metadata": {},
   "outputs": [],
   "source": [
    "# instantiate a model and an optimizer\n",
    "\n",
    "lr = 0.1\n",
    "\n",
    "mlp_model = MLP()\n",
    "optim = opt.SGD(mlp_model.parameters(), lr=lr)"
   ]
  },
  {
   "cell_type": "code",
   "execution_count": 13,
   "id": "db2a6753",
   "metadata": {},
   "outputs": [
    {
     "name": "stdout",
     "output_type": "stream",
     "text": [
      "tensor(2.3019, grad_fn=<NllLossBackward0>)\n"
     ]
    },
    {
     "data": {
      "text/plain": [
       "tensor([[-3.7179e-02,  1.0425e-01,  1.0257e-01,  1.9707e-02,  1.8805e-01,\n",
       "          1.7017e-01, -1.1528e-04, -5.6939e-01,  3.3728e-01,  1.0297e-01]],\n",
       "       grad_fn=<AddmmBackward0>)"
      ]
     },
     "execution_count": 13,
     "metadata": {},
     "output_type": "execute_result"
    }
   ],
   "source": [
    "\"\"\"\n",
    "IMPORTANT\n",
    "The model expects a rank-2 tensor as input, because the first dimension\n",
    "corresponds to the batch size.\n",
    "\"\"\"\n",
    "\n",
    "# get a batch\n",
    "xb, yb = next(iter(mlp_train_dl))\n",
    "\n",
    "# evaluate loss for this batch\n",
    "print(loss_func(mlp_model(xb), yb))\n",
    "\n",
    "# compute output for a single element of the batch\n",
    "# note that I need to unsqueeze to get a (1, 784) input to pass to the model\n",
    "mlp_model(xb[0].unsqueeze(0))"
   ]
  },
  {
   "cell_type": "code",
   "execution_count": 34,
   "id": "2674b858",
   "metadata": {},
   "outputs": [
    {
     "name": "stdout",
     "output_type": "stream",
     "text": [
      "Training loss at epoch 0: 0.02\n",
      "Validation loss at epoch 0: 0.15\n",
      "\n",
      "Training loss at epoch 1: 0.02\n",
      "Validation loss at epoch 1: 0.15\n",
      "\n",
      "Training loss at epoch 2: 0.05\n",
      "Validation loss at epoch 2: 0.15\n",
      "\n",
      "Training loss at epoch 3: 0.15\n",
      "Validation loss at epoch 3: 0.15\n",
      "\n",
      "Training loss at epoch 4: 0.02\n",
      "Validation loss at epoch 4: 0.15\n",
      "\n",
      "Training loss at epoch 5: 0.03\n",
      "Validation loss at epoch 5: 0.15\n",
      "\n",
      "Training loss at epoch 6: 0.11\n",
      "Validation loss at epoch 6: 0.15\n",
      "\n",
      "Training loss at epoch 7: 0.04\n",
      "Validation loss at epoch 7: 0.15\n",
      "\n",
      "Training loss at epoch 8: 0.02\n",
      "Validation loss at epoch 8: 0.15\n",
      "\n",
      "Training loss at epoch 9: 0.05\n",
      "Validation loss at epoch 9: 0.15\n",
      "\n",
      "Training loss at epoch 10: 0.06\n",
      "Validation loss at epoch 10: 0.15\n",
      "\n"
     ]
    },
    {
     "ename": "KeyboardInterrupt",
     "evalue": "",
     "output_type": "error",
     "traceback": [
      "\u001b[0;31m---------------------------------------------------------------------------\u001b[0m",
      "\u001b[0;31mKeyboardInterrupt\u001b[0m                         Traceback (most recent call last)",
      "Cell \u001b[0;32mIn [34], line 4\u001b[0m\n\u001b[1;32m      1\u001b[0m \u001b[39m# fit the model\u001b[39;00m\n\u001b[1;32m      2\u001b[0m n_epochs \u001b[39m=\u001b[39m \u001b[39m30\u001b[39m\n\u001b[0;32m----> 4\u001b[0m all_train_losses, train_losses, val_losses \u001b[39m=\u001b[39m fit(mlp_model, loss_func, mlp_train_dl, mlp_valid_dl, n_epochs, optim)\n\u001b[1;32m      6\u001b[0m plt\u001b[39m.\u001b[39mfigure()\n\u001b[1;32m      7\u001b[0m plt\u001b[39m.\u001b[39mplot(train_losses)\n",
      "Cell \u001b[0;32mIn [33], line 35\u001b[0m, in \u001b[0;36mfit\u001b[0;34m(model, loss_func, train_dl, val_dl, epochs, opt)\u001b[0m\n\u001b[1;32m     33\u001b[0m model\u001b[39m.\u001b[39mtrain()\n\u001b[1;32m     34\u001b[0m \u001b[39mfor\u001b[39;00m i, (train_xb, train_yb) \u001b[39min\u001b[39;00m \u001b[39menumerate\u001b[39m(train_dl):\n\u001b[0;32m---> 35\u001b[0m     loss \u001b[39m=\u001b[39m step(model, train_xb, train_yb, loss_func, opt)\n\u001b[1;32m     36\u001b[0m     all_training_losses[i\u001b[39m+\u001b[39mepoch\u001b[39m*\u001b[39mtrain_dl_size] \u001b[39m=\u001b[39m loss\n\u001b[1;32m     38\u001b[0m ep_training_losses[epoch] \u001b[39m=\u001b[39m loss\n",
      "Cell \u001b[0;32mIn [33], line 13\u001b[0m, in \u001b[0;36mstep\u001b[0;34m(model, xb, yb, loss_func, opt)\u001b[0m\n\u001b[1;32m     11\u001b[0m loss\u001b[39m.\u001b[39mbackward()\n\u001b[1;32m     12\u001b[0m opt\u001b[39m.\u001b[39mstep()\n\u001b[0;32m---> 13\u001b[0m opt\u001b[39m.\u001b[39;49mzero_grad()\n\u001b[1;32m     15\u001b[0m \u001b[39mreturn\u001b[39;00m loss\n",
      "File \u001b[0;32m~/.local/lib/python3.10/site-packages/torch/optim/optimizer.py:222\u001b[0m, in \u001b[0;36mOptimizer.zero_grad\u001b[0;34m(self, set_to_none)\u001b[0m\n\u001b[1;32m    220\u001b[0m     p\u001b[39m.\u001b[39mgrad\u001b[39m.\u001b[39mrequires_grad_(\u001b[39mFalse\u001b[39;00m)\n\u001b[1;32m    221\u001b[0m \u001b[39mif\u001b[39;00m (\u001b[39mnot\u001b[39;00m foreach \u001b[39mor\u001b[39;00m p\u001b[39m.\u001b[39mgrad\u001b[39m.\u001b[39mis_sparse):\n\u001b[0;32m--> 222\u001b[0m     p\u001b[39m.\u001b[39;49mgrad\u001b[39m.\u001b[39;49mzero_()\n\u001b[1;32m    223\u001b[0m \u001b[39melse\u001b[39;00m:\n\u001b[1;32m    224\u001b[0m     per_device_and_dtype_grads[p\u001b[39m.\u001b[39mgrad\u001b[39m.\u001b[39mdevice][p\u001b[39m.\u001b[39mgrad\u001b[39m.\u001b[39mdtype]\u001b[39m.\u001b[39mappend(p\u001b[39m.\u001b[39mgrad)\n",
      "\u001b[0;31mKeyboardInterrupt\u001b[0m: "
     ]
    }
   ],
   "source": [
    "# fit the model\n",
    "n_epochs = 30\n",
    "\n",
    "all_train_losses, train_losses, val_losses = fit(mlp_model, loss_func, mlp_train_dl, mlp_valid_dl, n_epochs, optim)\n",
    "\n",
    "plt.figure()\n",
    "plt.plot(train_losses)"
   ]
  },
  {
   "cell_type": "code",
   "execution_count": 35,
   "id": "1e9cd0ed",
   "metadata": {},
   "outputs": [
    {
     "data": {
      "text/plain": [
       "<matplotlib.image.AxesImage at 0x7f1f79be7550>"
      ]
     },
     "execution_count": 35,
     "metadata": {},
     "output_type": "execute_result"
    },
    {
     "data": {
      "image/png": "[encoded data removed]",
      "text/plain": [
       "<Figure size 640x480 with 1 Axes>"
      ]
     },
     "metadata": {},
     "output_type": "display_data"
    }
   ],
   "source": [
    "im = x_test[105]\n",
    "plt.imshow(im)"
   ]
  },
  {
   "cell_type": "code",
   "execution_count": 36,
   "id": "f96f23a6",
   "metadata": {},
   "outputs": [
    {
     "name": "stdout",
     "output_type": "stream",
     "text": [
      "This digit is a 9 according to my model.\n"
     ]
    }
   ],
   "source": [
    "print(f\"This digit is a \\\n",
    "{eval_single_input(mlp_model, im.view(-1, 28*28)).item()} \\\n",
    "according to my model.\")"
   ]
  },
  {
   "cell_type": "code",
   "execution_count": 21,
   "id": "b6f57a89",
   "metadata": {},
   "outputs": [
    {
     "name": "stdout",
     "output_type": "stream",
     "text": [
      "Validation accuracy over validation set: 96.16%\n"
     ]
    }
   ],
   "source": [
    "print(f\"Validation accuracy over validation set: \\\n",
    "{eval(mlp_model, x_test.view(-1, 784), y_test.view(-1,1))*100:.2f}%\")"
   ]
  },
  {
   "cell_type": "markdown",
   "id": "f17f341d",
   "metadata": {},
   "source": [
    "### Define and train a CNN"
   ]
  },
  {
   "cell_type": "code",
   "execution_count": 22,
   "id": "fcbfb0ed",
   "metadata": {},
   "outputs": [],
   "source": [
    "# define a CNN\n",
    "# using several channels internally noticeably improves performance (obviously training slows down)\n",
    "\n",
    "# might add input and output types to methods of the class\n",
    "# also, arguments that specify how many inputs the network must expect might be good\n",
    "\n",
    "class CNN(nn.Module):\n",
    "    def __init__(self):\n",
    "        super().__init__()\n",
    "        self.conv1 = nn.Conv2d(1, 12, kernel_size=4, padding=(2,2), padding_mode=\"zeros\")\n",
    "        self.conv2 = nn.Conv2d(12, 9, kernel_size=3, padding=(1,1), padding_mode=\"zeros\")\n",
    "        self.conv3 = nn.Conv2d(9, 9, kernel_size=3, padding=(1,1), padding_mode=\"zeros\")\n",
    "        self.dense1 = nn.Linear(49*9, 10)\n",
    "\n",
    "    def forward(self, input: torch.Tensor) -> torch.Tensor:\n",
    "        x = F.relu(self.conv1(input))\n",
    "        x = F.avg_pool2d(x, kernel_size=2)\n",
    "        x = F.relu(self.conv2(x))\n",
    "        x = F.relu(self.conv3(x))\n",
    "        x = F.avg_pool2d(x, kernel_size=2)\n",
    "        x = x.reshape(-1, 49*9)\n",
    "        out = self.dense1(x)\n",
    "        return out\n",
    "        "
   ]
  },
  {
   "cell_type": "code",
   "execution_count": 23,
   "id": "204cac9f",
   "metadata": {},
   "outputs": [],
   "source": [
    "# define a loss\n",
    "\n",
    "loss_func = F.cross_entropy"
   ]
  },
  {
   "cell_type": "code",
   "execution_count": 24,
   "id": "bd83bac6",
   "metadata": {},
   "outputs": [],
   "source": [
    "# instantiate model and optimizer\n",
    "\n",
    "lr = 0.1\n",
    "\n",
    "cnn_model = CNN()\n",
    "optim = opt.SGD(cnn_model.parameters(), lr=lr)"
   ]
  },
  {
   "cell_type": "code",
   "execution_count": 25,
   "id": "b436b246",
   "metadata": {},
   "outputs": [
    {
     "name": "stdout",
     "output_type": "stream",
     "text": [
      "xb has shape torch.Size([100, 1, 28, 28])\n",
      "\n",
      "sample from xb has shape torch.Size([1, 1, 28, 28])\n",
      "\n",
      "Output from a batch sample: tensor([[-0.0676,  0.0594, -0.0721, -0.0507,  0.0631, -0.0332, -0.0479, -0.0145,\n",
      "          0.0418,  0.0677]], grad_fn=<AddmmBackward0>)\n"
     ]
    }
   ],
   "source": [
    "xb, yb = next(iter(cnn_train_dl))\n",
    "sample = xb[0].unsqueeze(0)\n",
    "\n",
    "print(f\"xb has shape {xb.shape}\\n\")\n",
    "print(f\"sample from xb has shape {sample.shape}\\n\")\n",
    "\n",
    "print(f\"Output from a batch sample: {cnn_model(sample)}\")"
   ]
  },
  {
   "cell_type": "code",
   "execution_count": 27,
   "id": "295ffffb",
   "metadata": {},
   "outputs": [
    {
     "name": "stdout",
     "output_type": "stream",
     "text": [
      "Training loss at epoch 0: 0.25\n",
      "Validation loss at epoch 0: 0.09\n",
      "\n",
      "Training loss at epoch 1: 0.07\n",
      "Validation loss at epoch 1: 0.06\n",
      "\n",
      "Training loss at epoch 2: 0.04\n",
      "Validation loss at epoch 2: 0.05\n",
      "\n",
      "Training loss at epoch 3: 0.12\n",
      "Validation loss at epoch 3: 0.06\n",
      "\n",
      "Training loss at epoch 4: 0.03\n",
      "Validation loss at epoch 4: 0.05\n",
      "\n",
      "Training loss at epoch 5: 0.07\n",
      "Validation loss at epoch 5: 0.04\n",
      "\n",
      "Training loss at epoch 6: 0.08\n",
      "Validation loss at epoch 6: 0.05\n",
      "\n",
      "Training loss at epoch 7: 0.06\n",
      "Validation loss at epoch 7: 0.05\n",
      "\n",
      "Training loss at epoch 8: 0.11\n",
      "Validation loss at epoch 8: 0.04\n",
      "\n",
      "Training loss at epoch 9: 0.09\n",
      "Validation loss at epoch 9: 0.03\n",
      "\n",
      "Training loss at epoch 10: 0.01\n",
      "Validation loss at epoch 10: 0.04\n",
      "\n",
      "Training loss at epoch 11: 0.03\n",
      "Validation loss at epoch 11: 0.03\n",
      "\n",
      "Training loss at epoch 12: 0.04\n",
      "Validation loss at epoch 12: 0.03\n",
      "\n",
      "Training loss at epoch 13: 0.02\n",
      "Validation loss at epoch 13: 0.03\n",
      "\n",
      "Training loss at epoch 14: 0.05\n",
      "Validation loss at epoch 14: 0.03\n",
      "\n",
      "Training loss at epoch 15: 0.11\n",
      "Validation loss at epoch 15: 0.03\n",
      "\n",
      "Training loss at epoch 16: 0.07\n",
      "Validation loss at epoch 16: 0.03\n",
      "\n",
      "Training loss at epoch 17: 0.07\n",
      "Validation loss at epoch 17: 0.03\n",
      "\n",
      "Training loss at epoch 18: 0.02\n",
      "Validation loss at epoch 18: 0.03\n",
      "\n",
      "Training loss at epoch 19: 0.00\n",
      "Validation loss at epoch 19: 0.03\n",
      "\n"
     ]
    },
    {
     "data": {
      "text/plain": [
       "[<matplotlib.lines.Line2D at 0x7f1f913ebb20>]"
      ]
     },
     "execution_count": 27,
     "metadata": {},
     "output_type": "execute_result"
    },
    {
     "data": {
      "image/png": "[encoded data removed]",
      "text/plain": [
       "<Figure size 640x480 with 1 Axes>"
      ]
     },
     "metadata": {},
     "output_type": "display_data"
    }
   ],
   "source": [
    "n_epochs = 20\n",
    "\n",
    "training_losses = fit(cnn_model, loss_func, cnn_train_dl, cnn_valid_dl, n_epochs, optim)\n",
    "\n",
    "plt.figure()\n",
    "plt.plot(training_losses)"
   ]
  },
  {
   "cell_type": "code",
   "execution_count": 965,
   "id": "c029316a",
   "metadata": {},
   "outputs": [
    {
     "name": "stdout",
     "output_type": "stream",
     "text": [
      "torch.Size([10000, 1, 1, 28, 28])\n",
      "Validation accuracy over validation set: 98.55%\n"
     ]
    }
   ],
   "source": [
    "x_samples = x_test.unsqueeze(1).unsqueeze(1)\n",
    "y_samples = y_test.unsqueeze(1).unsqueeze(1)\n",
    "\n",
    "print(x_samples.shape)\n",
    "\n",
    "print(f\"Validation accuracy over validation set: \\\n",
    "{eval(cnn_model, x_samples, y_samples)*100:.2f}%\")"
   ]
  },
  {
   "cell_type": "code",
   "execution_count": 960,
   "id": "ae276fd4",
   "metadata": {},
   "outputs": [
    {
     "data": {
      "text/plain": [
       "<matplotlib.image.AxesImage at 0x7fb500a93970>"
      ]
     },
     "execution_count": 960,
     "metadata": {},
     "output_type": "execute_result"
    },
    {
     "data": {
      "image/png": "[encoded data removed]",
      "text/plain": [
       "<Figure size 432x288 with 1 Axes>"
      ]
     },
     "metadata": {
      "needs_background": "light"
     },
     "output_type": "display_data"
    }
   ],
   "source": [
    "im = x_test[105]\n",
    "plt.imshow(im)"
   ]
  },
  {
   "cell_type": "code",
   "execution_count": 1,
   "id": "7fe67ef0",
   "metadata": {},
   "outputs": [
    {
     "ename": "NameError",
     "evalue": "name 'eval_single_input' is not defined",
     "output_type": "error",
     "traceback": [
      "\u001b[0;31m---------------------------------------------------------------------------\u001b[0m",
      "\u001b[0;31mNameError\u001b[0m                                 Traceback (most recent call last)",
      "Cell \u001b[0;32mIn [1], line 2\u001b[0m\n\u001b[1;32m      1\u001b[0m \u001b[39mprint\u001b[39m(\u001b[39mf\u001b[39m\u001b[39m\"\u001b[39m\u001b[39mThis digit is a \u001b[39m\u001b[39m\\\u001b[39;00m\n\u001b[0;32m----> 2\u001b[0m \u001b[39m{\u001b[39;00meval_single_input(cnn_model, im\u001b[39m.\u001b[39munsqueeze(\u001b[39m0\u001b[39m)\u001b[39m.\u001b[39munsqueeze(\u001b[39m0\u001b[39m))\u001b[39m.\u001b[39mitem()\u001b[39m}\u001b[39;00m\u001b[39m \u001b[39m\u001b[39m\\\u001b[39;00m\n\u001b[1;32m      3\u001b[0m \u001b[39maccording to my model.\u001b[39m\u001b[39m\"\u001b[39m)\n",
      "\u001b[0;31mNameError\u001b[0m: name 'eval_single_input' is not defined"
     ]
    }
   ],
   "source": [
    "print(f\"This digit is a \\\n",
    "{eval_single_input(cnn_model, im.unsqueeze(0).unsqueeze(0)).item()} \\\n",
    "according to my model.\")"
   ]
  },
  {
   "cell_type": "code",
   "execution_count": 7,
   "id": "56e1b1e0",
   "metadata": {},
   "outputs": [
    {
     "data": {
      "application/vnd.plotly.v1+json": {
       "config": {
        "plotlyServerURL": "https://plot.ly"
       },
       "data": [
        {
         "mode": "lines",
         "type": "scatter",
         "y": [
          1.0611143112182617,
          0.7653920650482178,
          0.3559056520462036,
          0.8055036664009094,
          0.9978023171424866,
          -1.404893159866333,
          -0.40170052647590637,
          0.42648670077323914,
          -1.053926706314087,
          -0.311790406703949,
          -1.9713813066482544,
          -0.0871850848197937,
          2.0701045989990234,
          -0.1318625956773758,
          -0.22012139856815338,
          -0.6538291573524475,
          2.1013453006744385,
          -0.2867460548877716,
          0.6087072491645813,
          -1.0891729593276978,
          0.0815577358007431,
          1.0786781311035156,
          -0.2014935463666916,
          0.37532031536102295,
          1.4405995607376099,
          0.5786476135253906,
          0.17117738723754883,
          -0.053776003420352936,
          0.18385948240756989,
          -1.8837902545928955,
          -0.8306455612182617,
          -2.5852763652801514,
          0.4764059782028198,
          0.6231990456581116,
          0.7234395742416382,
          0.8743950724601746,
          -0.44977709650993347,
          -0.6671708226203918,
          0.2170231193304062,
          0.0980302020907402,
          -0.1467033475637436,
          -0.39688771963119507,
          -0.1490207314491272,
          0.3130345940589905,
          -0.8723070025444031,
          -0.5934122800827026,
          0.04977203160524368,
          1.7279462814331055,
          -0.39344292879104614,
          -0.6610913872718811
         ]
        },
        {
         "mode": "lines",
         "type": "scatter",
         "y": [
          1.5319823026657104,
          -1.226994514465332,
          -0.6547091007232666,
          -0.38181692361831665,
          -0.0034141605719923973,
          0.6229560971260071,
          0.27013206481933594,
          2.810326099395752,
          -0.45762181282043457,
          0.8237484097480774,
          1.4410172700881958,
          0.1365422159433365,
          0.8982431888580322,
          -0.0004897243343293667,
          0.7093195915222168,
          1.6414169073104858,
          -1.7598168849945068,
          -1.3354605436325073,
          1.4959205389022827,
          -0.9546741843223572,
          -0.03806638717651367,
          -0.3516193926334381,
          -0.723149299621582,
          0.18243180215358734,
          0.08880137652158737,
          0.913020133972168,
          2.119842290878296,
          -0.026978151872754097,
          0.5043373107910156,
          -0.18923988938331604,
          -3.212416648864746,
          -0.44104883074760437,
          -1.1334468126296997,
          -0.14459024369716644,
          0.17366646230220795,
          -0.9032995700836182,
          -0.6441687941551208,
          -0.4875779151916504,
          -0.7857749462127686,
          1.4251006841659546,
          0.8449398875236511,
          1.1657369136810303,
          0.035496726632118225,
          -0.8147417902946472,
          0.8576741814613342,
          1.1002817153930664,
          0.2581193149089813,
          -1.1845953464508057,
          -0.7714046239852905,
          1.9558101892471313
         ]
        }
       ],
       "layout": {
        "template": {
         "data": {
          "bar": [
           {
            "error_x": {
             "color": "#2a3f5f"
            },
            "error_y": {
             "color": "#2a3f5f"
            },
            "marker": {
             "line": {
              "color": "#E5ECF6",
              "width": 0.5
             },
             "pattern": {
              "fillmode": "overlay",
              "size": 10,
              "solidity": 0.2
             }
            },
            "type": "bar"
           }
          ],
          "barpolar": [
           {
            "marker": {
             "line": {
              "color": "#E5ECF6",
              "width": 0.5
             },
             "pattern": {
              "fillmode": "overlay",
              "size": 10,
              "solidity": 0.2
             }
            },
            "type": "barpolar"
           }
          ],
          "carpet": [
           {
            "aaxis": {
             "endlinecolor": "#2a3f5f",
             "gridcolor": "white",
             "linecolor": "white",
             "minorgridcolor": "white",
             "startlinecolor": "#2a3f5f"
            },
            "baxis": {
             "endlinecolor": "#2a3f5f",
             "gridcolor": "white",
             "linecolor": "white",
             "minorgridcolor": "white",
             "startlinecolor": "#2a3f5f"
            },
            "type": "carpet"
           }
          ],
          "choropleth": [
           {
            "colorbar": {
             "outlinewidth": 0,
             "ticks": ""
            },
            "type": "choropleth"
           }
          ],
          "contour": [
           {
            "colorbar": {
             "outlinewidth": 0,
             "ticks": ""
            },
            "colorscale": [
             [
              0,
              "#0d0887"
             ],
             [
              0.1111111111111111,
              "#46039f"
             ],
             [
              0.2222222222222222,
              "#7201a8"
             ],
             [
              0.3333333333333333,
              "#9c179e"
             ],
             [
              0.4444444444444444,
              "#bd3786"
             ],
             [
              0.5555555555555556,
              "#d8576b"
             ],
             [
              0.6666666666666666,
              "#ed7953"
             ],
             [
              0.7777777777777778,
              "#fb9f3a"
             ],
             [
              0.8888888888888888,
              "#fdca26"
             ],
             [
              1,
              "#f0f921"
             ]
            ],
            "type": "contour"
           }
          ],
          "contourcarpet": [
           {
            "colorbar": {
             "outlinewidth": 0,
             "ticks": ""
            },
            "type": "contourcarpet"
           }
          ],
          "heatmap": [
           {
            "colorbar": {
             "outlinewidth": 0,
             "ticks": ""
            },
            "colorscale": [
             [
              0,
              "#0d0887"
             ],
             [
              0.1111111111111111,
              "#46039f"
             ],
             [
              0.2222222222222222,
              "#7201a8"
             ],
             [
              0.3333333333333333,
              "#9c179e"
             ],
             [
              0.4444444444444444,
              "#bd3786"
             ],
             [
              0.5555555555555556,
              "#d8576b"
             ],
             [
              0.6666666666666666,
              "#ed7953"
             ],
             [
              0.7777777777777778,
              "#fb9f3a"
             ],
             [
              0.8888888888888888,
              "#fdca26"
             ],
             [
              1,
              "#f0f921"
             ]
            ],
            "type": "heatmap"
           }
          ],
          "heatmapgl": [
           {
            "colorbar": {
             "outlinewidth": 0,
             "ticks": ""
            },
            "colorscale": [
             [
              0,
              "#0d0887"
             ],
             [
              0.1111111111111111,
              "#46039f"
             ],
             [
              0.2222222222222222,
              "#7201a8"
             ],
             [
              0.3333333333333333,
              "#9c179e"
             ],
             [
              0.4444444444444444,
              "#bd3786"
             ],
             [
              0.5555555555555556,
              "#d8576b"
             ],
             [
              0.6666666666666666,
              "#ed7953"
             ],
             [
              0.7777777777777778,
              "#fb9f3a"
             ],
             [
              0.8888888888888888,
              "#fdca26"
             ],
             [
              1,
              "#f0f921"
             ]
            ],
            "type": "heatmapgl"
           }
          ],
          "histogram": [
           {
            "marker": {
             "pattern": {
              "fillmode": "overlay",
              "size": 10,
              "solidity": 0.2
             }
            },
            "type": "histogram"
           }
          ],
          "histogram2d": [
           {
            "colorbar": {
             "outlinewidth": 0,
             "ticks": ""
            },
            "colorscale": [
             [
              0,
              "#0d0887"
             ],
             [
              0.1111111111111111,
              "#46039f"
             ],
             [
              0.2222222222222222,
              "#7201a8"
             ],
             [
              0.3333333333333333,
              "#9c179e"
             ],
             [
              0.4444444444444444,
              "#bd3786"
             ],
             [
              0.5555555555555556,
              "#d8576b"
             ],
             [
              0.6666666666666666,
              "#ed7953"
             ],
             [
              0.7777777777777778,
              "#fb9f3a"
             ],
             [
              0.8888888888888888,
              "#fdca26"
             ],
             [
              1,
              "#f0f921"
             ]
            ],
            "type": "histogram2d"
           }
          ],
          "histogram2dcontour": [
           {
            "colorbar": {
             "outlinewidth": 0,
             "ticks": ""
            },
            "colorscale": [
             [
              0,
              "#0d0887"
             ],
             [
              0.1111111111111111,
              "#46039f"
             ],
             [
              0.2222222222222222,
              "#7201a8"
             ],
             [
              0.3333333333333333,
              "#9c179e"
             ],
             [
              0.4444444444444444,
              "#bd3786"
             ],
             [
              0.5555555555555556,
              "#d8576b"
             ],
             [
              0.6666666666666666,
              "#ed7953"
             ],
             [
              0.7777777777777778,
              "#fb9f3a"
             ],
             [
              0.8888888888888888,
              "#fdca26"
             ],
             [
              1,
              "#f0f921"
             ]
            ],
            "type": "histogram2dcontour"
           }
          ],
          "mesh3d": [
           {
            "colorbar": {
             "outlinewidth": 0,
             "ticks": ""
            },
            "type": "mesh3d"
           }
          ],
          "parcoords": [
           {
            "line": {
             "colorbar": {
              "outlinewidth": 0,
              "ticks": ""
             }
            },
            "type": "parcoords"
           }
          ],
          "pie": [
           {
            "automargin": true,
            "type": "pie"
           }
          ],
          "scatter": [
           {
            "fillpattern": {
             "fillmode": "overlay",
             "size": 10,
             "solidity": 0.2
            },
            "type": "scatter"
           }
          ],
          "scatter3d": [
           {
            "line": {
             "colorbar": {
              "outlinewidth": 0,
              "ticks": ""
             }
            },
            "marker": {
             "colorbar": {
              "outlinewidth": 0,
              "ticks": ""
             }
            },
            "type": "scatter3d"
           }
          ],
          "scattercarpet": [
           {
            "marker": {
             "colorbar": {
              "outlinewidth": 0,
              "ticks": ""
             }
            },
            "type": "scattercarpet"
           }
          ],
          "scattergeo": [
           {
            "marker": {
             "colorbar": {
              "outlinewidth": 0,
              "ticks": ""
             }
            },
            "type": "scattergeo"
           }
          ],
          "scattergl": [
           {
            "marker": {
             "colorbar": {
              "outlinewidth": 0,
              "ticks": ""
             }
            },
            "type": "scattergl"
           }
          ],
          "scattermapbox": [
           {
            "marker": {
             "colorbar": {
              "outlinewidth": 0,
              "ticks": ""
             }
            },
            "type": "scattermapbox"
           }
          ],
          "scatterpolar": [
           {
            "marker": {
             "colorbar": {
              "outlinewidth": 0,
              "ticks": ""
             }
            },
            "type": "scatterpolar"
           }
          ],
          "scatterpolargl": [
           {
            "marker": {
             "colorbar": {
              "outlinewidth": 0,
              "ticks": ""
             }
            },
            "type": "scatterpolargl"
           }
          ],
          "scatterternary": [
           {
            "marker": {
             "colorbar": {
              "outlinewidth": 0,
              "ticks": ""
             }
            },
            "type": "scatterternary"
           }
          ],
          "surface": [
           {
            "colorbar": {
             "outlinewidth": 0,
             "ticks": ""
            },
            "colorscale": [
             [
              0,
              "#0d0887"
             ],
             [
              0.1111111111111111,
              "#46039f"
             ],
             [
              0.2222222222222222,
              "#7201a8"
             ],
             [
              0.3333333333333333,
              "#9c179e"
             ],
             [
              0.4444444444444444,
              "#bd3786"
             ],
             [
              0.5555555555555556,
              "#d8576b"
             ],
             [
              0.6666666666666666,
              "#ed7953"
             ],
             [
              0.7777777777777778,
              "#fb9f3a"
             ],
             [
              0.8888888888888888,
              "#fdca26"
             ],
             [
              1,
              "#f0f921"
             ]
            ],
            "type": "surface"
           }
          ],
          "table": [
           {
            "cells": {
             "fill": {
              "color": "#EBF0F8"
             },
             "line": {
              "color": "white"
             }
            },
            "header": {
             "fill": {
              "color": "#C8D4E3"
             },
             "line": {
              "color": "white"
             }
            },
            "type": "table"
           }
          ]
         },
         "layout": {
          "annotationdefaults": {
           "arrowcolor": "#2a3f5f",
           "arrowhead": 0,
           "arrowwidth": 1
          },
          "autotypenumbers": "strict",
          "coloraxis": {
           "colorbar": {
            "outlinewidth": 0,
            "ticks": ""
           }
          },
          "colorscale": {
           "diverging": [
            [
             0,
             "#8e0152"
            ],
            [
             0.1,
             "#c51b7d"
            ],
            [
             0.2,
             "#de77ae"
            ],
            [
             0.3,
             "#f1b6da"
            ],
            [
             0.4,
             "#fde0ef"
            ],
            [
             0.5,
             "#f7f7f7"
            ],
            [
             0.6,
             "#e6f5d0"
            ],
            [
             0.7,
             "#b8e186"
            ],
            [
             0.8,
             "#7fbc41"
            ],
            [
             0.9,
             "#4d9221"
            ],
            [
             1,
             "#276419"
            ]
           ],
           "sequential": [
            [
             0,
             "#0d0887"
            ],
            [
             0.1111111111111111,
             "#46039f"
            ],
            [
             0.2222222222222222,
             "#7201a8"
            ],
            [
             0.3333333333333333,
             "#9c179e"
            ],
            [
             0.4444444444444444,
             "#bd3786"
            ],
            [
             0.5555555555555556,
             "#d8576b"
            ],
            [
             0.6666666666666666,
             "#ed7953"
            ],
            [
             0.7777777777777778,
             "#fb9f3a"
            ],
            [
             0.8888888888888888,
             "#fdca26"
            ],
            [
             1,
             "#f0f921"
            ]
           ],
           "sequentialminus": [
            [
             0,
             "#0d0887"
            ],
            [
             0.1111111111111111,
             "#46039f"
            ],
            [
             0.2222222222222222,
             "#7201a8"
            ],
            [
             0.3333333333333333,
             "#9c179e"
            ],
            [
             0.4444444444444444,
             "#bd3786"
            ],
            [
             0.5555555555555556,
             "#d8576b"
            ],
            [
             0.6666666666666666,
             "#ed7953"
            ],
            [
             0.7777777777777778,
             "#fb9f3a"
            ],
            [
             0.8888888888888888,
             "#fdca26"
            ],
            [
             1,
             "#f0f921"
            ]
           ]
          },
          "colorway": [
           "#636efa",
           "#EF553B",
           "#00cc96",
           "#ab63fa",
           "#FFA15A",
           "#19d3f3",
           "#FF6692",
           "#B6E880",
           "#FF97FF",
           "#FECB52"
          ],
          "font": {
           "color": "#2a3f5f"
          },
          "geo": {
           "bgcolor": "white",
           "lakecolor": "white",
           "landcolor": "#E5ECF6",
           "showlakes": true,
           "showland": true,
           "subunitcolor": "white"
          },
          "hoverlabel": {
           "align": "left"
          },
          "hovermode": "closest",
          "mapbox": {
           "style": "light"
          },
          "paper_bgcolor": "white",
          "plot_bgcolor": "#E5ECF6",
          "polar": {
           "angularaxis": {
            "gridcolor": "white",
            "linecolor": "white",
            "ticks": ""
           },
           "bgcolor": "#E5ECF6",
           "radialaxis": {
            "gridcolor": "white",
            "linecolor": "white",
            "ticks": ""
           }
          },
          "scene": {
           "xaxis": {
            "backgroundcolor": "#E5ECF6",
            "gridcolor": "white",
            "gridwidth": 2,
            "linecolor": "white",
            "showbackground": true,
            "ticks": "",
            "zerolinecolor": "white"
           },
           "yaxis": {
            "backgroundcolor": "#E5ECF6",
            "gridcolor": "white",
            "gridwidth": 2,
            "linecolor": "white",
            "showbackground": true,
            "ticks": "",
            "zerolinecolor": "white"
           },
           "zaxis": {
            "backgroundcolor": "#E5ECF6",
            "gridcolor": "white",
            "gridwidth": 2,
            "linecolor": "white",
            "showbackground": true,
            "ticks": "",
            "zerolinecolor": "white"
           }
          },
          "shapedefaults": {
           "line": {
            "color": "#2a3f5f"
           }
          },
          "ternary": {
           "aaxis": {
            "gridcolor": "white",
            "linecolor": "white",
            "ticks": ""
           },
           "baxis": {
            "gridcolor": "white",
            "linecolor": "white",
            "ticks": ""
           },
           "bgcolor": "#E5ECF6",
           "caxis": {
            "gridcolor": "white",
            "linecolor": "white",
            "ticks": ""
           }
          },
          "title": {
           "x": 0.05
          },
          "xaxis": {
           "automargin": true,
           "gridcolor": "white",
           "linecolor": "white",
           "ticks": "",
           "title": {
            "standoff": 15
           },
           "zerolinecolor": "white",
           "zerolinewidth": 2
          },
          "yaxis": {
           "automargin": true,
           "gridcolor": "white",
           "linecolor": "white",
           "ticks": "",
           "title": {
            "standoff": 15
           },
           "zerolinecolor": "white",
           "zerolinewidth": 2
          }
         }
        }
       }
      }
     },
     "metadata": {},
     "output_type": "display_data"
    }
   ],
   "source": [
    "import plotly.graph_objects as go\n",
    "\n",
    "y1 = torch.randn(50)\n",
    "y2 = torch.randn(50)\n",
    "\n",
    "fig = go.Figure()\n",
    "fig.add_trace(go.Scatter(y=y1, mode='lines'))\n",
    "fig.add_trace(go.Scatter(y=y2, mode='lines'))\n",
    "fig.show()"
   ]
  }
 ],
 "metadata": {
  "interpreter": {
   "hash": "e7370f93d1d0cde622a1f8e1c04877d8463912d04d973331ad4851f04de6915a"
  },
  "kernelspec": {
   "display_name": "Python 3.10.7 64-bit",
   "language": "python",
   "name": "python3"
  },
  "language_info": {
   "codemirror_mode": {
    "name": "ipython",
    "version": 3
   },
   "file_extension": ".py",
   "mimetype": "text/x-python",
   "name": "python",
   "nbconvert_exporter": "python",
   "pygments_lexer": "ipython3",
   "version": "3.10.7"
  }
 },
 "nbformat": 4,
 "nbformat_minor": 5
}
