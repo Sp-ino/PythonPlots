{
 "cells": [
  {
   "cell_type": "markdown",
   "id": "0650582e",
   "metadata": {},
   "source": [
    "# Example of classification on water dataset"
   ]
  },
  {
   "cell_type": "markdown",
   "id": "246146b8",
   "metadata": {},
   "source": [
    "### Importing dependencies and loading dataset"
   ]
  },
  {
   "cell_type": "code",
   "execution_count": 80,
   "id": "215fc9f2",
   "metadata": {},
   "outputs": [],
   "source": [
    "# Write your code here\n",
    "import seaborn as sb\n",
    "import matplotlib.pyplot as plt\n",
    "import numpy as np\n",
    "import pandas as pd\n",
    "from sklearn.preprocessing import StandardScaler\n",
    "import tensorflow as tf"
   ]
  },
  {
   "cell_type": "code",
   "execution_count": 81,
   "id": "24c5f2db",
   "metadata": {},
   "outputs": [
    {
     "name": "stdout",
     "output_type": "stream",
     "text": [
      "          ph    Hardness        Solids  Chloramines     Sulfate  Conductivity  \\\n",
      "0        NaN  204.890455  20791.318981     7.300212  368.516441    564.308654   \n",
      "1   3.716080  129.422921  18630.057858     6.635246         NaN    592.885359   \n",
      "2   8.099124  224.236259  19909.541732     9.275884         NaN    418.606213   \n",
      "3   8.316766  214.373394  22018.417441     8.059332  356.886136    363.266516   \n",
      "4   9.092223  181.101509  17978.986339     6.546600  310.135738    398.410813   \n",
      "5   5.584087  188.313324  28748.687739     7.544869  326.678363    280.467916   \n",
      "6  10.223862  248.071735  28749.716544     7.513408  393.663396    283.651634   \n",
      "7   8.635849  203.361523  13672.091764     4.563009  303.309771    474.607645   \n",
      "8        NaN  118.988579  14285.583854     7.804174  268.646941    389.375566   \n",
      "9  11.180284  227.231469  25484.508491     9.077200  404.041635    563.885481   \n",
      "\n",
      "   Organic_carbon  Trihalomethanes  Turbidity  Potability  \n",
      "0       10.379783        86.990970   2.963135           0  \n",
      "1       15.180013        56.329076   4.500656           0  \n",
      "2       16.868637        66.420093   3.055934           0  \n",
      "3       18.436524       100.341674   4.628771           0  \n",
      "4       11.558279        31.997993   4.075075           0  \n",
      "5        8.399735        54.917862   2.559708           0  \n",
      "6       13.789695        84.603556   2.672989           0  \n",
      "7       12.363817        62.798309   4.401425           0  \n",
      "8       12.706049        53.928846   3.595017           0  \n",
      "9       17.927806        71.976601   4.370562           0  \n"
     ]
    }
   ],
   "source": [
    "path = \"water_potability.csv\"\n",
    "\n",
    "data = pd.read_csv(path)\n",
    "print(data[:][0:10])"
   ]
  },
  {
   "cell_type": "code",
   "execution_count": 82,
   "id": "de202bcf",
   "metadata": {},
   "outputs": [],
   "source": [
    "#Handle NaN values and split into inputs and outputs\n",
    "inputs, outputs = data.iloc[:, 0:9], data.iloc[:, 9]\n",
    "inputs = inputs.fillna(inputs.mean())\n",
    "data = data.fillna(data.mean())"
   ]
  },
  {
   "cell_type": "code",
   "execution_count": 83,
   "id": "692e183d",
   "metadata": {},
   "outputs": [
    {
     "name": "stdout",
     "output_type": "stream",
     "text": [
      "Mean and std dev after normalization:\n",
      "Mean: \n",
      " ph                -4.674052e-16\n",
      "Hardness           1.025906e-15\n",
      "Solids            -4.554761e-17\n",
      "Chloramines        5.205441e-16\n",
      "Sulfate            1.591997e-15\n",
      "Conductivity       1.756836e-16\n",
      "Organic_carbon     1.735147e-17\n",
      "Trihalomethanes    1.713458e-16\n",
      "Turbidity          5.552471e-16\n",
      "dtype: float64\n",
      "\n",
      "Std dev: \n",
      " ph                 0.999847\n",
      "Hardness           0.999847\n",
      "Solids             0.999847\n",
      "Chloramines        0.999847\n",
      "Sulfate            0.999847\n",
      "Conductivity       0.999847\n",
      "Organic_carbon     0.999847\n",
      "Trihalomethanes    0.999847\n",
      "Turbidity          0.999847\n",
      "dtype: float64\n"
     ]
    },
    {
     "name": "stderr",
     "output_type": "stream",
     "text": [
      "/usr/lib/python3.10/site-packages/numpy/core/fromnumeric.py:3472: FutureWarning: In a future version, DataFrame.mean(axis=None) will return a scalar mean over the entire DataFrame. To retain the old behavior, use 'frame.mean(axis=0)' or just 'frame.mean()'\n",
      "  return mean(axis=axis, dtype=dtype, out=out, **kwargs)\n"
     ]
    }
   ],
   "source": [
    "# Normalize\n",
    "mu = inputs.mean()\n",
    "sigma = inputs.std()\n",
    "inputs = (inputs - mu)/sigma\n",
    "\n",
    "print(\"Mean and std dev after normalization:\")\n",
    "print(\"Mean: \\n\", np.mean(inputs))\n",
    "print(\"\\nStd dev: \\n\", np.std(inputs))\n",
    "\n",
    "inputs = inputs.to_numpy()\n",
    "outputs = outputs.to_numpy()"
   ]
  },
  {
   "cell_type": "code",
   "execution_count": 84,
   "id": "b2590b81",
   "metadata": {},
   "outputs": [],
   "source": [
    "from sklearn.model_selection import train_test_split\n",
    "\n",
    "# split data with train_test_split from sklearn (provides data shuffling which is very useful)\n",
    "X_train, X_test, y_train, y_test = train_test_split(inputs, outputs, test_size=0.25, random_state=3, shuffle=True)\n",
    "\n",
    "train_size = X_train.shape[0]\n",
    "test_size = X_test.shape[0]"
   ]
  },
  {
   "cell_type": "markdown",
   "id": "e6f2cb59",
   "metadata": {},
   "source": [
    "### Classification with gaussian bayes naive classifier"
   ]
  },
  {
   "cell_type": "code",
   "execution_count": 85,
   "id": "8930da41",
   "metadata": {},
   "outputs": [
    {
     "name": "stdout",
     "output_type": "stream",
     "text": [
      "Number of correctly labeled points out of a total 819 points : 509\n",
      "Test success rate: 62.14896214896215%\n"
     ]
    }
   ],
   "source": [
    "from sklearn.naive_bayes import GaussianNB\n",
    "\n",
    "gnb = GaussianNB()\n",
    "\n",
    "# fit() returns the object itself, so I can immediately call predict() on the test set\n",
    "y_pred = gnb.fit(X_train, y_train).predict(X_test)\n",
    "\n",
    "n_test = X_test.shape[0]\n",
    "n_success = (y_test == y_pred).sum()\n",
    "print(f\"Number of correctly labeled points out of a total {n_test} points : {n_success}\")\n",
    "print(f\"Test success rate: {n_success/n_test*100}%\")"
   ]
  },
  {
   "cell_type": "markdown",
   "id": "bf0f07ae",
   "metadata": {},
   "source": [
    "### Classification with fully connected network (MLP)"
   ]
  },
  {
   "cell_type": "code",
   "execution_count": 86,
   "id": "48352ad5",
   "metadata": {},
   "outputs": [
    {
     "name": "stdout",
     "output_type": "stream",
     "text": [
      "Epoch 1/20\n",
      "500/500 [==============================] - 3s 5ms/step - loss: 0.2482 - accuracy: 0.6060 - val_loss: 0.2387 - val_accuracy: 0.6068\n",
      "Epoch 2/20\n",
      "500/500 [==============================] - 3s 6ms/step - loss: 0.2364 - accuracy: 0.6139 - val_loss: 0.2379 - val_accuracy: 0.6068\n",
      "Epoch 3/20\n",
      "500/500 [==============================] - 3s 6ms/step - loss: 0.2350 - accuracy: 0.6179 - val_loss: 0.2375 - val_accuracy: 0.6068\n",
      "Epoch 4/20\n",
      "500/500 [==============================] - 3s 6ms/step - loss: 0.2361 - accuracy: 0.6054 - val_loss: 0.2366 - val_accuracy: 0.6068\n",
      "Epoch 5/20\n",
      "500/500 [==============================] - 3s 6ms/step - loss: 0.2332 - accuracy: 0.6094 - val_loss: 0.2353 - val_accuracy: 0.6068\n",
      "Epoch 6/20\n",
      "500/500 [==============================] - 3s 6ms/step - loss: 0.2290 - accuracy: 0.6230 - val_loss: 0.2327 - val_accuracy: 0.6154\n",
      "Epoch 7/20\n",
      "500/500 [==============================] - 3s 5ms/step - loss: 0.2265 - accuracy: 0.6390 - val_loss: 0.2301 - val_accuracy: 0.6276\n",
      "Epoch 8/20\n",
      "500/500 [==============================] - 3s 6ms/step - loss: 0.2274 - accuracy: 0.6314 - val_loss: 0.2286 - val_accuracy: 0.6337\n",
      "Epoch 9/20\n",
      "500/500 [==============================] - 3s 5ms/step - loss: 0.2200 - accuracy: 0.6525 - val_loss: 0.2268 - val_accuracy: 0.6313\n",
      "Epoch 10/20\n",
      "500/500 [==============================] - 2s 5ms/step - loss: 0.2217 - accuracy: 0.6510 - val_loss: 0.2285 - val_accuracy: 0.6520\n",
      "Epoch 11/20\n",
      "500/500 [==============================] - 3s 6ms/step - loss: 0.2163 - accuracy: 0.6695 - val_loss: 0.2267 - val_accuracy: 0.6374\n",
      "Epoch 12/20\n",
      "500/500 [==============================] - 3s 5ms/step - loss: 0.2169 - accuracy: 0.6685 - val_loss: 0.2251 - val_accuracy: 0.6435\n",
      "Epoch 13/20\n",
      "500/500 [==============================] - 3s 6ms/step - loss: 0.2180 - accuracy: 0.6570 - val_loss: 0.2244 - val_accuracy: 0.6484\n",
      "Epoch 14/20\n",
      "500/500 [==============================] - 3s 6ms/step - loss: 0.2105 - accuracy: 0.6770 - val_loss: 0.2248 - val_accuracy: 0.6386\n",
      "Epoch 15/20\n",
      "500/500 [==============================] - 3s 6ms/step - loss: 0.2184 - accuracy: 0.6550 - val_loss: 0.2224 - val_accuracy: 0.6508\n",
      "Epoch 16/20\n",
      "500/500 [==============================] - 3s 5ms/step - loss: 0.2116 - accuracy: 0.6650 - val_loss: 0.2215 - val_accuracy: 0.6654\n",
      "Epoch 17/20\n",
      "500/500 [==============================] - 3s 5ms/step - loss: 0.2104 - accuracy: 0.6770 - val_loss: 0.2207 - val_accuracy: 0.6716\n",
      "Epoch 18/20\n",
      "500/500 [==============================] - 3s 5ms/step - loss: 0.2101 - accuracy: 0.6685 - val_loss: 0.2202 - val_accuracy: 0.6667\n",
      "Epoch 19/20\n",
      "500/500 [==============================] - 3s 5ms/step - loss: 0.2078 - accuracy: 0.6755 - val_loss: 0.2193 - val_accuracy: 0.6679\n",
      "Epoch 20/20\n",
      "500/500 [==============================] - 2s 5ms/step - loss: 0.2094 - accuracy: 0.6680 - val_loss: 0.2176 - val_accuracy: 0.6716\n"
     ]
    }
   ],
   "source": [
    "#hyperparameters\n",
    "n_epochs = 20\n",
    "n_steps_epoch = 500\n",
    "batch_sz = train_size // n_steps_epoch\n",
    "\n",
    "\n",
    "# define MLP model\n",
    "class MyMLP(tf.keras.Model):\n",
    "\n",
    "    def __init__(self):\n",
    "        super().__init__()\n",
    "        self.layer_in = tf.keras.layers.Dense(9, activation=tf.nn.relu)\n",
    "        self.layer1 = tf.keras.layers.Dense(10, activation=tf.nn.relu)\n",
    "        self.layer2 = tf.keras.layers.Dense(8, activation=tf.nn.relu)\n",
    "        self.layer3 = tf.keras.layers.Dense(4, activation=tf.nn.sigmoid)\n",
    "        self.layer_out = tf.keras.layers.Dense(1, activation=tf.nn.sigmoid)\n",
    "    \n",
    "    def call(self, inputs):\n",
    "        x = self.layer_in(inputs)\n",
    "        x = self.layer1(x)\n",
    "        x = self.layer2(x)\n",
    "        x = self.layer3(x)\n",
    "        out = self.layer_out(x)\n",
    "        # print(out.shape)\n",
    "        return out\n",
    "        \n",
    "mlp = MyMLP()\n",
    "\n",
    "\n",
    "mlp.compile(optimizer=\"Adam\", loss=\"mse\", metrics=[\"accuracy\"], )\n",
    "history = mlp.fit(X_train, y_train, \n",
    "                    epochs=n_epochs, \n",
    "                    batch_size=batch_sz, \n",
    "                    steps_per_epoch=n_steps_epoch,\n",
    "                    validation_data=(X_test, y_test))\n",
    "y_pred = mlp.predict(X_test)\n",
    "\n",
    "n_test = X_test.shape[0]\n",
    "y_pred = y_pred.reshape(1, y_pred.shape[0]); y_pred = y_pred[0]"
   ]
  },
  {
   "cell_type": "code",
   "execution_count": 87,
   "id": "b540d093",
   "metadata": {},
   "outputs": [
    {
     "name": "stdout",
     "output_type": "stream",
     "text": [
      "26/26 [==============================] - 0s 2ms/step - loss: 0.2176 - accuracy: 0.6716\n",
      "\n",
      "Final loss over test set: 0.2176\n",
      "Final acccuracy over test set: 67.16%\n",
      "\n"
     ]
    },
    {
     "data": {
      "image/png": "[encoded data removed]",
      "text/plain": [
       "<Figure size 432x288 with 1 Axes>"
      ]
     },
     "metadata": {
      "needs_background": "light"
     },
     "output_type": "display_data"
    }
   ],
   "source": [
    "loss, accuracy = mlp.evaluate(X_test, y_test)\n",
    "print(f\"\\nFinal loss over test set: {loss:.4f}\\nFinal acccuracy over test set: {accuracy*100:.2f}%\\n\")\n",
    "\n",
    "plt.plot(history.history[\"accuracy\"], label=\"accuracy\")\n",
    "plt.plot(history.history[\"val_accuracy\"], label=\"validation accuracy\")\n",
    "plt.xlabel('Epoch')\n",
    "plt.ylabel('Accuracy')\n",
    "plt.show()"
   ]
  },
  {
   "cell_type": "markdown",
   "id": "36ab8756",
   "metadata": {},
   "source": [
    "### Convolutional neural network"
   ]
  },
  {
   "cell_type": "markdown",
   "id": "e3a8762a",
   "metadata": {},
   "source": [
    "#### Experiments with convolutional layers in tensorflow"
   ]
  },
  {
   "cell_type": "code",
   "execution_count": 88,
   "id": "19f7a39a",
   "metadata": {},
   "outputs": [
    {
     "name": "stdout",
     "output_type": "stream",
     "text": [
      "input shape:  (1, 13, 1)\n",
      "tf.Tensor(\n",
      "[[[0.57033277]\n",
      "  [1.3621736 ]\n",
      "  [2.1540143 ]\n",
      "  [2.9458551 ]\n",
      "  [3.737696  ]\n",
      "  [3.2537043 ]\n",
      "  [4.1807117 ]\n",
      "  [3.3888714 ]\n",
      "  [2.5970304 ]\n",
      "  [1.8051896 ]\n",
      "  [1.0133488 ]]], shape=(1, 11, 1), dtype=float32)\n"
     ]
    }
   ],
   "source": [
    "a = np.array([[[0,1,2,3,4,5,6,5,4,3,2,1,0]]], dtype='float').reshape(1,13,1)\n",
    "input_sh = a.shape\n",
    "print(\"input shape: \", input_sh)\n",
    "\n",
    "\"\"\" First number is number of output channels, second number is kernel size\n",
    "IMPORTANT: the input convolutional layer of a NN  in tensorflow expects at least a 3rd order tensor where:\n",
    " - First dimension is batch size\n",
    " - Second dimension is the dimension that is convoluted\n",
    " - Third dimension is number of input channels\n",
    " \n",
    "IMPORTANT2: the input convolutional layer of a NN takes an input_shape argument that provides the input size:\n",
    "input_shape=(dimension that is convoluted, number of input channels)\n",
    "\"\"\"\n",
    "y = tf.keras.layers.Conv1D(1, 3, input_shape=input_sh[1:])(a)\n",
    "print(y)"
   ]
  },
  {
   "cell_type": "markdown",
   "id": "15d4aabf",
   "metadata": {},
   "source": [
    "#### Classification with convolutional NN"
   ]
  },
  {
   "cell_type": "code",
   "execution_count": 89,
   "id": "90787240",
   "metadata": {},
   "outputs": [],
   "source": [
    "X_train, X_test, y_train, y_test = train_test_split(inputs, outputs, test_size=0.25, random_state=3, shuffle=True)\n",
    "X_train, X_test = np.expand_dims(X_train, axis = 2), np.expand_dims(X_test, axis = 2) "
   ]
  },
  {
   "cell_type": "code",
   "execution_count": 90,
   "id": "086ba472",
   "metadata": {},
   "outputs": [
    {
     "name": "stdout",
     "output_type": "stream",
     "text": [
      "Epoch 1/20\n",
      "500/500 [==============================] - 3s 5ms/step - loss: 0.2422 - accuracy: 0.6025 - val_loss: 0.2388 - val_accuracy: 0.6068\n",
      "Epoch 2/20\n",
      "500/500 [==============================] - 2s 5ms/step - loss: 0.2369 - accuracy: 0.6149 - val_loss: 0.2386 - val_accuracy: 0.6068\n",
      "Epoch 3/20\n",
      "500/500 [==============================] - 3s 5ms/step - loss: 0.2373 - accuracy: 0.6119 - val_loss: 0.2384 - val_accuracy: 0.6068\n",
      "Epoch 4/20\n",
      "500/500 [==============================] - 2s 5ms/step - loss: 0.2392 - accuracy: 0.6009 - val_loss: 0.2383 - val_accuracy: 0.6068\n",
      "Epoch 5/20\n",
      "500/500 [==============================] - 3s 5ms/step - loss: 0.2350 - accuracy: 0.6204 - val_loss: 0.2382 - val_accuracy: 0.6068\n",
      "Epoch 6/20\n",
      "500/500 [==============================] - 3s 5ms/step - loss: 0.2370 - accuracy: 0.6080 - val_loss: 0.2381 - val_accuracy: 0.6068\n",
      "Epoch 7/20\n",
      "500/500 [==============================] - 2s 4ms/step - loss: 0.2359 - accuracy: 0.6159 - val_loss: 0.2380 - val_accuracy: 0.6068\n",
      "Epoch 8/20\n",
      "500/500 [==============================] - 2s 5ms/step - loss: 0.2338 - accuracy: 0.6154 - val_loss: 0.2383 - val_accuracy: 0.6068\n",
      "Epoch 9/20\n",
      "500/500 [==============================] - 2s 5ms/step - loss: 0.2370 - accuracy: 0.6069 - val_loss: 0.2383 - val_accuracy: 0.6068\n",
      "Epoch 10/20\n",
      "500/500 [==============================] - 3s 5ms/step - loss: 0.2371 - accuracy: 0.6094 - val_loss: 0.2380 - val_accuracy: 0.6093\n",
      "Epoch 11/20\n",
      "500/500 [==============================] - 3s 5ms/step - loss: 0.2357 - accuracy: 0.6195 - val_loss: 0.2379 - val_accuracy: 0.6105\n",
      "Epoch 12/20\n",
      "500/500 [==============================] - 2s 5ms/step - loss: 0.2345 - accuracy: 0.6224 - val_loss: 0.2384 - val_accuracy: 0.6081\n",
      "Epoch 13/20\n",
      "500/500 [==============================] - 2s 5ms/step - loss: 0.2361 - accuracy: 0.6149 - val_loss: 0.2382 - val_accuracy: 0.6068\n",
      "Epoch 14/20\n",
      "500/500 [==============================] - 2s 5ms/step - loss: 0.2309 - accuracy: 0.6365 - val_loss: 0.2382 - val_accuracy: 0.6093\n",
      "Epoch 15/20\n",
      "500/500 [==============================] - 3s 5ms/step - loss: 0.2353 - accuracy: 0.6144 - val_loss: 0.2378 - val_accuracy: 0.6068\n",
      "Epoch 16/20\n",
      "500/500 [==============================] - 3s 5ms/step - loss: 0.2346 - accuracy: 0.6209 - val_loss: 0.2381 - val_accuracy: 0.6032\n",
      "Epoch 17/20\n",
      "500/500 [==============================] - 2s 5ms/step - loss: 0.2310 - accuracy: 0.6260 - val_loss: 0.2390 - val_accuracy: 0.6117\n",
      "Epoch 18/20\n",
      "500/500 [==============================] - 3s 5ms/step - loss: 0.2337 - accuracy: 0.6179 - val_loss: 0.2382 - val_accuracy: 0.6081\n",
      "Epoch 19/20\n",
      "500/500 [==============================] - 2s 5ms/step - loss: 0.2335 - accuracy: 0.6119 - val_loss: 0.2382 - val_accuracy: 0.6068\n",
      "Epoch 20/20\n",
      "500/500 [==============================] - 3s 5ms/step - loss: 0.2347 - accuracy: 0.6089 - val_loss: 0.2381 - val_accuracy: 0.6068\n"
     ]
    }
   ],
   "source": [
    "from tensorflow.python.ops.numpy_ops import np_config\n",
    "\n",
    "np_config.enable_numpy_behavior()\n",
    "\n",
    "#hyperparameters\n",
    "n_epochs = 20\n",
    "n_steps_epoch = 500\n",
    "batch_sz = train_size // n_steps_epoch\n",
    "pattern_len = X_train.shape[1]\n",
    "\n",
    "# define CNN model\n",
    "class MyCNN(tf.keras.Model):\n",
    "\n",
    "    def __init__(self):\n",
    "        super().__init__()\n",
    "        in_shape = (batch_sz, pattern_len, 1)\n",
    "        self.conv_in = tf.keras.layers.Conv1D(1, 2, input_shape=in_shape[1:], activation=tf.nn.relu, padding=\"same\")\n",
    "        self.pool_in = tf.keras.layers.AvgPool1D(2)\n",
    "        self.conv1 = tf.keras.layers.Conv1D(1, 2, activation=tf.nn.relu, padding=\"same\")\n",
    "        self.pool_1 = tf.keras.layers.AvgPool1D(2)\n",
    "        self.flatten = tf.keras.layers.Flatten()\n",
    "        self.dense1 = tf.keras.layers.Dense(6, activation=tf.nn.relu)\n",
    "        self.dense2 = tf.keras.layers.Dense(3, activation=tf.nn.relu)\n",
    "        self.dense_out = tf.keras.layers.Dense(1, activation=tf.nn.sigmoid)\n",
    "    \n",
    "    def call(self, inputs):\n",
    "        x = self.conv_in(inputs)\n",
    "        x = self.pool_in(x)\n",
    "        x = self.conv1(x)\n",
    "        x = self.pool_1(x)\n",
    "        x = self.flatten(x)\n",
    "        x = self.dense1(x)\n",
    "        x = self.dense2(x)\n",
    "        out = self.dense_out(x)\n",
    "        return out\n",
    "        \n",
    "cnn = MyCNN()\n",
    "\n",
    "cnn.compile(optimizer=\"Adam\", loss=\"mse\", metrics=[\"accuracy\"])\n",
    "history = cnn.fit(X_train, \n",
    "                    y_train, \n",
    "                    epochs=n_epochs, \n",
    "                    batch_size=train_size//n_steps_epoch, \n",
    "                    steps_per_epoch=n_steps_epoch,\n",
    "                    validation_data=(X_test, y_test))\n",
    "y_pred = cnn.predict(X_test)\n",
    "\n",
    "n_test = X_test.shape[0]\n",
    "y_pred = y_pred.reshape(1, y_pred.shape[0]); y_pred = y_pred[0]"
   ]
  },
  {
   "cell_type": "code",
   "execution_count": 92,
   "id": "7d7adbae",
   "metadata": {},
   "outputs": [
    {
     "name": "stdout",
     "output_type": "stream",
     "text": [
      "26/26 [==============================] - 0s 2ms/step - loss: 0.2381 - accuracy: 0.6068\n",
      "\n",
      "Final loss over test set: 0.2381\n",
      "Final acccuracy over test set: 60.68%\n",
      "\n"
     ]
    },
    {
     "data": {
      "image/png": "[encoded data removed]",
      "text/plain": [
       "<Figure size 432x288 with 1 Axes>"
      ]
     },
     "metadata": {
      "needs_background": "light"
     },
     "output_type": "display_data"
    }
   ],
   "source": [
    "test_loss, test_acc = cnn.evaluate(X_test, y_test)\n",
    "print(f\"\\nFinal loss over test set: {test_loss:.4f}\\nFinal acccuracy over test set: {test_acc*100:.2f}%\\n\")\n",
    "\n",
    "plt.plot(history.history[\"accuracy\"])\n",
    "plt.plot(history.history[\"val_accuracy\"])\n",
    "plt.show()"
   ]
  },
  {
   "cell_type": "code",
   "execution_count": null,
   "id": "eed60767",
   "metadata": {},
   "outputs": [],
   "source": []
  }
 ],
 "metadata": {
  "kernelspec": {
   "display_name": "Python 3 (ipykernel)",
   "language": "python",
   "name": "python3"
  },
  "language_info": {
   "codemirror_mode": {
    "name": "ipython",
    "version": 3
   },
   "file_extension": ".py",
   "mimetype": "text/x-python",
   "name": "python",
   "nbconvert_exporter": "python",
   "pygments_lexer": "ipython3",
   "version": "3.10.4"
  }
 },
 "nbformat": 4,
 "nbformat_minor": 5
}
