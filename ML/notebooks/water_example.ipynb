{
 "cells": [
  {
   "cell_type": "markdown",
   "id": "0650582e",
   "metadata": {},
   "source": [
    "# Example of classification on water dataset"
   ]
  },
  {
   "cell_type": "markdown",
   "id": "246146b8",
   "metadata": {},
   "source": [
    "### Importing dependencies and loading dataset"
   ]
  },
  {
   "cell_type": "code",
   "execution_count": 1,
   "id": "215fc9f2",
   "metadata": {},
   "outputs": [
    {
     "name": "stderr",
     "output_type": "stream",
     "text": [
      "2022-04-29 14:17:33.863533: W tensorflow/stream_executor/platform/default/dso_loader.cc:64] Could not load dynamic library 'libcudart.so.11.0'; dlerror: libcudart.so.11.0: cannot open shared object file: No such file or directory\n",
      "2022-04-29 14:17:33.863583: I tensorflow/stream_executor/cuda/cudart_stub.cc:29] Ignore above cudart dlerror if you do not have a GPU set up on your machine.\n"
     ]
    }
   ],
   "source": [
    "# Write your code here\n",
    "import seaborn as sb\n",
    "import matplotlib.pyplot as plt\n",
    "import numpy as np\n",
    "import pandas as pd\n",
    "from sklearn.preprocessing import StandardScaler\n",
    "import tensorflow as tf"
   ]
  },
  {
   "cell_type": "code",
   "execution_count": 2,
   "id": "24c5f2db",
   "metadata": {},
   "outputs": [
    {
     "name": "stdout",
     "output_type": "stream",
     "text": [
      "          ph    Hardness        Solids  Chloramines     Sulfate  Conductivity  \\\n",
      "0        NaN  204.890455  20791.318981     7.300212  368.516441    564.308654   \n",
      "1   3.716080  129.422921  18630.057858     6.635246         NaN    592.885359   \n",
      "2   8.099124  224.236259  19909.541732     9.275884         NaN    418.606213   \n",
      "3   8.316766  214.373394  22018.417441     8.059332  356.886136    363.266516   \n",
      "4   9.092223  181.101509  17978.986339     6.546600  310.135738    398.410813   \n",
      "5   5.584087  188.313324  28748.687739     7.544869  326.678363    280.467916   \n",
      "6  10.223862  248.071735  28749.716544     7.513408  393.663396    283.651634   \n",
      "7   8.635849  203.361523  13672.091764     4.563009  303.309771    474.607645   \n",
      "8        NaN  118.988579  14285.583854     7.804174  268.646941    389.375566   \n",
      "9  11.180284  227.231469  25484.508491     9.077200  404.041635    563.885481   \n",
      "\n",
      "   Organic_carbon  Trihalomethanes  Turbidity  Potability  \n",
      "0       10.379783        86.990970   2.963135           0  \n",
      "1       15.180013        56.329076   4.500656           0  \n",
      "2       16.868637        66.420093   3.055934           0  \n",
      "3       18.436524       100.341674   4.628771           0  \n",
      "4       11.558279        31.997993   4.075075           0  \n",
      "5        8.399735        54.917862   2.559708           0  \n",
      "6       13.789695        84.603556   2.672989           0  \n",
      "7       12.363817        62.798309   4.401425           0  \n",
      "8       12.706049        53.928846   3.595017           0  \n",
      "9       17.927806        71.976601   4.370562           0  \n"
     ]
    }
   ],
   "source": [
    "path = \"water_potability.csv\"\n",
    "\n",
    "data = pd.read_csv(path)\n",
    "print(data[:][0:10])"
   ]
  },
  {
   "cell_type": "code",
   "execution_count": 3,
   "id": "de202bcf",
   "metadata": {},
   "outputs": [],
   "source": [
    "#Handle NaN values and split into inputs and outputs\n",
    "inputs, outputs = data.iloc[:, 0:9], data.iloc[:, 9]\n",
    "inputs = inputs.fillna(inputs.mean())\n",
    "data = data.fillna(data.mean())"
   ]
  },
  {
   "cell_type": "code",
   "execution_count": 4,
   "id": "692e183d",
   "metadata": {},
   "outputs": [
    {
     "name": "stdout",
     "output_type": "stream",
     "text": [
      "Mean and std dev after normalization:\n",
      "Mean: \n",
      " ph                -4.674052e-16\n",
      "Hardness           1.025906e-15\n",
      "Solids            -4.554761e-17\n",
      "Chloramines        5.205441e-16\n",
      "Sulfate            1.591997e-15\n",
      "Conductivity       1.756836e-16\n",
      "Organic_carbon     1.735147e-17\n",
      "Trihalomethanes    1.713458e-16\n",
      "Turbidity          5.552471e-16\n",
      "dtype: float64\n",
      "\n",
      "Std dev: \n",
      " ph                 0.999847\n",
      "Hardness           0.999847\n",
      "Solids             0.999847\n",
      "Chloramines        0.999847\n",
      "Sulfate            0.999847\n",
      "Conductivity       0.999847\n",
      "Organic_carbon     0.999847\n",
      "Trihalomethanes    0.999847\n",
      "Turbidity          0.999847\n",
      "dtype: float64\n"
     ]
    },
    {
     "name": "stderr",
     "output_type": "stream",
     "text": [
      "/usr/lib/python3.10/site-packages/numpy/core/fromnumeric.py:3472: FutureWarning: In a future version, DataFrame.mean(axis=None) will return a scalar mean over the entire DataFrame. To retain the old behavior, use 'frame.mean(axis=0)' or just 'frame.mean()'\n",
      "  return mean(axis=axis, dtype=dtype, out=out, **kwargs)\n"
     ]
    }
   ],
   "source": [
    "# Normalize\n",
    "mu = inputs.mean()\n",
    "sigma = inputs.std()\n",
    "inputs = (inputs - mu)/sigma\n",
    "\n",
    "print(\"Mean and std dev after normalization:\")\n",
    "print(\"Mean: \\n\", np.mean(inputs))\n",
    "print(\"\\nStd dev: \\n\", np.std(inputs))\n",
    "\n",
    "inputs = inputs.to_numpy()\n",
    "outputs = outputs.to_numpy()"
   ]
  },
  {
   "cell_type": "code",
   "execution_count": 5,
   "id": "b2590b81",
   "metadata": {},
   "outputs": [],
   "source": [
    "from sklearn.model_selection import train_test_split\n",
    "\n",
    "# split data with train_test_split from sklearn (provides data shuffling which is very useful)\n",
    "X_train, X_test, y_train, y_test = train_test_split(inputs, outputs, test_size=0.25, random_state=3, shuffle=True)\n",
    "\n",
    "train_size = X_train.shape[0]\n",
    "test_size = X_test.shape[0]"
   ]
  },
  {
   "cell_type": "markdown",
   "id": "e6f2cb59",
   "metadata": {},
   "source": [
    "### Classification with gaussian bayes naive classifier"
   ]
  },
  {
   "cell_type": "code",
   "execution_count": 6,
   "id": "8930da41",
   "metadata": {},
   "outputs": [
    {
     "name": "stdout",
     "output_type": "stream",
     "text": [
      "Number of correctly labeled points out of a total 819 points : 509\n",
      "Test success rate: 62.14896214896215%\n"
     ]
    }
   ],
   "source": [
    "from sklearn.naive_bayes import GaussianNB\n",
    "\n",
    "gnb = GaussianNB()\n",
    "\n",
    "# fit() returns the object itself, so I can immediately call predict() on the test set\n",
    "y_pred = gnb.fit(X_train, y_train).predict(X_test)\n",
    "\n",
    "n_test = X_test.shape[0]\n",
    "n_success = (y_test == y_pred).sum()\n",
    "print(f\"Number of correctly labeled points out of a total {n_test} points : {n_success}\")\n",
    "print(f\"Test success rate: {n_success/n_test*100}%\")"
   ]
  },
  {
   "cell_type": "markdown",
   "id": "bf0f07ae",
   "metadata": {},
   "source": [
    "### Classification with fully connected network (MLP)"
   ]
  },
  {
   "cell_type": "code",
   "execution_count": 7,
   "id": "48352ad5",
   "metadata": {},
   "outputs": [
    {
     "name": "stderr",
     "output_type": "stream",
     "text": [
      "2022-04-29 14:17:39.232578: E tensorflow/stream_executor/cuda/cuda_driver.cc:271] failed call to cuInit: CUDA_ERROR_NO_DEVICE: no CUDA-capable device is detected\n",
      "2022-04-29 14:17:39.232635: I tensorflow/stream_executor/cuda/cuda_diagnostics.cc:156] kernel driver does not appear to be running on this host (pcspino): /proc/driver/nvidia/version does not exist\n",
      "2022-04-29 14:17:39.234241: I tensorflow/core/platform/cpu_feature_guard.cc:151] This TensorFlow binary is optimized with oneAPI Deep Neural Network Library (oneDNN) to use the following CPU instructions in performance-critical operations:  AVX2 FMA\n",
      "To enable them in other operations, rebuild TensorFlow with the appropriate compiler flags.\n"
     ]
    },
    {
     "name": "stdout",
     "output_type": "stream",
     "text": [
      "Epoch 1/20\n",
      "500/500 [==============================] - 2s 3ms/step - loss: 0.2453 - accuracy: 0.5610 - val_loss: 0.2374 - val_accuracy: 0.6068\n",
      "Epoch 2/20\n",
      "500/500 [==============================] - 1s 3ms/step - loss: 0.2345 - accuracy: 0.6159 - val_loss: 0.2358 - val_accuracy: 0.6068\n",
      "Epoch 3/20\n",
      "500/500 [==============================] - 1s 2ms/step - loss: 0.2365 - accuracy: 0.6024 - val_loss: 0.2331 - val_accuracy: 0.6081\n",
      "Epoch 4/20\n",
      "500/500 [==============================] - 1s 2ms/step - loss: 0.2306 - accuracy: 0.6184 - val_loss: 0.2296 - val_accuracy: 0.6276\n",
      "Epoch 5/20\n",
      "243/500 [=============>................] - ETA: 0s - loss: 0.2300 - accuracy: 0.6286"
     ]
    },
    {
     "ename": "KeyboardInterrupt",
     "evalue": "",
     "output_type": "error",
     "traceback": [
      "\u001b[0;31m---------------------------------------------------------------------------\u001b[0m",
      "\u001b[0;31mKeyboardInterrupt\u001b[0m                         Traceback (most recent call last)",
      "\u001b[1;32m/home/spino/MyCode/Python/ML/notebooks/water_example.ipynb Cell 11'\u001b[0m in \u001b[0;36m<cell line: 31>\u001b[0;34m()\u001b[0m\n\u001b[1;32m     <a href='vscode-notebook-cell:/home/spino/MyCode/Python/ML/notebooks/water_example.ipynb#ch0000010?line=26'>27</a>\u001b[0m mlp \u001b[39m=\u001b[39m MyMLP()\n\u001b[1;32m     <a href='vscode-notebook-cell:/home/spino/MyCode/Python/ML/notebooks/water_example.ipynb#ch0000010?line=29'>30</a>\u001b[0m mlp\u001b[39m.\u001b[39mcompile(optimizer\u001b[39m=\u001b[39m\u001b[39m\"\u001b[39m\u001b[39mAdam\u001b[39m\u001b[39m\"\u001b[39m, loss\u001b[39m=\u001b[39m\u001b[39m\"\u001b[39m\u001b[39mmse\u001b[39m\u001b[39m\"\u001b[39m, metrics\u001b[39m=\u001b[39m[\u001b[39m\"\u001b[39m\u001b[39maccuracy\u001b[39m\u001b[39m\"\u001b[39m], )\n\u001b[0;32m---> <a href='vscode-notebook-cell:/home/spino/MyCode/Python/ML/notebooks/water_example.ipynb#ch0000010?line=30'>31</a>\u001b[0m history \u001b[39m=\u001b[39m mlp\u001b[39m.\u001b[39;49mfit(X_train, y_train, \n\u001b[1;32m     <a href='vscode-notebook-cell:/home/spino/MyCode/Python/ML/notebooks/water_example.ipynb#ch0000010?line=31'>32</a>\u001b[0m                     epochs\u001b[39m=\u001b[39;49mn_epochs, \n\u001b[1;32m     <a href='vscode-notebook-cell:/home/spino/MyCode/Python/ML/notebooks/water_example.ipynb#ch0000010?line=32'>33</a>\u001b[0m                     batch_size\u001b[39m=\u001b[39;49mbatch_sz, \n\u001b[1;32m     <a href='vscode-notebook-cell:/home/spino/MyCode/Python/ML/notebooks/water_example.ipynb#ch0000010?line=33'>34</a>\u001b[0m                     steps_per_epoch\u001b[39m=\u001b[39;49mn_steps_epoch,\n\u001b[1;32m     <a href='vscode-notebook-cell:/home/spino/MyCode/Python/ML/notebooks/water_example.ipynb#ch0000010?line=34'>35</a>\u001b[0m                     validation_data\u001b[39m=\u001b[39;49m(X_test, y_test))\n\u001b[1;32m     <a href='vscode-notebook-cell:/home/spino/MyCode/Python/ML/notebooks/water_example.ipynb#ch0000010?line=35'>36</a>\u001b[0m y_pred \u001b[39m=\u001b[39m mlp\u001b[39m.\u001b[39mpredict(X_test)\n\u001b[1;32m     <a href='vscode-notebook-cell:/home/spino/MyCode/Python/ML/notebooks/water_example.ipynb#ch0000010?line=37'>38</a>\u001b[0m n_test \u001b[39m=\u001b[39m X_test\u001b[39m.\u001b[39mshape[\u001b[39m0\u001b[39m]\n",
      "File \u001b[0;32m~/.local/lib/python3.10/site-packages/keras/utils/traceback_utils.py:64\u001b[0m, in \u001b[0;36mfilter_traceback.<locals>.error_handler\u001b[0;34m(*args, **kwargs)\u001b[0m\n\u001b[1;32m     <a href='file:///home/spino/.local/lib/python3.10/site-packages/keras/utils/traceback_utils.py?line=61'>62</a>\u001b[0m filtered_tb \u001b[39m=\u001b[39m \u001b[39mNone\u001b[39;00m\n\u001b[1;32m     <a href='file:///home/spino/.local/lib/python3.10/site-packages/keras/utils/traceback_utils.py?line=62'>63</a>\u001b[0m \u001b[39mtry\u001b[39;00m:\n\u001b[0;32m---> <a href='file:///home/spino/.local/lib/python3.10/site-packages/keras/utils/traceback_utils.py?line=63'>64</a>\u001b[0m   \u001b[39mreturn\u001b[39;00m fn(\u001b[39m*\u001b[39;49margs, \u001b[39m*\u001b[39;49m\u001b[39m*\u001b[39;49mkwargs)\n\u001b[1;32m     <a href='file:///home/spino/.local/lib/python3.10/site-packages/keras/utils/traceback_utils.py?line=64'>65</a>\u001b[0m \u001b[39mexcept\u001b[39;00m \u001b[39mException\u001b[39;00m \u001b[39mas\u001b[39;00m e:  \u001b[39m# pylint: disable=broad-except\u001b[39;00m\n\u001b[1;32m     <a href='file:///home/spino/.local/lib/python3.10/site-packages/keras/utils/traceback_utils.py?line=65'>66</a>\u001b[0m   filtered_tb \u001b[39m=\u001b[39m _process_traceback_frames(e\u001b[39m.\u001b[39m__traceback__)\n",
      "File \u001b[0;32m~/.local/lib/python3.10/site-packages/keras/engine/training.py:1389\u001b[0m, in \u001b[0;36mModel.fit\u001b[0;34m(self, x, y, batch_size, epochs, verbose, callbacks, validation_split, validation_data, shuffle, class_weight, sample_weight, initial_epoch, steps_per_epoch, validation_steps, validation_batch_size, validation_freq, max_queue_size, workers, use_multiprocessing)\u001b[0m\n\u001b[1;32m   <a href='file:///home/spino/.local/lib/python3.10/site-packages/keras/engine/training.py?line=1386'>1387</a>\u001b[0m logs \u001b[39m=\u001b[39m tmp_logs  \u001b[39m# No error, now safe to assign to logs.\u001b[39;00m\n\u001b[1;32m   <a href='file:///home/spino/.local/lib/python3.10/site-packages/keras/engine/training.py?line=1387'>1388</a>\u001b[0m end_step \u001b[39m=\u001b[39m step \u001b[39m+\u001b[39m data_handler\u001b[39m.\u001b[39mstep_increment\n\u001b[0;32m-> <a href='file:///home/spino/.local/lib/python3.10/site-packages/keras/engine/training.py?line=1388'>1389</a>\u001b[0m callbacks\u001b[39m.\u001b[39;49mon_train_batch_end(end_step, logs)\n\u001b[1;32m   <a href='file:///home/spino/.local/lib/python3.10/site-packages/keras/engine/training.py?line=1389'>1390</a>\u001b[0m \u001b[39mif\u001b[39;00m \u001b[39mself\u001b[39m\u001b[39m.\u001b[39mstop_training:\n\u001b[1;32m   <a href='file:///home/spino/.local/lib/python3.10/site-packages/keras/engine/training.py?line=1390'>1391</a>\u001b[0m   \u001b[39mbreak\u001b[39;00m\n",
      "File \u001b[0;32m~/.local/lib/python3.10/site-packages/keras/callbacks.py:438\u001b[0m, in \u001b[0;36mCallbackList.on_train_batch_end\u001b[0;34m(self, batch, logs)\u001b[0m\n\u001b[1;32m    <a href='file:///home/spino/.local/lib/python3.10/site-packages/keras/callbacks.py?line=430'>431</a>\u001b[0m \u001b[39m\"\"\"Calls the `on_train_batch_end` methods of its callbacks.\u001b[39;00m\n\u001b[1;32m    <a href='file:///home/spino/.local/lib/python3.10/site-packages/keras/callbacks.py?line=431'>432</a>\u001b[0m \n\u001b[1;32m    <a href='file:///home/spino/.local/lib/python3.10/site-packages/keras/callbacks.py?line=432'>433</a>\u001b[0m \u001b[39mArgs:\u001b[39;00m\n\u001b[1;32m    <a href='file:///home/spino/.local/lib/python3.10/site-packages/keras/callbacks.py?line=433'>434</a>\u001b[0m \u001b[39m    batch: Integer, index of batch within the current epoch.\u001b[39;00m\n\u001b[1;32m    <a href='file:///home/spino/.local/lib/python3.10/site-packages/keras/callbacks.py?line=434'>435</a>\u001b[0m \u001b[39m    logs: Dict. Aggregated metric results up until this batch.\u001b[39;00m\n\u001b[1;32m    <a href='file:///home/spino/.local/lib/python3.10/site-packages/keras/callbacks.py?line=435'>436</a>\u001b[0m \u001b[39m\"\"\"\u001b[39;00m\n\u001b[1;32m    <a href='file:///home/spino/.local/lib/python3.10/site-packages/keras/callbacks.py?line=436'>437</a>\u001b[0m \u001b[39mif\u001b[39;00m \u001b[39mself\u001b[39m\u001b[39m.\u001b[39m_should_call_train_batch_hooks:\n\u001b[0;32m--> <a href='file:///home/spino/.local/lib/python3.10/site-packages/keras/callbacks.py?line=437'>438</a>\u001b[0m   \u001b[39mself\u001b[39;49m\u001b[39m.\u001b[39;49m_call_batch_hook(ModeKeys\u001b[39m.\u001b[39;49mTRAIN, \u001b[39m'\u001b[39;49m\u001b[39mend\u001b[39;49m\u001b[39m'\u001b[39;49m, batch, logs\u001b[39m=\u001b[39;49mlogs)\n",
      "File \u001b[0;32m~/.local/lib/python3.10/site-packages/keras/callbacks.py:297\u001b[0m, in \u001b[0;36mCallbackList._call_batch_hook\u001b[0;34m(self, mode, hook, batch, logs)\u001b[0m\n\u001b[1;32m    <a href='file:///home/spino/.local/lib/python3.10/site-packages/keras/callbacks.py?line=294'>295</a>\u001b[0m   \u001b[39mself\u001b[39m\u001b[39m.\u001b[39m_call_batch_begin_hook(mode, batch, logs)\n\u001b[1;32m    <a href='file:///home/spino/.local/lib/python3.10/site-packages/keras/callbacks.py?line=295'>296</a>\u001b[0m \u001b[39melif\u001b[39;00m hook \u001b[39m==\u001b[39m \u001b[39m'\u001b[39m\u001b[39mend\u001b[39m\u001b[39m'\u001b[39m:\n\u001b[0;32m--> <a href='file:///home/spino/.local/lib/python3.10/site-packages/keras/callbacks.py?line=296'>297</a>\u001b[0m   \u001b[39mself\u001b[39;49m\u001b[39m.\u001b[39;49m_call_batch_end_hook(mode, batch, logs)\n\u001b[1;32m    <a href='file:///home/spino/.local/lib/python3.10/site-packages/keras/callbacks.py?line=297'>298</a>\u001b[0m \u001b[39melse\u001b[39;00m:\n\u001b[1;32m    <a href='file:///home/spino/.local/lib/python3.10/site-packages/keras/callbacks.py?line=298'>299</a>\u001b[0m   \u001b[39mraise\u001b[39;00m \u001b[39mValueError\u001b[39;00m(\n\u001b[1;32m    <a href='file:///home/spino/.local/lib/python3.10/site-packages/keras/callbacks.py?line=299'>300</a>\u001b[0m       \u001b[39mf\u001b[39m\u001b[39m'\u001b[39m\u001b[39mUnrecognized hook: \u001b[39m\u001b[39m{\u001b[39;00mhook\u001b[39m}\u001b[39;00m\u001b[39m. Expected values are [\u001b[39m\u001b[39m\"\u001b[39m\u001b[39mbegin\u001b[39m\u001b[39m\"\u001b[39m\u001b[39m, \u001b[39m\u001b[39m\"\u001b[39m\u001b[39mend\u001b[39m\u001b[39m\"\u001b[39m\u001b[39m]\u001b[39m\u001b[39m'\u001b[39m)\n",
      "File \u001b[0;32m~/.local/lib/python3.10/site-packages/keras/callbacks.py:318\u001b[0m, in \u001b[0;36mCallbackList._call_batch_end_hook\u001b[0;34m(self, mode, batch, logs)\u001b[0m\n\u001b[1;32m    <a href='file:///home/spino/.local/lib/python3.10/site-packages/keras/callbacks.py?line=314'>315</a>\u001b[0m   batch_time \u001b[39m=\u001b[39m time\u001b[39m.\u001b[39mtime() \u001b[39m-\u001b[39m \u001b[39mself\u001b[39m\u001b[39m.\u001b[39m_batch_start_time\n\u001b[1;32m    <a href='file:///home/spino/.local/lib/python3.10/site-packages/keras/callbacks.py?line=315'>316</a>\u001b[0m   \u001b[39mself\u001b[39m\u001b[39m.\u001b[39m_batch_times\u001b[39m.\u001b[39mappend(batch_time)\n\u001b[0;32m--> <a href='file:///home/spino/.local/lib/python3.10/site-packages/keras/callbacks.py?line=317'>318</a>\u001b[0m \u001b[39mself\u001b[39;49m\u001b[39m.\u001b[39;49m_call_batch_hook_helper(hook_name, batch, logs)\n\u001b[1;32m    <a href='file:///home/spino/.local/lib/python3.10/site-packages/keras/callbacks.py?line=319'>320</a>\u001b[0m \u001b[39mif\u001b[39;00m \u001b[39mlen\u001b[39m(\u001b[39mself\u001b[39m\u001b[39m.\u001b[39m_batch_times) \u001b[39m>\u001b[39m\u001b[39m=\u001b[39m \u001b[39mself\u001b[39m\u001b[39m.\u001b[39m_num_batches_for_timing_check:\n\u001b[1;32m    <a href='file:///home/spino/.local/lib/python3.10/site-packages/keras/callbacks.py?line=320'>321</a>\u001b[0m   end_hook_name \u001b[39m=\u001b[39m hook_name\n",
      "File \u001b[0;32m~/.local/lib/python3.10/site-packages/keras/callbacks.py:356\u001b[0m, in \u001b[0;36mCallbackList._call_batch_hook_helper\u001b[0;34m(self, hook_name, batch, logs)\u001b[0m\n\u001b[1;32m    <a href='file:///home/spino/.local/lib/python3.10/site-packages/keras/callbacks.py?line=353'>354</a>\u001b[0m \u001b[39mfor\u001b[39;00m callback \u001b[39min\u001b[39;00m \u001b[39mself\u001b[39m\u001b[39m.\u001b[39mcallbacks:\n\u001b[1;32m    <a href='file:///home/spino/.local/lib/python3.10/site-packages/keras/callbacks.py?line=354'>355</a>\u001b[0m   hook \u001b[39m=\u001b[39m \u001b[39mgetattr\u001b[39m(callback, hook_name)\n\u001b[0;32m--> <a href='file:///home/spino/.local/lib/python3.10/site-packages/keras/callbacks.py?line=355'>356</a>\u001b[0m   hook(batch, logs)\n\u001b[1;32m    <a href='file:///home/spino/.local/lib/python3.10/site-packages/keras/callbacks.py?line=357'>358</a>\u001b[0m \u001b[39mif\u001b[39;00m \u001b[39mself\u001b[39m\u001b[39m.\u001b[39m_check_timing:\n\u001b[1;32m    <a href='file:///home/spino/.local/lib/python3.10/site-packages/keras/callbacks.py?line=358'>359</a>\u001b[0m   \u001b[39mif\u001b[39;00m hook_name \u001b[39mnot\u001b[39;00m \u001b[39min\u001b[39;00m \u001b[39mself\u001b[39m\u001b[39m.\u001b[39m_hook_times:\n",
      "File \u001b[0;32m~/.local/lib/python3.10/site-packages/keras/callbacks.py:1034\u001b[0m, in \u001b[0;36mProgbarLogger.on_train_batch_end\u001b[0;34m(self, batch, logs)\u001b[0m\n\u001b[1;32m   <a href='file:///home/spino/.local/lib/python3.10/site-packages/keras/callbacks.py?line=1032'>1033</a>\u001b[0m \u001b[39mdef\u001b[39;00m \u001b[39mon_train_batch_end\u001b[39m(\u001b[39mself\u001b[39m, batch, logs\u001b[39m=\u001b[39m\u001b[39mNone\u001b[39;00m):\n\u001b[0;32m-> <a href='file:///home/spino/.local/lib/python3.10/site-packages/keras/callbacks.py?line=1033'>1034</a>\u001b[0m   \u001b[39mself\u001b[39;49m\u001b[39m.\u001b[39;49m_batch_update_progbar(batch, logs)\n",
      "File \u001b[0;32m~/.local/lib/python3.10/site-packages/keras/callbacks.py:1107\u001b[0m, in \u001b[0;36mProgbarLogger._batch_update_progbar\u001b[0;34m(self, batch, logs)\u001b[0m\n\u001b[1;32m   <a href='file:///home/spino/.local/lib/python3.10/site-packages/keras/callbacks.py?line=1103'>1104</a>\u001b[0m \u001b[39mif\u001b[39;00m \u001b[39mself\u001b[39m\u001b[39m.\u001b[39mverbose \u001b[39m==\u001b[39m \u001b[39m1\u001b[39m:\n\u001b[1;32m   <a href='file:///home/spino/.local/lib/python3.10/site-packages/keras/callbacks.py?line=1104'>1105</a>\u001b[0m   \u001b[39m# Only block async when verbose = 1.\u001b[39;00m\n\u001b[1;32m   <a href='file:///home/spino/.local/lib/python3.10/site-packages/keras/callbacks.py?line=1105'>1106</a>\u001b[0m   logs \u001b[39m=\u001b[39m tf_utils\u001b[39m.\u001b[39msync_to_numpy_or_python_type(logs)\n\u001b[0;32m-> <a href='file:///home/spino/.local/lib/python3.10/site-packages/keras/callbacks.py?line=1106'>1107</a>\u001b[0m   \u001b[39mself\u001b[39;49m\u001b[39m.\u001b[39;49mprogbar\u001b[39m.\u001b[39;49mupdate(\u001b[39mself\u001b[39;49m\u001b[39m.\u001b[39;49mseen, \u001b[39mlist\u001b[39;49m(logs\u001b[39m.\u001b[39;49mitems()), finalize\u001b[39m=\u001b[39;49m\u001b[39mFalse\u001b[39;49;00m)\n",
      "File \u001b[0;32m~/.local/lib/python3.10/site-packages/keras/utils/generic_utils.py:976\u001b[0m, in \u001b[0;36mProgbar.update\u001b[0;34m(self, current, values, finalize)\u001b[0m\n\u001b[1;32m    <a href='file:///home/spino/.local/lib/python3.10/site-packages/keras/utils/generic_utils.py?line=972'>973</a>\u001b[0m     info \u001b[39m+\u001b[39m\u001b[39m=\u001b[39m \u001b[39m'\u001b[39m\u001b[39m\\n\u001b[39;00m\u001b[39m'\u001b[39m\n\u001b[1;32m    <a href='file:///home/spino/.local/lib/python3.10/site-packages/keras/utils/generic_utils.py?line=974'>975</a>\u001b[0m   message \u001b[39m+\u001b[39m\u001b[39m=\u001b[39m info\n\u001b[0;32m--> <a href='file:///home/spino/.local/lib/python3.10/site-packages/keras/utils/generic_utils.py?line=975'>976</a>\u001b[0m   io_utils\u001b[39m.\u001b[39;49mprint_msg(message, line_break\u001b[39m=\u001b[39;49m\u001b[39mFalse\u001b[39;49;00m)\n\u001b[1;32m    <a href='file:///home/spino/.local/lib/python3.10/site-packages/keras/utils/generic_utils.py?line=976'>977</a>\u001b[0m   message \u001b[39m=\u001b[39m \u001b[39m'\u001b[39m\u001b[39m'\u001b[39m\n\u001b[1;32m    <a href='file:///home/spino/.local/lib/python3.10/site-packages/keras/utils/generic_utils.py?line=978'>979</a>\u001b[0m \u001b[39melif\u001b[39;00m \u001b[39mself\u001b[39m\u001b[39m.\u001b[39mverbose \u001b[39m==\u001b[39m \u001b[39m2\u001b[39m:\n",
      "File \u001b[0;32m~/.local/lib/python3.10/site-packages/keras/utils/io_utils.py:38\u001b[0m, in \u001b[0;36mprint_msg\u001b[0;34m(message, line_break)\u001b[0m\n\u001b[1;32m     <a href='file:///home/spino/.local/lib/python3.10/site-packages/keras/utils/io_utils.py?line=35'>36</a>\u001b[0m \u001b[39melse\u001b[39;00m:\n\u001b[1;32m     <a href='file:///home/spino/.local/lib/python3.10/site-packages/keras/utils/io_utils.py?line=36'>37</a>\u001b[0m   sys\u001b[39m.\u001b[39mstdout\u001b[39m.\u001b[39mwrite(message)\n\u001b[0;32m---> <a href='file:///home/spino/.local/lib/python3.10/site-packages/keras/utils/io_utils.py?line=37'>38</a>\u001b[0m sys\u001b[39m.\u001b[39;49mstdout\u001b[39m.\u001b[39;49mflush()\n",
      "File \u001b[0;32m/usr/lib/python3.10/site-packages/ipykernel/iostream.py:487\u001b[0m, in \u001b[0;36mOutStream.flush\u001b[0;34m(self)\u001b[0m\n\u001b[1;32m    <a href='file:///usr/lib/python3.10/site-packages/ipykernel/iostream.py?line=484'>485</a>\u001b[0m     \u001b[39mself\u001b[39m\u001b[39m.\u001b[39mpub_thread\u001b[39m.\u001b[39mschedule(evt\u001b[39m.\u001b[39mset)\n\u001b[1;32m    <a href='file:///usr/lib/python3.10/site-packages/ipykernel/iostream.py?line=485'>486</a>\u001b[0m     \u001b[39m# and give a timeout to avoid\u001b[39;00m\n\u001b[0;32m--> <a href='file:///usr/lib/python3.10/site-packages/ipykernel/iostream.py?line=486'>487</a>\u001b[0m     \u001b[39mif\u001b[39;00m \u001b[39mnot\u001b[39;00m evt\u001b[39m.\u001b[39;49mwait(\u001b[39mself\u001b[39;49m\u001b[39m.\u001b[39;49mflush_timeout):\n\u001b[1;32m    <a href='file:///usr/lib/python3.10/site-packages/ipykernel/iostream.py?line=487'>488</a>\u001b[0m         \u001b[39m# write directly to __stderr__ instead of warning because\u001b[39;00m\n\u001b[1;32m    <a href='file:///usr/lib/python3.10/site-packages/ipykernel/iostream.py?line=488'>489</a>\u001b[0m         \u001b[39m# if this is happening sys.stderr may be the problem.\u001b[39;00m\n\u001b[1;32m    <a href='file:///usr/lib/python3.10/site-packages/ipykernel/iostream.py?line=489'>490</a>\u001b[0m         \u001b[39mprint\u001b[39m(\u001b[39m\"\u001b[39m\u001b[39mIOStream.flush timed out\u001b[39m\u001b[39m\"\u001b[39m, file\u001b[39m=\u001b[39msys\u001b[39m.\u001b[39m__stderr__)\n\u001b[1;32m    <a href='file:///usr/lib/python3.10/site-packages/ipykernel/iostream.py?line=490'>491</a>\u001b[0m \u001b[39melse\u001b[39;00m:\n",
      "File \u001b[0;32m/usr/lib/python3.10/threading.py:600\u001b[0m, in \u001b[0;36mEvent.wait\u001b[0;34m(self, timeout)\u001b[0m\n\u001b[1;32m    <a href='file:///usr/lib/python3.10/threading.py?line=597'>598</a>\u001b[0m signaled \u001b[39m=\u001b[39m \u001b[39mself\u001b[39m\u001b[39m.\u001b[39m_flag\n\u001b[1;32m    <a href='file:///usr/lib/python3.10/threading.py?line=598'>599</a>\u001b[0m \u001b[39mif\u001b[39;00m \u001b[39mnot\u001b[39;00m signaled:\n\u001b[0;32m--> <a href='file:///usr/lib/python3.10/threading.py?line=599'>600</a>\u001b[0m     signaled \u001b[39m=\u001b[39m \u001b[39mself\u001b[39;49m\u001b[39m.\u001b[39;49m_cond\u001b[39m.\u001b[39;49mwait(timeout)\n\u001b[1;32m    <a href='file:///usr/lib/python3.10/threading.py?line=600'>601</a>\u001b[0m \u001b[39mreturn\u001b[39;00m signaled\n",
      "File \u001b[0;32m/usr/lib/python3.10/threading.py:324\u001b[0m, in \u001b[0;36mCondition.wait\u001b[0;34m(self, timeout)\u001b[0m\n\u001b[1;32m    <a href='file:///usr/lib/python3.10/threading.py?line=321'>322</a>\u001b[0m \u001b[39melse\u001b[39;00m:\n\u001b[1;32m    <a href='file:///usr/lib/python3.10/threading.py?line=322'>323</a>\u001b[0m     \u001b[39mif\u001b[39;00m timeout \u001b[39m>\u001b[39m \u001b[39m0\u001b[39m:\n\u001b[0;32m--> <a href='file:///usr/lib/python3.10/threading.py?line=323'>324</a>\u001b[0m         gotit \u001b[39m=\u001b[39m waiter\u001b[39m.\u001b[39;49macquire(\u001b[39mTrue\u001b[39;49;00m, timeout)\n\u001b[1;32m    <a href='file:///usr/lib/python3.10/threading.py?line=324'>325</a>\u001b[0m     \u001b[39melse\u001b[39;00m:\n\u001b[1;32m    <a href='file:///usr/lib/python3.10/threading.py?line=325'>326</a>\u001b[0m         gotit \u001b[39m=\u001b[39m waiter\u001b[39m.\u001b[39macquire(\u001b[39mFalse\u001b[39;00m)\n",
      "\u001b[0;31mKeyboardInterrupt\u001b[0m: "
     ]
    }
   ],
   "source": [
    "#hyperparameters\n",
    "n_epochs = 20\n",
    "n_steps_epoch = 500\n",
    "batch_sz = train_size // n_steps_epoch\n",
    "\n",
    "\n",
    "# define MLP model\n",
    "class MyMLP(tf.keras.Model):\n",
    "\n",
    "    def __init__(self):\n",
    "        super().__init__()\n",
    "        self.layer_in = tf.keras.layers.Dense(9, activation=tf.nn.relu)\n",
    "        self.layer1 = tf.keras.layers.Dense(10, activation=tf.nn.relu)\n",
    "        self.layer2 = tf.keras.layers.Dense(8, activation=tf.nn.relu)\n",
    "        self.layer3 = tf.keras.layers.Dense(4, activation=tf.nn.sigmoid)\n",
    "        self.layer_out = tf.keras.layers.Dense(1, activation=tf.nn.sigmoid)\n",
    "    \n",
    "    def call(self, inputs):\n",
    "        x = self.layer_in(inputs)\n",
    "        x = self.layer1(x)\n",
    "        x = self.layer2(x)\n",
    "        x = self.layer3(x)\n",
    "        out = self.layer_out(x)\n",
    "        # print(out.shape)\n",
    "        return out\n",
    "        \n",
    "mlp = MyMLP()\n",
    "\n",
    "\n",
    "mlp.compile(optimizer=\"Adam\", loss=\"mse\", metrics=[\"accuracy\"], )\n",
    "history = mlp.fit(X_train, y_train, \n",
    "                    epochs=n_epochs, \n",
    "                    batch_size=batch_sz, \n",
    "                    steps_per_epoch=n_steps_epoch,\n",
    "                    validation_data=(X_test, y_test))\n",
    "y_pred = mlp.predict(X_test)\n",
    "\n",
    "n_test = X_test.shape[0]\n",
    "y_pred = y_pred.reshape(1, y_pred.shape[0]); y_pred = y_pred[0]"
   ]
  },
  {
   "cell_type": "code",
   "execution_count": null,
   "id": "b540d093",
   "metadata": {},
   "outputs": [
    {
     "name": "stdout",
     "output_type": "stream",
     "text": [
      "26/26 [==============================] - 0s 2ms/step - loss: 0.2176 - accuracy: 0.6716\n",
      "\n",
      "Final loss over test set: 0.2176\n",
      "Final acccuracy over test set: 67.16%\n",
      "\n"
     ]
    },
    {
     "data": {
      "image/png": "[encoded data removed]",
      "text/plain": [
       "<Figure size 432x288 with 1 Axes>"
      ]
     },
     "metadata": {
      "needs_background": "light"
     },
     "output_type": "display_data"
    }
   ],
   "source": [
    "loss, accuracy = mlp.evaluate(X_test, y_test)\n",
    "print(f\"\\nFinal loss over test set: {loss:.4f}\\nFinal acccuracy over test set: {accuracy*100:.2f}%\\n\")\n",
    "\n",
    "plt.plot(history.history[\"accuracy\"], label=\"accuracy\")\n",
    "plt.plot(history.history[\"val_accuracy\"], label=\"validation accuracy\")\n",
    "plt.xlabel('Epoch')\n",
    "plt.ylabel('Accuracy')\n",
    "plt.show()"
   ]
  },
  {
   "cell_type": "markdown",
   "id": "36ab8756",
   "metadata": {},
   "source": [
    "### Convolutional neural network"
   ]
  },
  {
   "cell_type": "markdown",
   "id": "e3a8762a",
   "metadata": {},
   "source": [
    "#### Experiments with convolutional layers in tensorflow"
   ]
  },
  {
   "cell_type": "code",
   "execution_count": null,
   "id": "19f7a39a",
   "metadata": {},
   "outputs": [
    {
     "name": "stdout",
     "output_type": "stream",
     "text": [
      "input shape:  (1, 13, 1)\n",
      "tf.Tensor(\n",
      "[[[0.57033277]\n",
      "  [1.3621736 ]\n",
      "  [2.1540143 ]\n",
      "  [2.9458551 ]\n",
      "  [3.737696  ]\n",
      "  [3.2537043 ]\n",
      "  [4.1807117 ]\n",
      "  [3.3888714 ]\n",
      "  [2.5970304 ]\n",
      "  [1.8051896 ]\n",
      "  [1.0133488 ]]], shape=(1, 11, 1), dtype=float32)\n"
     ]
    }
   ],
   "source": [
    "a = np.array([[[0,1,2,3,4,5,6,5,4,3,2,1,0]]], dtype='float').reshape(1,13,1)\n",
    "input_sh = a.shape\n",
    "print(\"input shape: \", input_sh)\n",
    "\n",
    "\"\"\" First number is number of output channels, second number is kernel size\n",
    "IMPORTANT: the input convolutional layer of a NN  in tensorflow expects at least a 3rd order tensor where:\n",
    " - First dimension is batch size\n",
    " - Second dimension is the dimension that is convoluted\n",
    " - Third dimension is number of input channels\n",
    " \n",
    "IMPORTANT2: the input convolutional layer of a NN takes an input_shape argument that provides the input size:\n",
    "input_shape=(dimension that is convoluted, number of input channels)\n",
    "\"\"\"\n",
    "y = tf.keras.layers.Conv1D(1, 3, input_shape=input_sh[1:])(a)\n",
    "print(y)"
   ]
  },
  {
   "cell_type": "markdown",
   "id": "15d4aabf",
   "metadata": {},
   "source": [
    "#### Classification with convolutional NN"
   ]
  },
  {
   "cell_type": "code",
   "execution_count": 9,
   "id": "90787240",
   "metadata": {},
   "outputs": [],
   "source": [
    "X_train, X_test, y_train, y_test = train_test_split(inputs, outputs, test_size=0.25, random_state=3, shuffle=True)\n",
    "X_train, X_test = np.expand_dims(X_train, axis = 2), np.expand_dims(X_test, axis = 2) "
   ]
  },
  {
   "cell_type": "code",
   "execution_count": 33,
   "id": "086ba472",
   "metadata": {},
   "outputs": [
    {
     "name": "stdout",
     "output_type": "stream",
     "text": [
      "Epoch 1/50\n",
      "100/100 [==============================] - 1s 6ms/step - loss: 0.2443 - accuracy: 0.6125 - val_loss: 0.2442 - val_accuracy: 0.6178\n",
      "Epoch 2/50\n",
      "100/100 [==============================] - 0s 4ms/step - loss: 0.2326 - accuracy: 0.6184 - val_loss: 0.2419 - val_accuracy: 0.6044\n",
      "Epoch 3/50\n",
      "100/100 [==============================] - 1s 5ms/step - loss: 0.2315 - accuracy: 0.6306 - val_loss: 0.2411 - val_accuracy: 0.5995\n",
      "Epoch 4/50\n",
      "100/100 [==============================] - 0s 4ms/step - loss: 0.2303 - accuracy: 0.6159 - val_loss: 0.2389 - val_accuracy: 0.6142\n",
      "Epoch 5/50\n",
      "100/100 [==============================] - 1s 6ms/step - loss: 0.2291 - accuracy: 0.6306 - val_loss: 0.2415 - val_accuracy: 0.5873\n",
      "Epoch 6/50\n",
      "100/100 [==============================] - 1s 6ms/step - loss: 0.2268 - accuracy: 0.6331 - val_loss: 0.2466 - val_accuracy: 0.6117\n",
      "Epoch 7/50\n",
      "100/100 [==============================] - 1s 6ms/step - loss: 0.2286 - accuracy: 0.6285 - val_loss: 0.2377 - val_accuracy: 0.6227\n",
      "Epoch 8/50\n",
      "100/100 [==============================] - 0s 4ms/step - loss: 0.2257 - accuracy: 0.6323 - val_loss: 0.2389 - val_accuracy: 0.5995\n",
      "Epoch 9/50\n",
      "100/100 [==============================] - 1s 6ms/step - loss: 0.2227 - accuracy: 0.6394 - val_loss: 0.2372 - val_accuracy: 0.6129\n",
      "Epoch 10/50\n",
      "100/100 [==============================] - 1s 5ms/step - loss: 0.2214 - accuracy: 0.6411 - val_loss: 0.2376 - val_accuracy: 0.6093\n",
      "Epoch 11/50\n",
      "100/100 [==============================] - 0s 5ms/step - loss: 0.2235 - accuracy: 0.6327 - val_loss: 0.2374 - val_accuracy: 0.6178\n",
      "Epoch 12/50\n",
      "100/100 [==============================] - 0s 4ms/step - loss: 0.2192 - accuracy: 0.6453 - val_loss: 0.2357 - val_accuracy: 0.6178\n",
      "Epoch 13/50\n",
      "100/100 [==============================] - 1s 9ms/step - loss: 0.2222 - accuracy: 0.6335 - val_loss: 0.2380 - val_accuracy: 0.6044\n",
      "Epoch 14/50\n",
      "100/100 [==============================] - 0s 4ms/step - loss: 0.2194 - accuracy: 0.6453 - val_loss: 0.2344 - val_accuracy: 0.6239\n",
      "Epoch 15/50\n",
      "100/100 [==============================] - 0s 4ms/step - loss: 0.2221 - accuracy: 0.6411 - val_loss: 0.2356 - val_accuracy: 0.6239\n",
      "Epoch 16/50\n",
      "100/100 [==============================] - 0s 5ms/step - loss: 0.2150 - accuracy: 0.6537 - val_loss: 0.2414 - val_accuracy: 0.5897\n",
      "Epoch 17/50\n",
      "100/100 [==============================] - 0s 4ms/step - loss: 0.2224 - accuracy: 0.6365 - val_loss: 0.2356 - val_accuracy: 0.6117\n",
      "Epoch 18/50\n",
      "100/100 [==============================] - 0s 4ms/step - loss: 0.2175 - accuracy: 0.6465 - val_loss: 0.2385 - val_accuracy: 0.5946\n",
      "Epoch 19/50\n",
      "100/100 [==============================] - 0s 4ms/step - loss: 0.2175 - accuracy: 0.6558 - val_loss: 0.2367 - val_accuracy: 0.6227\n",
      "Epoch 20/50\n",
      "100/100 [==============================] - 1s 7ms/step - loss: 0.2176 - accuracy: 0.6520 - val_loss: 0.2356 - val_accuracy: 0.6264\n",
      "Epoch 21/50\n",
      "100/100 [==============================] - 0s 4ms/step - loss: 0.2126 - accuracy: 0.6658 - val_loss: 0.2351 - val_accuracy: 0.6203\n",
      "Epoch 22/50\n",
      "100/100 [==============================] - 1s 6ms/step - loss: 0.2190 - accuracy: 0.6411 - val_loss: 0.2353 - val_accuracy: 0.6276\n",
      "Epoch 23/50\n",
      "100/100 [==============================] - 1s 7ms/step - loss: 0.2138 - accuracy: 0.6537 - val_loss: 0.2366 - val_accuracy: 0.6129\n",
      "Epoch 24/50\n",
      "100/100 [==============================] - 0s 4ms/step - loss: 0.2181 - accuracy: 0.6478 - val_loss: 0.2354 - val_accuracy: 0.6190\n",
      "Epoch 25/50\n",
      "100/100 [==============================] - 1s 6ms/step - loss: 0.2091 - accuracy: 0.6713 - val_loss: 0.2365 - val_accuracy: 0.6178\n",
      "Epoch 26/50\n",
      "100/100 [==============================] - 1s 6ms/step - loss: 0.2149 - accuracy: 0.6524 - val_loss: 0.2358 - val_accuracy: 0.6264\n",
      "Epoch 27/50\n",
      "100/100 [==============================] - 1s 5ms/step - loss: 0.2146 - accuracy: 0.6478 - val_loss: 0.2360 - val_accuracy: 0.6178\n",
      "Epoch 28/50\n",
      "100/100 [==============================] - 1s 6ms/step - loss: 0.2129 - accuracy: 0.6696 - val_loss: 0.2376 - val_accuracy: 0.6215\n",
      "Epoch 29/50\n",
      "100/100 [==============================] - 1s 5ms/step - loss: 0.2126 - accuracy: 0.6532 - val_loss: 0.2367 - val_accuracy: 0.6203\n",
      "Epoch 30/50\n",
      "100/100 [==============================] - 1s 5ms/step - loss: 0.2161 - accuracy: 0.6453 - val_loss: 0.2354 - val_accuracy: 0.6252\n",
      "Epoch 31/50\n",
      "100/100 [==============================] - 0s 4ms/step - loss: 0.2122 - accuracy: 0.6579 - val_loss: 0.2350 - val_accuracy: 0.6252\n",
      "Epoch 32/50\n",
      "100/100 [==============================] - 1s 5ms/step - loss: 0.2081 - accuracy: 0.6675 - val_loss: 0.2373 - val_accuracy: 0.6129\n",
      "Epoch 33/50\n",
      "100/100 [==============================] - 1s 7ms/step - loss: 0.2121 - accuracy: 0.6558 - val_loss: 0.2370 - val_accuracy: 0.6276\n",
      "Epoch 34/50\n",
      "100/100 [==============================] - 0s 4ms/step - loss: 0.2112 - accuracy: 0.6595 - val_loss: 0.2357 - val_accuracy: 0.6215\n",
      "Epoch 35/50\n",
      "100/100 [==============================] - 1s 7ms/step - loss: 0.2108 - accuracy: 0.6633 - val_loss: 0.2344 - val_accuracy: 0.6239\n",
      "Epoch 36/50\n",
      "100/100 [==============================] - 1s 6ms/step - loss: 0.2107 - accuracy: 0.6629 - val_loss: 0.2369 - val_accuracy: 0.6178\n",
      "Epoch 37/50\n",
      "100/100 [==============================] - 1s 6ms/step - loss: 0.2084 - accuracy: 0.6671 - val_loss: 0.2351 - val_accuracy: 0.6313\n",
      "Epoch 38/50\n",
      "100/100 [==============================] - 1s 5ms/step - loss: 0.2095 - accuracy: 0.6612 - val_loss: 0.2379 - val_accuracy: 0.6154\n",
      "Epoch 39/50\n",
      "100/100 [==============================] - 1s 8ms/step - loss: 0.2072 - accuracy: 0.6696 - val_loss: 0.2352 - val_accuracy: 0.6105\n",
      "Epoch 40/50\n",
      "100/100 [==============================] - 0s 4ms/step - loss: 0.2073 - accuracy: 0.6667 - val_loss: 0.2335 - val_accuracy: 0.6264\n",
      "Epoch 41/50\n",
      "100/100 [==============================] - 1s 5ms/step - loss: 0.2106 - accuracy: 0.6486 - val_loss: 0.2338 - val_accuracy: 0.6313\n",
      "Epoch 42/50\n",
      "100/100 [==============================] - 1s 5ms/step - loss: 0.2063 - accuracy: 0.6746 - val_loss: 0.2369 - val_accuracy: 0.6068\n",
      "Epoch 43/50\n",
      "100/100 [==============================] - 0s 4ms/step - loss: 0.2072 - accuracy: 0.6713 - val_loss: 0.2338 - val_accuracy: 0.6239\n",
      "Epoch 44/50\n",
      "100/100 [==============================] - 1s 5ms/step - loss: 0.2059 - accuracy: 0.6709 - val_loss: 0.2322 - val_accuracy: 0.6288\n",
      "Epoch 45/50\n",
      "100/100 [==============================] - 1s 6ms/step - loss: 0.2069 - accuracy: 0.6683 - val_loss: 0.2347 - val_accuracy: 0.6190\n",
      "Epoch 46/50\n",
      "100/100 [==============================] - 1s 6ms/step - loss: 0.2061 - accuracy: 0.6692 - val_loss: 0.2335 - val_accuracy: 0.6154\n",
      "Epoch 47/50\n",
      "100/100 [==============================] - 1s 5ms/step - loss: 0.2036 - accuracy: 0.6872 - val_loss: 0.2329 - val_accuracy: 0.6276\n",
      "Epoch 48/50\n",
      "100/100 [==============================] - 1s 5ms/step - loss: 0.2067 - accuracy: 0.6797 - val_loss: 0.2335 - val_accuracy: 0.6239\n",
      "Epoch 49/50\n",
      "100/100 [==============================] - 1s 5ms/step - loss: 0.2039 - accuracy: 0.6822 - val_loss: 0.2366 - val_accuracy: 0.6203\n",
      "Epoch 50/50\n",
      "100/100 [==============================] - 0s 5ms/step - loss: 0.2063 - accuracy: 0.6725 - val_loss: 0.2317 - val_accuracy: 0.6276\n"
     ]
    }
   ],
   "source": [
    "from tensorflow.python.ops.numpy_ops import np_config\n",
    "\n",
    "np_config.enable_numpy_behavior()\n",
    "\n",
    "#hyperparameters\n",
    "n_epochs = 50\n",
    "n_steps_epoch = 100\n",
    "batch_sz = train_size // n_steps_epoch\n",
    "pattern_len = X_train.shape[1]\n",
    "\n",
    "# define CNN model\n",
    "class MyCNN(tf.keras.Model):\n",
    "\n",
    "    def __init__(self):\n",
    "        super().__init__()\n",
    "        in_shape = (batch_sz, pattern_len, 1)\n",
    "        self.conv_in = tf.keras.layers.Conv1D(20, 2, input_shape=in_shape[1:], activation=tf.nn.relu, padding=\"same\")\n",
    "        self.pool_in = tf.keras.layers.AvgPool1D(2)\n",
    "        self.conv1 = tf.keras.layers.Conv1D(10, 2, activation=tf.nn.relu, padding=\"same\")\n",
    "        self.pool_1 = tf.keras.layers.AvgPool1D(2)\n",
    "        self.flatten = tf.keras.layers.Flatten()\n",
    "        self.dense1 = tf.keras.layers.Dense(10, activation=tf.nn.relu)\n",
    "        self.dense2 = tf.keras.layers.Dense(1, activation=tf.nn.relu)\n",
    "    \n",
    "    def call(self, inputs):\n",
    "        x = self.conv_in(inputs)\n",
    "        x = self.pool_in(x)\n",
    "        x = self.conv1(x)\n",
    "        x = self.pool_1(x)\n",
    "        x = self.flatten(x)\n",
    "        x = self.dense1(x)\n",
    "        out = self.dense2(x)\n",
    "        return out\n",
    "        \n",
    "cnn = MyCNN()\n",
    "\n",
    "cnn.compile(optimizer=\"Adam\", loss=\"mse\", metrics=[\"accuracy\"])\n",
    "history = cnn.fit(X_train, \n",
    "                    y_train, \n",
    "                    epochs=n_epochs, \n",
    "                    batch_size=train_size//n_steps_epoch, \n",
    "                    steps_per_epoch=n_steps_epoch,\n",
    "                    validation_data=(X_test, y_test))\n",
    "y_pred = cnn.predict(X_test)\n",
    "\n",
    "n_test = X_test.shape[0]\n",
    "y_pred = y_pred.reshape(1, y_pred.shape[0]); y_pred = y_pred[0]"
   ]
  },
  {
   "cell_type": "code",
   "execution_count": 34,
   "id": "7d7adbae",
   "metadata": {},
   "outputs": [
    {
     "name": "stdout",
     "output_type": "stream",
     "text": [
      "26/26 [==============================] - 0s 2ms/step - loss: 0.2317 - accuracy: 0.6276\n",
      "\n",
      "Final loss over test set: 0.2317\n",
      "Final acccuracy over test set: 62.76%\n",
      "\n"
     ]
    },
    {
     "data": {
      "image/png": "[encoded data removed]",
      "text/plain": [
       "<Figure size 432x288 with 1 Axes>"
      ]
     },
     "metadata": {
      "needs_background": "light"
     },
     "output_type": "display_data"
    }
   ],
   "source": [
    "test_loss, test_acc = cnn.evaluate(X_test, y_test)\n",
    "print(f\"\\nFinal loss over test set: {test_loss:.4f}\\n\\\n",
    "Final acccuracy over test set: {test_acc*100:.2f}%\\n\")\n",
    "\n",
    "plt.plot(history.history[\"accuracy\"])\n",
    "plt.plot(history.history[\"val_accuracy\"])\n",
    "plt.show()"
   ]
  }
 ],
 "metadata": {
  "kernelspec": {
   "display_name": "Python 3 (ipykernel)",
   "language": "python",
   "name": "python3"
  },
  "language_info": {
   "codemirror_mode": {
    "name": "ipython",
    "version": 3
   },
   "file_extension": ".py",
   "mimetype": "text/x-python",
   "name": "python",
   "nbconvert_exporter": "python",
   "pygments_lexer": "ipython3",
   "version": "3.10.4"
  }
 },
 "nbformat": 4,
 "nbformat_minor": 5
}
