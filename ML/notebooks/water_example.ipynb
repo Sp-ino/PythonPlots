{
 "cells": [
  {
   "cell_type": "markdown",
   "id": "0650582e",
   "metadata": {},
   "source": [
    "# Example of classification on water dataset"
   ]
  },
  {
   "cell_type": "markdown",
   "id": "246146b8",
   "metadata": {},
   "source": [
    "### Importing dependencies and loading dataset"
   ]
  },
  {
   "cell_type": "code",
   "execution_count": 1,
   "id": "215fc9f2",
   "metadata": {},
   "outputs": [
    {
     "name": "stderr",
     "output_type": "stream",
     "text": [
      "2022-04-30 17:03:59.225677: W tensorflow/stream_executor/platform/default/dso_loader.cc:64] Could not load dynamic library 'libcudart.so.11.0'; dlerror: libcudart.so.11.0: cannot open shared object file: No such file or directory\n",
      "2022-04-30 17:03:59.225746: I tensorflow/stream_executor/cuda/cudart_stub.cc:29] Ignore above cudart dlerror if you do not have a GPU set up on your machine.\n"
     ]
    }
   ],
   "source": [
    "# Write your code here\n",
    "import seaborn as sb\n",
    "import matplotlib.pyplot as plt\n",
    "import numpy as np\n",
    "import pandas as pd\n",
    "from sklearn.preprocessing import StandardScaler\n",
    "import tensorflow as tf"
   ]
  },
  {
   "cell_type": "code",
   "execution_count": 2,
   "id": "24c5f2db",
   "metadata": {},
   "outputs": [
    {
     "name": "stdout",
     "output_type": "stream",
     "text": [
      "          ph    Hardness        Solids  Chloramines     Sulfate  Conductivity  \\\n",
      "0        NaN  204.890455  20791.318981     7.300212  368.516441    564.308654   \n",
      "1   3.716080  129.422921  18630.057858     6.635246         NaN    592.885359   \n",
      "2   8.099124  224.236259  19909.541732     9.275884         NaN    418.606213   \n",
      "3   8.316766  214.373394  22018.417441     8.059332  356.886136    363.266516   \n",
      "4   9.092223  181.101509  17978.986339     6.546600  310.135738    398.410813   \n",
      "5   5.584087  188.313324  28748.687739     7.544869  326.678363    280.467916   \n",
      "6  10.223862  248.071735  28749.716544     7.513408  393.663396    283.651634   \n",
      "7   8.635849  203.361523  13672.091764     4.563009  303.309771    474.607645   \n",
      "8        NaN  118.988579  14285.583854     7.804174  268.646941    389.375566   \n",
      "9  11.180284  227.231469  25484.508491     9.077200  404.041635    563.885481   \n",
      "\n",
      "   Organic_carbon  Trihalomethanes  Turbidity  Potability  \n",
      "0       10.379783        86.990970   2.963135           0  \n",
      "1       15.180013        56.329076   4.500656           0  \n",
      "2       16.868637        66.420093   3.055934           0  \n",
      "3       18.436524       100.341674   4.628771           0  \n",
      "4       11.558279        31.997993   4.075075           0  \n",
      "5        8.399735        54.917862   2.559708           0  \n",
      "6       13.789695        84.603556   2.672989           0  \n",
      "7       12.363817        62.798309   4.401425           0  \n",
      "8       12.706049        53.928846   3.595017           0  \n",
      "9       17.927806        71.976601   4.370562           0  \n"
     ]
    }
   ],
   "source": [
    "path = \"water_potability.csv\"\n",
    "\n",
    "data = pd.read_csv(path)\n",
    "print(data[:][0:10])"
   ]
  },
  {
   "cell_type": "code",
   "execution_count": 3,
   "id": "de202bcf",
   "metadata": {},
   "outputs": [],
   "source": [
    "#Handle NaN values and split into inputs and outputs\n",
    "inputs, outputs = data.iloc[:, 0:9], data.iloc[:, 9]\n",
    "inputs = inputs.fillna(inputs.mean())\n",
    "data = data.fillna(data.mean())"
   ]
  },
  {
   "cell_type": "code",
   "execution_count": 4,
   "id": "692e183d",
   "metadata": {},
   "outputs": [
    {
     "name": "stdout",
     "output_type": "stream",
     "text": [
      "Mean and std dev after normalization:\n",
      "Mean: \n",
      " ph                -4.674052e-16\n",
      "Hardness           1.025906e-15\n",
      "Solids            -4.554761e-17\n",
      "Chloramines        5.205441e-16\n",
      "Sulfate            1.591997e-15\n",
      "Conductivity       1.756836e-16\n",
      "Organic_carbon     1.735147e-17\n",
      "Trihalomethanes    1.713458e-16\n",
      "Turbidity          5.552471e-16\n",
      "dtype: float64\n",
      "\n",
      "Std dev: \n",
      " ph                 0.999847\n",
      "Hardness           0.999847\n",
      "Solids             0.999847\n",
      "Chloramines        0.999847\n",
      "Sulfate            0.999847\n",
      "Conductivity       0.999847\n",
      "Organic_carbon     0.999847\n",
      "Trihalomethanes    0.999847\n",
      "Turbidity          0.999847\n",
      "dtype: float64\n"
     ]
    },
    {
     "name": "stderr",
     "output_type": "stream",
     "text": [
      "/usr/lib/python3.10/site-packages/numpy/core/fromnumeric.py:3472: FutureWarning: In a future version, DataFrame.mean(axis=None) will return a scalar mean over the entire DataFrame. To retain the old behavior, use 'frame.mean(axis=0)' or just 'frame.mean()'\n",
      "  return mean(axis=axis, dtype=dtype, out=out, **kwargs)\n"
     ]
    }
   ],
   "source": [
    "# Normalize\n",
    "mu = inputs.mean()\n",
    "sigma = inputs.std()\n",
    "inputs = (inputs - mu)/sigma\n",
    "\n",
    "print(\"Mean and std dev after normalization:\")\n",
    "print(\"Mean: \\n\", np.mean(inputs))\n",
    "print(\"\\nStd dev: \\n\", np.std(inputs))\n",
    "\n",
    "inputs = inputs.to_numpy()\n",
    "outputs = outputs.to_numpy()"
   ]
  },
  {
   "cell_type": "code",
   "execution_count": 5,
   "id": "b2590b81",
   "metadata": {},
   "outputs": [],
   "source": [
    "from sklearn.model_selection import train_test_split\n",
    "\n",
    "# split data with train_test_split from sklearn (provides data shuffling which is very useful)\n",
    "X_train, X_test, y_train, y_test = train_test_split(inputs, outputs, test_size=0.25, random_state=3, shuffle=True)\n",
    "\n",
    "train_size = X_train.shape[0]\n",
    "test_size = X_test.shape[0]"
   ]
  },
  {
   "cell_type": "markdown",
   "id": "e6f2cb59",
   "metadata": {},
   "source": [
    "### Classification with gaussian bayes naive classifier"
   ]
  },
  {
   "cell_type": "code",
   "execution_count": 6,
   "id": "8930da41",
   "metadata": {},
   "outputs": [
    {
     "name": "stdout",
     "output_type": "stream",
     "text": [
      "Number of correctly labeled points out of a total 819 points : 509\n",
      "Test success rate: 62.14896214896215%\n"
     ]
    }
   ],
   "source": [
    "from sklearn.naive_bayes import GaussianNB\n",
    "\n",
    "gnb = GaussianNB()\n",
    "\n",
    "# fit() returns the object itself, so I can immediately call predict() on the test set\n",
    "y_pred = gnb.fit(X_train, y_train).predict(X_test)\n",
    "\n",
    "n_test = X_test.shape[0]\n",
    "n_success = (y_test == y_pred).sum()\n",
    "print(f\"Number of correctly labeled points out of a total {n_test} points : {n_success}\")\n",
    "print(f\"Test success rate: {n_success/n_test*100}%\")"
   ]
  },
  {
   "cell_type": "markdown",
   "id": "bf0f07ae",
   "metadata": {},
   "source": [
    "### Classification with fully connected network (MLP)"
   ]
  },
  {
   "cell_type": "code",
   "execution_count": 17,
   "id": "48352ad5",
   "metadata": {},
   "outputs": [
    {
     "name": "stdout",
     "output_type": "stream",
     "text": [
      "Epoch 1/15\n",
      "1000/1000 [==============================] - 5s 4ms/step - loss: 0.2395 - accuracy: 0.6095 - val_loss: 0.2333 - val_accuracy: 0.6093\n",
      "Epoch 2/15\n",
      "1000/1000 [==============================] - 5s 5ms/step - loss: 0.2293 - accuracy: 0.6338 - val_loss: 0.2278 - val_accuracy: 0.6264\n",
      "Epoch 3/15\n",
      "1000/1000 [==============================] - 5s 5ms/step - loss: 0.2258 - accuracy: 0.6308 - val_loss: 0.2234 - val_accuracy: 0.6313\n",
      "Epoch 4/15\n",
      "1000/1000 [==============================] - 5s 5ms/step - loss: 0.2192 - accuracy: 0.6483 - val_loss: 0.2202 - val_accuracy: 0.6642\n",
      "Epoch 5/15\n",
      "1000/1000 [==============================] - 6s 6ms/step - loss: 0.2180 - accuracy: 0.6528 - val_loss: 0.2170 - val_accuracy: 0.6593\n",
      "Epoch 6/15\n",
      "1000/1000 [==============================] - 5s 5ms/step - loss: 0.2117 - accuracy: 0.6820 - val_loss: 0.2147 - val_accuracy: 0.6642\n",
      "Epoch 7/15\n",
      "1000/1000 [==============================] - 5s 5ms/step - loss: 0.2121 - accuracy: 0.6768 - val_loss: 0.2126 - val_accuracy: 0.6752\n",
      "Epoch 8/15\n",
      "1000/1000 [==============================] - 5s 5ms/step - loss: 0.2114 - accuracy: 0.6778 - val_loss: 0.2111 - val_accuracy: 0.6667\n",
      "Epoch 9/15\n",
      "1000/1000 [==============================] - 5s 5ms/step - loss: 0.2035 - accuracy: 0.6858 - val_loss: 0.2084 - val_accuracy: 0.6654\n",
      "Epoch 10/15\n",
      "1000/1000 [==============================] - 6s 6ms/step - loss: 0.2085 - accuracy: 0.6688 - val_loss: 0.2113 - val_accuracy: 0.6777\n",
      "Epoch 11/15\n",
      "1000/1000 [==============================] - 5s 5ms/step - loss: 0.2037 - accuracy: 0.6975 - val_loss: 0.2088 - val_accuracy: 0.6752\n",
      "Epoch 12/15\n",
      "1000/1000 [==============================] - 5s 5ms/step - loss: 0.1998 - accuracy: 0.6913 - val_loss: 0.2105 - val_accuracy: 0.6764\n",
      "Epoch 13/15\n",
      "1000/1000 [==============================] - 5s 5ms/step - loss: 0.2030 - accuracy: 0.6848 - val_loss: 0.2118 - val_accuracy: 0.6691\n",
      "Epoch 14/15\n",
      "1000/1000 [==============================] - 5s 5ms/step - loss: 0.2048 - accuracy: 0.6838 - val_loss: 0.2069 - val_accuracy: 0.6862\n",
      "Epoch 15/15\n",
      "1000/1000 [==============================] - 6s 6ms/step - loss: 0.2025 - accuracy: 0.6853 - val_loss: 0.2090 - val_accuracy: 0.6850\n"
     ]
    }
   ],
   "source": [
    "#hyperparameters\n",
    "n_epochs = 15\n",
    "n_steps_epoch = 1000\n",
    "batch_sz = train_size // n_steps_epoch\n",
    "\n",
    "\n",
    "# define MLP model\n",
    "class MyMLP(tf.keras.Model):\n",
    "\n",
    "    def __init__(self):\n",
    "        super().__init__()\n",
    "        self.layer_in = tf.keras.layers.Dense(9, activation=tf.nn.relu)\n",
    "        self.layer1 = tf.keras.layers.Dense(6, activation=tf.nn.relu)\n",
    "        self.layer2 = tf.keras.layers.Dense(4, activation=tf.nn.relu)\n",
    "        self.layer_out = tf.keras.layers.Dense(1, activation=tf.nn.sigmoid)\n",
    "    \n",
    "    def call(self, inputs):\n",
    "        x = self.layer_in(inputs)\n",
    "        x = self.layer1(x)\n",
    "        x = self.layer2(x)\n",
    "        out = self.layer_out(x)\n",
    "        # print(out.shape)\n",
    "        return out\n",
    "        \n",
    "mlp = MyMLP()\n",
    "\n",
    "\n",
    "mlp.compile(optimizer=\"Adam\", loss=\"mse\", metrics=[\"accuracy\"], )\n",
    "history = mlp.fit(X_train, y_train, \n",
    "                    epochs=n_epochs, \n",
    "                    batch_size=batch_sz, \n",
    "                    steps_per_epoch=n_steps_epoch,\n",
    "                    validation_data=(X_test, y_test))\n",
    "y_pred = mlp.predict(X_test)\n",
    "\n",
    "n_test = X_test.shape[0]\n",
    "y_pred = y_pred.reshape(1, y_pred.shape[0]); y_pred = y_pred[0]"
   ]
  },
  {
   "cell_type": "code",
   "execution_count": 18,
   "id": "b540d093",
   "metadata": {},
   "outputs": [
    {
     "name": "stdout",
     "output_type": "stream",
     "text": [
      "26/26 [==============================] - 0s 2ms/step - loss: 0.2090 - accuracy: 0.6850\n",
      "\n",
      "Final loss over test set: 0.2090\n",
      "Final acccuracy over test set: 68.50%\n",
      "\n"
     ]
    },
    {
     "data": {
      "image/png": "[encoded data removed]",
      "text/plain": [
       "<Figure size 432x288 with 1 Axes>"
      ]
     },
     "metadata": {
      "needs_background": "light"
     },
     "output_type": "display_data"
    }
   ],
   "source": [
    "loss, accuracy = mlp.evaluate(X_test, y_test)\n",
    "print(f\"\\nFinal loss over test set: {loss:.4f}\\nFinal acccuracy over test set: {accuracy*100:.2f}%\\n\")\n",
    "\n",
    "plt.plot(history.history[\"accuracy\"], label=\"accuracy\")\n",
    "plt.plot(history.history[\"val_accuracy\"], label=\"validation accuracy\")\n",
    "plt.xlabel('Epoch')\n",
    "plt.ylabel('Accuracy')\n",
    "plt.show()"
   ]
  },
  {
   "cell_type": "markdown",
   "id": "36ab8756",
   "metadata": {},
   "source": [
    "### Convolutional neural network"
   ]
  },
  {
   "cell_type": "markdown",
   "id": "e3a8762a",
   "metadata": {},
   "source": [
    "#### Experiments with convolutional layers in tensorflow"
   ]
  },
  {
   "cell_type": "code",
   "execution_count": null,
   "id": "19f7a39a",
   "metadata": {},
   "outputs": [
    {
     "name": "stdout",
     "output_type": "stream",
     "text": [
      "input shape:  (1, 13, 1)\n",
      "tf.Tensor(\n",
      "[[[0.57033277]\n",
      "  [1.3621736 ]\n",
      "  [2.1540143 ]\n",
      "  [2.9458551 ]\n",
      "  [3.737696  ]\n",
      "  [3.2537043 ]\n",
      "  [4.1807117 ]\n",
      "  [3.3888714 ]\n",
      "  [2.5970304 ]\n",
      "  [1.8051896 ]\n",
      "  [1.0133488 ]]], shape=(1, 11, 1), dtype=float32)\n"
     ]
    }
   ],
   "source": [
    "a = np.array([[[0,1,2,3,4,5,6,5,4,3,2,1,0]]], dtype='float').reshape(1,13,1)\n",
    "input_sh = a.shape\n",
    "print(\"input shape: \", input_sh)\n",
    "\n",
    "\"\"\" First number is number of output channels, second number is kernel size\n",
    "IMPORTANT: the input convolutional layer of a NN  in tensorflow expects at least a 3rd order tensor where:\n",
    " - First dimension is batch size\n",
    " - Second dimension is the dimension that is convoluted\n",
    " - Third dimension is number of input channels\n",
    " \n",
    "IMPORTANT2: the input convolutional layer of a NN takes an input_shape argument that provides the input size:\n",
    "input_shape=(dimension that is convoluted, number of input channels)\n",
    "\"\"\"\n",
    "y = tf.keras.layers.Conv1D(1, 3, input_shape=input_sh[1:])(a)\n",
    "print(y)"
   ]
  },
  {
   "cell_type": "markdown",
   "id": "15d4aabf",
   "metadata": {},
   "source": [
    "#### Classification with convolutional NN"
   ]
  },
  {
   "cell_type": "code",
   "execution_count": 9,
   "id": "90787240",
   "metadata": {},
   "outputs": [],
   "source": [
    "X_train, X_test, y_train, y_test = train_test_split(inputs, outputs, test_size=0.25, random_state=3, shuffle=True)\n",
    "X_train, X_test = np.expand_dims(X_train, axis = 2), np.expand_dims(X_test, axis = 2) "
   ]
  },
  {
   "cell_type": "code",
   "execution_count": 33,
   "id": "086ba472",
   "metadata": {},
   "outputs": [
    {
     "name": "stdout",
     "output_type": "stream",
     "text": [
      "Epoch 1/50\n",
      "100/100 [==============================] - 1s 6ms/step - loss: 0.2443 - accuracy: 0.6125 - val_loss: 0.2442 - val_accuracy: 0.6178\n",
      "Epoch 2/50\n",
      "100/100 [==============================] - 0s 4ms/step - loss: 0.2326 - accuracy: 0.6184 - val_loss: 0.2419 - val_accuracy: 0.6044\n",
      "Epoch 3/50\n",
      "100/100 [==============================] - 1s 5ms/step - loss: 0.2315 - accuracy: 0.6306 - val_loss: 0.2411 - val_accuracy: 0.5995\n",
      "Epoch 4/50\n",
      "100/100 [==============================] - 0s 4ms/step - loss: 0.2303 - accuracy: 0.6159 - val_loss: 0.2389 - val_accuracy: 0.6142\n",
      "Epoch 5/50\n",
      "100/100 [==============================] - 1s 6ms/step - loss: 0.2291 - accuracy: 0.6306 - val_loss: 0.2415 - val_accuracy: 0.5873\n",
      "Epoch 6/50\n",
      "100/100 [==============================] - 1s 6ms/step - loss: 0.2268 - accuracy: 0.6331 - val_loss: 0.2466 - val_accuracy: 0.6117\n",
      "Epoch 7/50\n",
      "100/100 [==============================] - 1s 6ms/step - loss: 0.2286 - accuracy: 0.6285 - val_loss: 0.2377 - val_accuracy: 0.6227\n",
      "Epoch 8/50\n",
      "100/100 [==============================] - 0s 4ms/step - loss: 0.2257 - accuracy: 0.6323 - val_loss: 0.2389 - val_accuracy: 0.5995\n",
      "Epoch 9/50\n",
      "100/100 [==============================] - 1s 6ms/step - loss: 0.2227 - accuracy: 0.6394 - val_loss: 0.2372 - val_accuracy: 0.6129\n",
      "Epoch 10/50\n",
      "100/100 [==============================] - 1s 5ms/step - loss: 0.2214 - accuracy: 0.6411 - val_loss: 0.2376 - val_accuracy: 0.6093\n",
      "Epoch 11/50\n",
      "100/100 [==============================] - 0s 5ms/step - loss: 0.2235 - accuracy: 0.6327 - val_loss: 0.2374 - val_accuracy: 0.6178\n",
      "Epoch 12/50\n",
      "100/100 [==============================] - 0s 4ms/step - loss: 0.2192 - accuracy: 0.6453 - val_loss: 0.2357 - val_accuracy: 0.6178\n",
      "Epoch 13/50\n",
      "100/100 [==============================] - 1s 9ms/step - loss: 0.2222 - accuracy: 0.6335 - val_loss: 0.2380 - val_accuracy: 0.6044\n",
      "Epoch 14/50\n",
      "100/100 [==============================] - 0s 4ms/step - loss: 0.2194 - accuracy: 0.6453 - val_loss: 0.2344 - val_accuracy: 0.6239\n",
      "Epoch 15/50\n",
      "100/100 [==============================] - 0s 4ms/step - loss: 0.2221 - accuracy: 0.6411 - val_loss: 0.2356 - val_accuracy: 0.6239\n",
      "Epoch 16/50\n",
      "100/100 [==============================] - 0s 5ms/step - loss: 0.2150 - accuracy: 0.6537 - val_loss: 0.2414 - val_accuracy: 0.5897\n",
      "Epoch 17/50\n",
      "100/100 [==============================] - 0s 4ms/step - loss: 0.2224 - accuracy: 0.6365 - val_loss: 0.2356 - val_accuracy: 0.6117\n",
      "Epoch 18/50\n",
      "100/100 [==============================] - 0s 4ms/step - loss: 0.2175 - accuracy: 0.6465 - val_loss: 0.2385 - val_accuracy: 0.5946\n",
      "Epoch 19/50\n",
      "100/100 [==============================] - 0s 4ms/step - loss: 0.2175 - accuracy: 0.6558 - val_loss: 0.2367 - val_accuracy: 0.6227\n",
      "Epoch 20/50\n",
      "100/100 [==============================] - 1s 7ms/step - loss: 0.2176 - accuracy: 0.6520 - val_loss: 0.2356 - val_accuracy: 0.6264\n",
      "Epoch 21/50\n",
      "100/100 [==============================] - 0s 4ms/step - loss: 0.2126 - accuracy: 0.6658 - val_loss: 0.2351 - val_accuracy: 0.6203\n",
      "Epoch 22/50\n",
      "100/100 [==============================] - 1s 6ms/step - loss: 0.2190 - accuracy: 0.6411 - val_loss: 0.2353 - val_accuracy: 0.6276\n",
      "Epoch 23/50\n",
      "100/100 [==============================] - 1s 7ms/step - loss: 0.2138 - accuracy: 0.6537 - val_loss: 0.2366 - val_accuracy: 0.6129\n",
      "Epoch 24/50\n",
      "100/100 [==============================] - 0s 4ms/step - loss: 0.2181 - accuracy: 0.6478 - val_loss: 0.2354 - val_accuracy: 0.6190\n",
      "Epoch 25/50\n",
      "100/100 [==============================] - 1s 6ms/step - loss: 0.2091 - accuracy: 0.6713 - val_loss: 0.2365 - val_accuracy: 0.6178\n",
      "Epoch 26/50\n",
      "100/100 [==============================] - 1s 6ms/step - loss: 0.2149 - accuracy: 0.6524 - val_loss: 0.2358 - val_accuracy: 0.6264\n",
      "Epoch 27/50\n",
      "100/100 [==============================] - 1s 5ms/step - loss: 0.2146 - accuracy: 0.6478 - val_loss: 0.2360 - val_accuracy: 0.6178\n",
      "Epoch 28/50\n",
      "100/100 [==============================] - 1s 6ms/step - loss: 0.2129 - accuracy: 0.6696 - val_loss: 0.2376 - val_accuracy: 0.6215\n",
      "Epoch 29/50\n",
      "100/100 [==============================] - 1s 5ms/step - loss: 0.2126 - accuracy: 0.6532 - val_loss: 0.2367 - val_accuracy: 0.6203\n",
      "Epoch 30/50\n",
      "100/100 [==============================] - 1s 5ms/step - loss: 0.2161 - accuracy: 0.6453 - val_loss: 0.2354 - val_accuracy: 0.6252\n",
      "Epoch 31/50\n",
      "100/100 [==============================] - 0s 4ms/step - loss: 0.2122 - accuracy: 0.6579 - val_loss: 0.2350 - val_accuracy: 0.6252\n",
      "Epoch 32/50\n",
      "100/100 [==============================] - 1s 5ms/step - loss: 0.2081 - accuracy: 0.6675 - val_loss: 0.2373 - val_accuracy: 0.6129\n",
      "Epoch 33/50\n",
      "100/100 [==============================] - 1s 7ms/step - loss: 0.2121 - accuracy: 0.6558 - val_loss: 0.2370 - val_accuracy: 0.6276\n",
      "Epoch 34/50\n",
      "100/100 [==============================] - 0s 4ms/step - loss: 0.2112 - accuracy: 0.6595 - val_loss: 0.2357 - val_accuracy: 0.6215\n",
      "Epoch 35/50\n",
      "100/100 [==============================] - 1s 7ms/step - loss: 0.2108 - accuracy: 0.6633 - val_loss: 0.2344 - val_accuracy: 0.6239\n",
      "Epoch 36/50\n",
      "100/100 [==============================] - 1s 6ms/step - loss: 0.2107 - accuracy: 0.6629 - val_loss: 0.2369 - val_accuracy: 0.6178\n",
      "Epoch 37/50\n",
      "100/100 [==============================] - 1s 6ms/step - loss: 0.2084 - accuracy: 0.6671 - val_loss: 0.2351 - val_accuracy: 0.6313\n",
      "Epoch 38/50\n",
      "100/100 [==============================] - 1s 5ms/step - loss: 0.2095 - accuracy: 0.6612 - val_loss: 0.2379 - val_accuracy: 0.6154\n",
      "Epoch 39/50\n",
      "100/100 [==============================] - 1s 8ms/step - loss: 0.2072 - accuracy: 0.6696 - val_loss: 0.2352 - val_accuracy: 0.6105\n",
      "Epoch 40/50\n",
      "100/100 [==============================] - 0s 4ms/step - loss: 0.2073 - accuracy: 0.6667 - val_loss: 0.2335 - val_accuracy: 0.6264\n",
      "Epoch 41/50\n",
      "100/100 [==============================] - 1s 5ms/step - loss: 0.2106 - accuracy: 0.6486 - val_loss: 0.2338 - val_accuracy: 0.6313\n",
      "Epoch 42/50\n",
      "100/100 [==============================] - 1s 5ms/step - loss: 0.2063 - accuracy: 0.6746 - val_loss: 0.2369 - val_accuracy: 0.6068\n",
      "Epoch 43/50\n",
      "100/100 [==============================] - 0s 4ms/step - loss: 0.2072 - accuracy: 0.6713 - val_loss: 0.2338 - val_accuracy: 0.6239\n",
      "Epoch 44/50\n",
      "100/100 [==============================] - 1s 5ms/step - loss: 0.2059 - accuracy: 0.6709 - val_loss: 0.2322 - val_accuracy: 0.6288\n",
      "Epoch 45/50\n",
      "100/100 [==============================] - 1s 6ms/step - loss: 0.2069 - accuracy: 0.6683 - val_loss: 0.2347 - val_accuracy: 0.6190\n",
      "Epoch 46/50\n",
      "100/100 [==============================] - 1s 6ms/step - loss: 0.2061 - accuracy: 0.6692 - val_loss: 0.2335 - val_accuracy: 0.6154\n",
      "Epoch 47/50\n",
      "100/100 [==============================] - 1s 5ms/step - loss: 0.2036 - accuracy: 0.6872 - val_loss: 0.2329 - val_accuracy: 0.6276\n",
      "Epoch 48/50\n",
      "100/100 [==============================] - 1s 5ms/step - loss: 0.2067 - accuracy: 0.6797 - val_loss: 0.2335 - val_accuracy: 0.6239\n",
      "Epoch 49/50\n",
      "100/100 [==============================] - 1s 5ms/step - loss: 0.2039 - accuracy: 0.6822 - val_loss: 0.2366 - val_accuracy: 0.6203\n",
      "Epoch 50/50\n",
      "100/100 [==============================] - 0s 5ms/step - loss: 0.2063 - accuracy: 0.6725 - val_loss: 0.2317 - val_accuracy: 0.6276\n"
     ]
    }
   ],
   "source": [
    "from tensorflow.python.ops.numpy_ops import np_config\n",
    "\n",
    "np_config.enable_numpy_behavior()\n",
    "\n",
    "#hyperparameters\n",
    "n_epochs = 50\n",
    "n_steps_epoch = 100\n",
    "batch_sz = train_size // n_steps_epoch\n",
    "pattern_len = X_train.shape[1]\n",
    "\n",
    "# define CNN model\n",
    "class MyCNN(tf.keras.Model):\n",
    "\n",
    "    def __init__(self):\n",
    "        super().__init__()\n",
    "        in_shape = (batch_sz, pattern_len, 1)\n",
    "        self.conv_in = tf.keras.layers.Conv1D(20, 2, input_shape=in_shape[1:], activation=tf.nn.relu, padding=\"same\")\n",
    "        self.pool_in = tf.keras.layers.AvgPool1D(2)\n",
    "        self.conv1 = tf.keras.layers.Conv1D(10, 2, activation=tf.nn.relu, padding=\"same\")\n",
    "        self.pool_1 = tf.keras.layers.AvgPool1D(2)\n",
    "        self.flatten = tf.keras.layers.Flatten()\n",
    "        self.dense1 = tf.keras.layers.Dense(10, activation=tf.nn.relu)\n",
    "        self.dense2 = tf.keras.layers.Dense(1, activation=tf.nn.relu)\n",
    "    \n",
    "    def call(self, inputs):\n",
    "        x = self.conv_in(inputs)\n",
    "        x = self.pool_in(x)\n",
    "        x = self.conv1(x)\n",
    "        x = self.pool_1(x)\n",
    "        x = self.flatten(x)\n",
    "        x = self.dense1(x)\n",
    "        out = self.dense2(x)\n",
    "        return out\n",
    "        \n",
    "cnn = MyCNN()\n",
    "\n",
    "cnn.compile(optimizer=\"Adam\", loss=\"mse\", metrics=[\"accuracy\"])\n",
    "history = cnn.fit(X_train, \n",
    "                    y_train, \n",
    "                    epochs=n_epochs, \n",
    "                    batch_size=train_size//n_steps_epoch, \n",
    "                    steps_per_epoch=n_steps_epoch,\n",
    "                    validation_data=(X_test, y_test))\n",
    "y_pred = cnn.predict(X_test)\n",
    "\n",
    "n_test = X_test.shape[0]\n",
    "y_pred = y_pred.reshape(1, y_pred.shape[0]); y_pred = y_pred[0]"
   ]
  },
  {
   "cell_type": "code",
   "execution_count": 34,
   "id": "7d7adbae",
   "metadata": {},
   "outputs": [
    {
     "name": "stdout",
     "output_type": "stream",
     "text": [
      "26/26 [==============================] - 0s 2ms/step - loss: 0.2317 - accuracy: 0.6276\n",
      "\n",
      "Final loss over test set: 0.2317\n",
      "Final acccuracy over test set: 62.76%\n",
      "\n"
     ]
    },
    {
     "data": {
      "image/png": "[encoded data removed]",
      "text/plain": [
       "<Figure size 432x288 with 1 Axes>"
      ]
     },
     "metadata": {
      "needs_background": "light"
     },
     "output_type": "display_data"
    }
   ],
   "source": [
    "test_loss, test_acc = cnn.evaluate(X_test, y_test)\n",
    "print(f\"\\nFinal loss over test set: {test_loss:.4f}\\n\\\n",
    "Final acccuracy over test set: {test_acc*100:.2f}%\\n\")\n",
    "\n",
    "plt.plot(history.history[\"accuracy\"])\n",
    "plt.plot(history.history[\"val_accuracy\"])\n",
    "plt.show()"
   ]
  }
 ],
 "metadata": {
  "kernelspec": {
   "display_name": "Python 3 (ipykernel)",
   "language": "python",
   "name": "python3"
  },
  "language_info": {
   "codemirror_mode": {
    "name": "ipython",
    "version": 3
   },
   "file_extension": ".py",
   "mimetype": "text/x-python",
   "name": "python",
   "nbconvert_exporter": "python",
   "pygments_lexer": "ipython3",
   "version": "3.10.4"
  }
 },
 "nbformat": 4,
 "nbformat_minor": 5
}
