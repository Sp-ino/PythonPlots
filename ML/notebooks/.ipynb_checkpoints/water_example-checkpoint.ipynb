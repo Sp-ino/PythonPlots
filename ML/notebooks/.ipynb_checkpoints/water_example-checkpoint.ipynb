{
 "cells": [
  {
   "cell_type": "markdown",
   "id": "e1197555",
   "metadata": {},
   "source": [
    "# Example of classification on water dataset"
   ]
  },
  {
   "cell_type": "markdown",
   "id": "00ea98c2",
   "metadata": {},
   "source": [
    "### Importing dependencies and loading dataset"
   ]
  },
  {
   "cell_type": "code",
   "execution_count": null,
   "id": "215fc9f2",
   "metadata": {},
   "outputs": [],
   "source": [
    "# Write your code here\n",
    "import seaborn as sb\n",
    "import matplotlib.pyplot as plt\n",
    "import numpy as np\n",
    "import pandas as pd\n",
    "from sklearn.preprocessing import StandardScaler"
   ]
  },
  {
   "cell_type": "code",
   "execution_count": null,
   "id": "6fadcdbf",
   "metadata": {},
   "outputs": [],
   "source": [
    "path = \"water_potability.csv\"\n",
    "\n",
    "data = pd.read_csv(path)\n",
    "print(data[:][0:10])"
   ]
  },
  {
   "cell_type": "code",
   "execution_count": null,
   "id": "6f24da7b",
   "metadata": {},
   "outputs": [],
   "source": [
    "# Normalize\n",
    "mu = inputs.mean()\n",
    "sigma = inputs.std()\n",
    "inputs = (inputs - mu)/sigma)\n",
    "\n",
    "print(\"Mean and std dev after normalization:\")\n",
    "print(\"Mean: \\n\", np.mean(inputs))\n",
    "print(\"\\nStd dev: \\n\", np.std(inputs))\n",
    "\n",
    "inputs = inputs.to_numpy()\n",
    "outputs = outputs.to_numpy()"
   ]
  },
  {
   "cell_type": "code",
   "execution_count": null,
   "id": "e32fa4c0",
   "metadata": {},
   "outputs": [],
   "source": [
    "from sklearn.model_selection import train_test_split\n",
    "\n",
    "train_size = X_train.shape[0]\n",
    "test_size = X_test.shape[0]\n",
    "\n",
    "# split data with train_test_split from sklearn (provides data shuffling which is very useful)\n",
    "X_train, X_test, y_train, y_test = train_test_split(inputs, outputs, test_size=0.25, random_state=3, shuffle=True)"
   ]
  },
  {
   "cell_type": "markdown",
   "id": "9d24c7b2",
   "metadata": {},
   "source": [
    "### Benchmark given by gaussian bayes naive classifier"
   ]
  },
  {
   "cell_type": "code",
   "execution_count": null,
   "id": "c2f4571d",
   "metadata": {},
   "outputs": [],
   "source": [
    "from sklearn.naive_bayes import GaussianNB\n",
    "\n",
    "gnb = GaussianNB()\n",
    "\n",
    "# fit() returns the object itself, so I can immediately call predict() on the test set\n",
    "y_pred = gnb.fit(X_train, y_train).predict(X_test)\n",
    "\n",
    "n_test = X_test.shape[0]\n",
    "n_success = (y_test == y_pred).sum()\n",
    "print(f\"Number of correctly labeled points out of a total {n_test} points : {n_success}\")\n",
    "print(f\"Test success rate: {n_success/n_test*100}%\")"
   ]
  }
 ],
 "metadata": {
  "kernelspec": {
   "display_name": "Python 3 (ipykernel)",
   "language": "python",
   "name": "python3"
  },
  "language_info": {
   "codemirror_mode": {
    "name": "ipython",
    "version": 3
   },
   "file_extension": ".py",
   "mimetype": "text/x-python",
   "name": "python",
   "nbconvert_exporter": "python",
   "pygments_lexer": "ipython3",
   "version": "3.10.4"
  }
 },
 "nbformat": 4,
 "nbformat_minor": 5
}
