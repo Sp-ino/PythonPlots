{
 "cells": [
  {
   "cell_type": "markdown",
   "id": "0650582e",
   "metadata": {},
   "source": [
    "# Example of classification on water dataset"
   ]
  },
  {
   "cell_type": "markdown",
   "id": "246146b8",
   "metadata": {},
   "source": [
    "### Importing dependencies and loading dataset"
   ]
  },
  {
   "cell_type": "code",
   "execution_count": 24,
   "id": "215fc9f2",
   "metadata": {},
   "outputs": [],
   "source": [
    "# Write your code here\n",
    "import seaborn as sb\n",
    "import matplotlib.pyplot as plt\n",
    "import numpy as np\n",
    "import pandas as pd\n",
    "from sklearn.preprocessing import StandardScaler\n",
    "import tensorflow as tf"
   ]
  },
  {
   "cell_type": "code",
   "execution_count": 25,
   "id": "24c5f2db",
   "metadata": {},
   "outputs": [
    {
     "name": "stdout",
     "output_type": "stream",
     "text": [
      "          ph    Hardness        Solids  Chloramines     Sulfate  Conductivity  \\\n",
      "0        NaN  204.890455  20791.318981     7.300212  368.516441    564.308654   \n",
      "1   3.716080  129.422921  18630.057858     6.635246         NaN    592.885359   \n",
      "2   8.099124  224.236259  19909.541732     9.275884         NaN    418.606213   \n",
      "3   8.316766  214.373394  22018.417441     8.059332  356.886136    363.266516   \n",
      "4   9.092223  181.101509  17978.986339     6.546600  310.135738    398.410813   \n",
      "5   5.584087  188.313324  28748.687739     7.544869  326.678363    280.467916   \n",
      "6  10.223862  248.071735  28749.716544     7.513408  393.663396    283.651634   \n",
      "7   8.635849  203.361523  13672.091764     4.563009  303.309771    474.607645   \n",
      "8        NaN  118.988579  14285.583854     7.804174  268.646941    389.375566   \n",
      "9  11.180284  227.231469  25484.508491     9.077200  404.041635    563.885481   \n",
      "\n",
      "   Organic_carbon  Trihalomethanes  Turbidity  Potability  \n",
      "0       10.379783        86.990970   2.963135           0  \n",
      "1       15.180013        56.329076   4.500656           0  \n",
      "2       16.868637        66.420093   3.055934           0  \n",
      "3       18.436524       100.341674   4.628771           0  \n",
      "4       11.558279        31.997993   4.075075           0  \n",
      "5        8.399735        54.917862   2.559708           0  \n",
      "6       13.789695        84.603556   2.672989           0  \n",
      "7       12.363817        62.798309   4.401425           0  \n",
      "8       12.706049        53.928846   3.595017           0  \n",
      "9       17.927806        71.976601   4.370562           0  \n"
     ]
    }
   ],
   "source": [
    "path = \"water_potability.csv\"\n",
    "\n",
    "data = pd.read_csv(path)\n",
    "print(data[:][0:10])"
   ]
  },
  {
   "cell_type": "code",
   "execution_count": 26,
   "id": "de202bcf",
   "metadata": {},
   "outputs": [],
   "source": [
    "#Handle NaN values and split into inputs and outputs\n",
    "inputs, outputs = data.iloc[:, 0:9], data.iloc[:, 9]\n",
    "inputs = inputs.fillna(inputs.mean())\n",
    "data = data.fillna(data.mean())"
   ]
  },
  {
   "cell_type": "code",
   "execution_count": 27,
   "id": "692e183d",
   "metadata": {},
   "outputs": [
    {
     "name": "stdout",
     "output_type": "stream",
     "text": [
      "Mean and std dev after normalization:\n",
      "Mean: \n",
      " ph                -4.674052e-16\n",
      "Hardness           1.025906e-15\n",
      "Solids            -4.554761e-17\n",
      "Chloramines        5.205441e-16\n",
      "Sulfate            1.591997e-15\n",
      "Conductivity       1.756836e-16\n",
      "Organic_carbon     1.735147e-17\n",
      "Trihalomethanes    1.713458e-16\n",
      "Turbidity          5.552471e-16\n",
      "dtype: float64\n",
      "\n",
      "Std dev: \n",
      " ph                 0.999847\n",
      "Hardness           0.999847\n",
      "Solids             0.999847\n",
      "Chloramines        0.999847\n",
      "Sulfate            0.999847\n",
      "Conductivity       0.999847\n",
      "Organic_carbon     0.999847\n",
      "Trihalomethanes    0.999847\n",
      "Turbidity          0.999847\n",
      "dtype: float64\n"
     ]
    },
    {
     "name": "stderr",
     "output_type": "stream",
     "text": [
      "/usr/lib/python3.10/site-packages/numpy/core/fromnumeric.py:3472: FutureWarning: In a future version, DataFrame.mean(axis=None) will return a scalar mean over the entire DataFrame. To retain the old behavior, use 'frame.mean(axis=0)' or just 'frame.mean()'\n",
      "  return mean(axis=axis, dtype=dtype, out=out, **kwargs)\n"
     ]
    }
   ],
   "source": [
    "# Normalize\n",
    "mu = inputs.mean()\n",
    "sigma = inputs.std()\n",
    "inputs = (inputs - mu)/sigma\n",
    "\n",
    "print(\"Mean and std dev after normalization:\")\n",
    "print(\"Mean: \\n\", np.mean(inputs))\n",
    "print(\"\\nStd dev: \\n\", np.std(inputs))\n",
    "\n",
    "inputs = inputs.to_numpy()\n",
    "outputs = outputs.to_numpy()"
   ]
  },
  {
   "cell_type": "code",
   "execution_count": 28,
   "id": "b2590b81",
   "metadata": {},
   "outputs": [],
   "source": [
    "from sklearn.model_selection import train_test_split\n",
    "\n",
    "# split data with train_test_split from sklearn (provides data shuffling which is very useful)\n",
    "X_train, X_test, y_train, y_test = train_test_split(inputs, outputs, test_size=0.25, random_state=3, shuffle=True)\n",
    "\n",
    "train_size = X_train.shape[0]\n",
    "test_size = X_test.shape[0]"
   ]
  },
  {
   "cell_type": "markdown",
   "id": "e6f2cb59",
   "metadata": {},
   "source": [
    "### Benchmark given by gaussian bayes naive classifier"
   ]
  },
  {
   "cell_type": "code",
   "execution_count": 29,
   "id": "8930da41",
   "metadata": {},
   "outputs": [
    {
     "name": "stdout",
     "output_type": "stream",
     "text": [
      "Number of correctly labeled points out of a total 819 points : 509\n",
      "Test success rate: 62.14896214896215%\n"
     ]
    }
   ],
   "source": [
    "from sklearn.naive_bayes import GaussianNB\n",
    "\n",
    "gnb = GaussianNB()\n",
    "\n",
    "# fit() returns the object itself, so I can immediately call predict() on the test set\n",
    "y_pred = gnb.fit(X_train, y_train).predict(X_test)\n",
    "\n",
    "n_test = X_test.shape[0]\n",
    "n_success = (y_test == y_pred).sum()\n",
    "print(f\"Number of correctly labeled points out of a total {n_test} points : {n_success}\")\n",
    "print(f\"Test success rate: {n_success/n_test*100}%\")"
   ]
  },
  {
   "cell_type": "markdown",
   "id": "e3a8762a",
   "metadata": {},
   "source": [
    "### Experiments with convolutional layers in tensorflow"
   ]
  },
  {
   "cell_type": "code",
   "execution_count": 52,
   "id": "19f7a39a",
   "metadata": {},
   "outputs": [
    {
     "name": "stdout",
     "output_type": "stream",
     "text": [
      "input shape:  (1, 13, 1)\n",
      "tf.Tensor(\n",
      "[[[-1.3594038]\n",
      "  [-2.6634808]\n",
      "  [-3.9675577]\n",
      "  [-5.2716346]\n",
      "  [-6.5757113]\n",
      "  [-6.495521 ]\n",
      "  [-6.4650574]\n",
      "  [-5.1609807]\n",
      "  [-3.8569038]\n",
      "  [-2.552827 ]\n",
      "  [-1.24875  ]]], shape=(1, 11, 1), dtype=float32)\n"
     ]
    }
   ],
   "source": [
    "a = np.array([[[0,1,2,3,4,5,6,5,4,3,2,1,0]]], dtype='float').reshape(1,13,1)\n",
    "input_sh = a.shape\n",
    "print(\"input shape: \", input_sh)\n",
    "\n",
    "\"\"\" First number is number of output channels, second number is kernel size\n",
    "IMPORTANT: the input convolutional layer of a NN  in tensorflow expects at least a 3rd order tensor where:\n",
    " - First dimension is batch size\n",
    " - Second dimension is the dimension that is convoluted\n",
    " - Third dimension is number of input channels\n",
    " \n",
    "IMPORTANT2: the input convolutional layer of a NN takes an input_shape argument that provides the input size:\n",
    "input_shape=(dimension that is convoluted, number of input channels)\n",
    "\"\"\"\n",
    "y = tf.keras.layers.Conv1D(1, 3, input_shape=input_sh[1:])(a)\n",
    "print(y)"
   ]
  },
  {
   "cell_type": "code",
   "execution_count": null,
   "id": "393db30d",
   "metadata": {},
   "outputs": [],
   "source": []
  }
 ],
 "metadata": {
  "kernelspec": {
   "display_name": "Python 3 (ipykernel)",
   "language": "python",
   "name": "python3"
  },
  "language_info": {
   "codemirror_mode": {
    "name": "ipython",
    "version": 3
   },
   "file_extension": ".py",
   "mimetype": "text/x-python",
   "name": "python",
   "nbconvert_exporter": "python",
   "pygments_lexer": "ipython3",
   "version": "3.10.4"
  }
 },
 "nbformat": 4,
 "nbformat_minor": 5
}
